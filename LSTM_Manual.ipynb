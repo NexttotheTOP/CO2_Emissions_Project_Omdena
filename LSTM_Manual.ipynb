{
 "cells": [
  {
   "cell_type": "markdown",
   "id": "03e0f7c3-97ac-4515-b53a-fd01ac0fbb8a",
   "metadata": {
    "editable": true,
    "jp-MarkdownHeadingCollapsed": true,
    "slideshow": {
     "slide_type": ""
    },
    "tags": []
   },
   "source": [
    "# Packages"
   ]
  },
  {
   "cell_type": "code",
   "execution_count": 1,
   "id": "ca555c99-7467-4ad6-be11-ca932c404c51",
   "metadata": {
    "editable": true,
    "slideshow": {
     "slide_type": ""
    },
    "tags": []
   },
   "outputs": [],
   "source": [
    "import pandas as pd \n",
    "import numpy as np"
   ]
  },
  {
   "cell_type": "code",
   "execution_count": 2,
   "id": "198e1b9e-5d9d-4b02-92ac-f99da4dcbfb9",
   "metadata": {},
   "outputs": [],
   "source": [
    "from sklearn.preprocessing import StandardScaler\n",
    "from sklearn.preprocessing import MinMaxScaler"
   ]
  },
  {
   "cell_type": "code",
   "execution_count": 3,
   "id": "9f959a30-9afc-4a7b-ba75-c12677dad13d",
   "metadata": {},
   "outputs": [],
   "source": [
    "from keras.layers import LSTM"
   ]
  },
  {
   "cell_type": "code",
   "execution_count": 4,
   "id": "e315e628-bf05-4931-a91b-aa34c2df0379",
   "metadata": {},
   "outputs": [],
   "source": [
    "from keras.models import Model"
   ]
  },
  {
   "cell_type": "code",
   "execution_count": 5,
   "id": "ceea40f0-a398-400d-831f-c861ea40aaa0",
   "metadata": {},
   "outputs": [],
   "source": [
    "from keras.layers import Dense, Input, Dropout\n",
    "from keras.models import Sequential"
   ]
  },
  {
   "cell_type": "code",
   "execution_count": null,
   "id": "e7f0f1f0-ed77-4ebf-8f90-bde0522a5963",
   "metadata": {},
   "outputs": [],
   "source": []
  },
  {
   "cell_type": "markdown",
   "id": "5b9d7d6c-0ca8-4551-a131-afd301c0c13e",
   "metadata": {
    "editable": true,
    "jp-MarkdownHeadingCollapsed": true,
    "slideshow": {
     "slide_type": ""
    },
    "tags": []
   },
   "source": [
    "# Dataset"
   ]
  },
  {
   "cell_type": "code",
   "execution_count": 7,
   "id": "9a8cd29d-5502-4094-8215-57756b663537",
   "metadata": {
    "editable": true,
    "slideshow": {
     "slide_type": ""
    },
    "tags": []
   },
   "outputs": [],
   "source": [
    "df = pd.read_csv('DataSets /WORLD-OWID-Features')"
   ]
  },
  {
   "cell_type": "code",
   "execution_count": 8,
   "id": "65a52058-413e-412c-b6be-044c0f3dd159",
   "metadata": {},
   "outputs": [],
   "source": [
    "#df['Date'] = pd.to_datetime(df['date'], format=\"%Y-%m-%d\")"
   ]
  },
  {
   "cell_type": "code",
   "execution_count": 9,
   "id": "3608e1a2-89ed-4eff-99ff-3e5792257fbc",
   "metadata": {},
   "outputs": [],
   "source": [
    "df = df.set_index('year')"
   ]
  },
  {
   "cell_type": "code",
   "execution_count": 10,
   "id": "b089a06f-e3c8-4f17-8bcf-7c0d61eeed55",
   "metadata": {},
   "outputs": [
    {
     "data": {
      "text/html": [
       "<div>\n",
       "<style scoped>\n",
       "    .dataframe tbody tr th:only-of-type {\n",
       "        vertical-align: middle;\n",
       "    }\n",
       "\n",
       "    .dataframe tbody tr th {\n",
       "        vertical-align: top;\n",
       "    }\n",
       "\n",
       "    .dataframe thead th {\n",
       "        text-align: right;\n",
       "    }\n",
       "</style>\n",
       "<table border=\"1\" class=\"dataframe\">\n",
       "  <thead>\n",
       "    <tr style=\"text-align: right;\">\n",
       "      <th></th>\n",
       "      <th>cement_co2</th>\n",
       "      <th>co2</th>\n",
       "      <th>coal_co2</th>\n",
       "      <th>flaring_co2</th>\n",
       "      <th>gas_co2</th>\n",
       "      <th>land_use_change_co2</th>\n",
       "      <th>oil_co2</th>\n",
       "      <th>other_industry_co2</th>\n",
       "    </tr>\n",
       "    <tr>\n",
       "      <th>year</th>\n",
       "      <th></th>\n",
       "      <th></th>\n",
       "      <th></th>\n",
       "      <th></th>\n",
       "      <th></th>\n",
       "      <th></th>\n",
       "      <th></th>\n",
       "      <th></th>\n",
       "    </tr>\n",
       "  </thead>\n",
       "  <tbody>\n",
       "    <tr>\n",
       "      <th>1750</th>\n",
       "      <td>317.372711</td>\n",
       "      <td>9.351</td>\n",
       "      <td>9.351</td>\n",
       "      <td>256.309556</td>\n",
       "      <td>1814.698707</td>\n",
       "      <td>4316.805465</td>\n",
       "      <td>3625.609168</td>\n",
       "      <td>82.069576</td>\n",
       "    </tr>\n",
       "    <tr>\n",
       "      <th>1751</th>\n",
       "      <td>317.372711</td>\n",
       "      <td>9.351</td>\n",
       "      <td>9.351</td>\n",
       "      <td>256.309556</td>\n",
       "      <td>1814.698707</td>\n",
       "      <td>4316.805465</td>\n",
       "      <td>3625.609168</td>\n",
       "      <td>82.069576</td>\n",
       "    </tr>\n",
       "    <tr>\n",
       "      <th>1752</th>\n",
       "      <td>317.372711</td>\n",
       "      <td>9.354</td>\n",
       "      <td>9.354</td>\n",
       "      <td>256.309556</td>\n",
       "      <td>1814.698707</td>\n",
       "      <td>4316.805465</td>\n",
       "      <td>3625.609168</td>\n",
       "      <td>82.069576</td>\n",
       "    </tr>\n",
       "    <tr>\n",
       "      <th>1753</th>\n",
       "      <td>317.372711</td>\n",
       "      <td>9.354</td>\n",
       "      <td>9.354</td>\n",
       "      <td>256.309556</td>\n",
       "      <td>1814.698707</td>\n",
       "      <td>4316.805465</td>\n",
       "      <td>3625.609168</td>\n",
       "      <td>82.069576</td>\n",
       "    </tr>\n",
       "    <tr>\n",
       "      <th>1754</th>\n",
       "      <td>317.372711</td>\n",
       "      <td>9.358</td>\n",
       "      <td>9.358</td>\n",
       "      <td>256.309556</td>\n",
       "      <td>1814.698707</td>\n",
       "      <td>4316.805465</td>\n",
       "      <td>3625.609168</td>\n",
       "      <td>82.069576</td>\n",
       "    </tr>\n",
       "  </tbody>\n",
       "</table>\n",
       "</div>"
      ],
      "text/plain": [
       "      cement_co2    co2  coal_co2  flaring_co2      gas_co2  \\\n",
       "year                                                          \n",
       "1750  317.372711  9.351     9.351   256.309556  1814.698707   \n",
       "1751  317.372711  9.351     9.351   256.309556  1814.698707   \n",
       "1752  317.372711  9.354     9.354   256.309556  1814.698707   \n",
       "1753  317.372711  9.354     9.354   256.309556  1814.698707   \n",
       "1754  317.372711  9.358     9.358   256.309556  1814.698707   \n",
       "\n",
       "      land_use_change_co2      oil_co2  other_industry_co2  \n",
       "year                                                        \n",
       "1750          4316.805465  3625.609168           82.069576  \n",
       "1751          4316.805465  3625.609168           82.069576  \n",
       "1752          4316.805465  3625.609168           82.069576  \n",
       "1753          4316.805465  3625.609168           82.069576  \n",
       "1754          4316.805465  3625.609168           82.069576  "
      ]
     },
     "execution_count": 10,
     "metadata": {},
     "output_type": "execute_result"
    }
   ],
   "source": [
    "df.head()"
   ]
  },
  {
   "cell_type": "markdown",
   "id": "54c29d1e-bb71-4c6c-a34d-1e10b9e80235",
   "metadata": {},
   "source": [
    "# Creating our lookback window "
   ]
  },
  {
   "cell_type": "code",
   "execution_count": 6,
   "id": "519dad35-748c-4292-9892-1a2e61628d3b",
   "metadata": {},
   "outputs": [],
   "source": [
    "def LookBackData(data, window):\n",
    "    LookBackData = []\n",
    "    for point in range(window,int(data.shape[0])):\n",
    "        LookBackData.append(list(data.loc[point-window:point-1]))\n",
    "    LookBackData = np.array(LookBackData)\n",
    "    return LookBackData "
   ]
  },
  {
   "cell_type": "markdown",
   "id": "eb06d2bf-31b3-4709-afd3-1bef1f45033f",
   "metadata": {
    "jp-MarkdownHeadingCollapsed": true
   },
   "source": [
    "# defining our X and Y "
   ]
  },
  {
   "cell_type": "code",
   "execution_count": 13,
   "id": "50ddce1b-cb18-45c5-bcaf-3d97e838dd46",
   "metadata": {},
   "outputs": [],
   "source": [
    "window = 5 # Making predictions based on the previous week "
   ]
  },
  {
   "cell_type": "code",
   "execution_count": 16,
   "id": "678b6451-15ee-4044-bab1-856df2605fb9",
   "metadata": {},
   "outputs": [],
   "source": [
    "df_ = df.reset_index()"
   ]
  },
  {
   "cell_type": "code",
   "execution_count": 13,
   "id": "75addf92-cdec-466e-8803-ea79c430a6b7",
   "metadata": {
    "editable": true,
    "slideshow": {
     "slide_type": ""
    },
    "tags": []
   },
   "outputs": [],
   "source": [
    "#df_"
   ]
  },
  {
   "cell_type": "code",
   "execution_count": 14,
   "id": "0dd4a083-c57b-420a-9042-1c9dca75980e",
   "metadata": {
    "editable": true,
    "slideshow": {
     "slide_type": ""
    },
    "tags": []
   },
   "outputs": [
    {
     "data": {
      "text/plain": [
       "(267,)"
      ]
     },
     "execution_count": 14,
     "metadata": {},
     "output_type": "execute_result"
    }
   ],
   "source": [
    "y = df['co2']\n",
    "y_window = y[window:].copy()\n",
    "y_window.shape"
   ]
  },
  {
   "cell_type": "code",
   "execution_count": 17,
   "id": "81bd3f74-f59f-46ac-976a-58194aa5191f",
   "metadata": {},
   "outputs": [
    {
     "data": {
      "text/plain": [
       "(267, 5)"
      ]
     },
     "execution_count": 17,
     "metadata": {},
     "output_type": "execute_result"
    }
   ],
   "source": [
    "X = LookBackData(df_['co2'], window)\n",
    "X.shape"
   ]
  },
  {
   "cell_type": "markdown",
   "id": "04ed9acb-f8bb-4946-8e03-3369a9e61e99",
   "metadata": {
    "editable": true,
    "jp-MarkdownHeadingCollapsed": true,
    "slideshow": {
     "slide_type": ""
    },
    "tags": []
   },
   "source": [
    "# Splitting our data "
   ]
  },
  {
   "cell_type": "code",
   "execution_count": 22,
   "id": "dc958627-16b4-4a89-83db-9d8cc5cb1878",
   "metadata": {},
   "outputs": [],
   "source": [
    "len_test = len(df[df.index > 2000])"
   ]
  },
  {
   "cell_type": "code",
   "execution_count": 23,
   "id": "066961fd-ddc6-467f-b53c-4e6b30222483",
   "metadata": {},
   "outputs": [
    {
     "data": {
      "text/plain": [
       "(246, 5)"
      ]
     },
     "execution_count": 23,
     "metadata": {},
     "output_type": "execute_result"
    }
   ],
   "source": [
    "X_train = X[len_test:]\n",
    "X_train.shape"
   ]
  },
  {
   "cell_type": "code",
   "execution_count": 24,
   "id": "9e1f31b3-4f02-4bcf-a887-90b471a55fa0",
   "metadata": {},
   "outputs": [
    {
     "data": {
      "text/plain": [
       "(21, 5)"
      ]
     },
     "execution_count": 24,
     "metadata": {},
     "output_type": "execute_result"
    }
   ],
   "source": [
    "X_test = X[:len_test]\n",
    "X_test.shape"
   ]
  },
  {
   "cell_type": "code",
   "execution_count": 25,
   "id": "5989798f-7b69-4b6d-a40d-ccacda3a71ab",
   "metadata": {},
   "outputs": [
    {
     "data": {
      "text/plain": [
       "(246,)"
      ]
     },
     "execution_count": 25,
     "metadata": {},
     "output_type": "execute_result"
    }
   ],
   "source": [
    "y_train = y_window[len_test:]\n",
    "y_train.shape"
   ]
  },
  {
   "cell_type": "code",
   "execution_count": 26,
   "id": "a011ad0b-27c0-49ce-8821-7208b25ac4e1",
   "metadata": {},
   "outputs": [
    {
     "data": {
      "text/plain": [
       "(21,)"
      ]
     },
     "execution_count": 26,
     "metadata": {},
     "output_type": "execute_result"
    }
   ],
   "source": [
    "y_test = y_window[:len_test]\n",
    "y_test.shape"
   ]
  },
  {
   "cell_type": "markdown",
   "id": "77b8de61-3284-40c9-9297-41ff5625f839",
   "metadata": {
    "editable": true,
    "slideshow": {
     "slide_type": ""
    },
    "tags": []
   },
   "source": [
    "# Scaling our variables "
   ]
  },
  {
   "cell_type": "code",
   "execution_count": 11,
   "id": "e57607c2-cd86-4321-b3de-4f27ebea552b",
   "metadata": {},
   "outputs": [
    {
     "data": {
      "text/plain": [
       "'scaler = MinMaxScaler(feature_range=(0,1))\\n\\nX_train_Scaled = scaler.fit_transform(X_train)\\nX_test_Scaled = scaler.transform(X_test)\\ny_train_Scaled = scaler.fit_transform(np.array(y_train).reshape(-1, 1))\\ny_test = scaler.transform(np.array(y_test).reshape(-1, 1))'"
      ]
     },
     "execution_count": 11,
     "metadata": {},
     "output_type": "execute_result"
    }
   ],
   "source": [
    "'''scaler = MinMaxScaler(feature_range=(0,1))\n",
    "\n",
    "X_train_Scaled = scaler.fit_transform(X_train)\n",
    "X_test_Scaled = scaler.transform(X_test)\n",
    "y_train_Scaled = scaler.fit_transform(np.array(y_train).reshape(-1, 1))\n",
    "y_test = scaler.transform(np.array(y_test).reshape(-1, 1))'''"
   ]
  },
  {
   "cell_type": "markdown",
   "id": "b1a3c2e3-f6e2-4023-990d-501affa4ce9b",
   "metadata": {
    "jp-MarkdownHeadingCollapsed": true
   },
   "source": [
    "# Evaluation & Visualization Helper Functions"
   ]
  },
  {
   "cell_type": "code",
   "execution_count": 27,
   "id": "f129c0e4-cb25-4de4-80d6-d507c6439a42",
   "metadata": {},
   "outputs": [],
   "source": [
    "def eval_metrics(y_test, y_pred):\n",
    "  R2 = r2_score(y_test, y_pred)\n",
    "  Max_error = max_error(y_test, y_pred)\n",
    "  MAE = mean_absolute_error(y_test, y_pred)\n",
    "  MAPE = mean_absolute_percentage_error(y_test, y_pred)\n",
    "  return R2, Max_error, MAE, MAPE"
   ]
  },
  {
   "cell_type": "code",
   "execution_count": 28,
   "id": "2cb43c36-18c9-4b8c-9350-7143f586f68f",
   "metadata": {},
   "outputs": [],
   "source": [
    "def print_model_results(model_name,y_test,y_pred):\n",
    "    R2, ME, MAE, MAPE = eval_metrics(y_test,y_pred)\n",
    "    print(f'{model_name}:  R^2= {R2:.4f},  ME = {ME:.4f},  MAE = {MAE:.4f},  MAPE = {MAPE:.4f}')\n",
    "    return None"
   ]
  },
  {
   "cell_type": "code",
   "execution_count": 29,
   "id": "bdc5f708-13d7-4e85-990f-49686dc72ff5",
   "metadata": {},
   "outputs": [],
   "source": [
    "def plot_results(model_name,y_test,y_pred):\n",
    "    R2, ME, MAE, MAPE = eval_metrics(y_test,y_pred)\n",
    "    df_plot = pd.DataFrame({'actual':y_test, 'predicted':y_pred})\n",
    "    df_plot = df_plot.reset_index()\n",
    "    df_plot = df_plot.drop(columns=['Year'])\n",
    "    date = pd.date_range(start='2000-01-01', end='2021-01-01')\n",
    "    df_plot = df_plot.set_index(date)\n",
    "    df_plot.plot()\n",
    "    plt.ylabel('MtCO2 Value')\n",
    "    plt.title(f' {model_name}:  R^2= {R2:.4f},  ME = {ME:.4f},  MAE = {MAE:.4f},  MAPE = {MAPE:.4f}')\n",
    "    plt.ylim(84,111)\n",
    "\n",
    "    #file_name =  f'{model_name:}.png'\n",
    "    #plt.savefig(file_name)\n",
    "    return None"
   ]
  },
  {
   "cell_type": "markdown",
   "id": "ec0a0eee-e5c8-403c-98f4-b494e910e38d",
   "metadata": {},
   "source": [
    "# LSTM Autoregressive"
   ]
  },
  {
   "cell_type": "code",
   "execution_count": 23,
   "id": "d6439a3c-dbce-42b6-940f-1e22a72c32b1",
   "metadata": {
    "editable": true,
    "slideshow": {
     "slide_type": ""
    },
    "tags": []
   },
   "outputs": [],
   "source": [
    "input_layer = Input(shape=(7,1), dtype='float32')\n",
    "lstm_layer = LSTM(64, input_shape=(7,1), return_sequences=False)(input_layer)\n",
    "dropout_layer = Dropout(0.2)(lstm_layer)\n",
    "output_layer = Dense(1, activation='linear')(dropout_layer)"
   ]
  },
  {
   "cell_type": "code",
   "execution_count": 24,
   "id": "1f2ce756-7da0-4afb-b9e3-ca33eca0baeb",
   "metadata": {},
   "outputs": [
    {
     "name": "stdout",
     "output_type": "stream",
     "text": [
      "Model: \"model\"\n",
      "_________________________________________________________________\n",
      " Layer (type)                Output Shape              Param #   \n",
      "=================================================================\n",
      " input_1 (InputLayer)        [(None, 7, 1)]            0         \n",
      "                                                                 \n",
      " lstm (LSTM)                 (None, 64)                16896     \n",
      "                                                                 \n",
      " dropout (Dropout)           (None, 64)                0         \n",
      "                                                                 \n",
      " dense (Dense)               (None, 1)                 65        \n",
      "                                                                 \n",
      "=================================================================\n",
      "Total params: 16961 (66.25 KB)\n",
      "Trainable params: 16961 (66.25 KB)\n",
      "Non-trainable params: 0 (0.00 Byte)\n",
      "_________________________________________________________________\n"
     ]
    }
   ],
   "source": [
    "lstm = Model(inputs=input_layer, outputs=output_layer)\n",
    "lstm.compile(loss='mae', optimizer='adam')\n",
    "lstm.summary()"
   ]
  },
  {
   "cell_type": "code",
   "execution_count": 25,
   "id": "c979f978-e253-47f5-8e93-7b81416f3297",
   "metadata": {},
   "outputs": [
    {
     "name": "stdout",
     "output_type": "stream",
     "text": [
      "Epoch 1/20\n",
      "12/12 [==============================] - 1s 3ms/step - loss: 0.1757\n",
      "Epoch 2/20\n",
      "12/12 [==============================] - 0s 1ms/step - loss: 0.1627\n",
      "Epoch 3/20\n",
      "12/12 [==============================] - 0s 1ms/step - loss: 0.1450\n",
      "Epoch 4/20\n",
      "12/12 [==============================] - 0s 1ms/step - loss: 0.1058\n",
      "Epoch 5/20\n",
      "12/12 [==============================] - 0s 1ms/step - loss: 0.0991\n",
      "Epoch 6/20\n",
      "12/12 [==============================] - 0s 1ms/step - loss: 0.0946\n",
      "Epoch 7/20\n",
      "12/12 [==============================] - 0s 1ms/step - loss: 0.0986\n",
      "Epoch 8/20\n",
      "12/12 [==============================] - 0s 1ms/step - loss: 0.0979\n",
      "Epoch 9/20\n",
      "12/12 [==============================] - 0s 1ms/step - loss: 0.0917\n",
      "Epoch 10/20\n",
      "12/12 [==============================] - 0s 1ms/step - loss: 0.0924\n",
      "Epoch 11/20\n",
      "12/12 [==============================] - 0s 1ms/step - loss: 0.0926\n",
      "Epoch 12/20\n",
      "12/12 [==============================] - 0s 1ms/step - loss: 0.0947\n",
      "Epoch 13/20\n",
      "12/12 [==============================] - 0s 1ms/step - loss: 0.0949\n",
      "Epoch 14/20\n",
      "12/12 [==============================] - 0s 1ms/step - loss: 0.0909\n",
      "Epoch 15/20\n",
      "12/12 [==============================] - 0s 1ms/step - loss: 0.0901\n",
      "Epoch 16/20\n",
      "12/12 [==============================] - 0s 1ms/step - loss: 0.0895\n",
      "Epoch 17/20\n",
      "12/12 [==============================] - 0s 1ms/step - loss: 0.0914\n",
      "Epoch 18/20\n",
      "12/12 [==============================] - 0s 1ms/step - loss: 0.0900\n",
      "Epoch 19/20\n",
      "12/12 [==============================] - 0s 1ms/step - loss: 0.0849\n",
      "Epoch 20/20\n",
      "12/12 [==============================] - 0s 1ms/step - loss: 0.0877\n"
     ]
    },
    {
     "data": {
      "text/plain": [
       "<keras.src.callbacks.History at 0x2a9dea390>"
      ]
     },
     "execution_count": 25,
     "metadata": {},
     "output_type": "execute_result"
    }
   ],
   "source": [
    "lstm.fit(X_train_Scaled, y_train_Scaled, epochs=20, batch_size=16, verbose=1)"
   ]
  },
  {
   "cell_type": "code",
   "execution_count": 27,
   "id": "891f31b2-226d-4465-9ff6-a5e2b73f623e",
   "metadata": {
    "editable": true,
    "slideshow": {
     "slide_type": ""
    },
    "tags": []
   },
   "outputs": [
    {
     "name": "stdout",
     "output_type": "stream",
     "text": [
      "3/3 [==============================] - 0s 1ms/step\n"
     ]
    }
   ],
   "source": [
    "pred = lstm.predict(X_test_Scaled)"
   ]
  },
  {
   "cell_type": "code",
   "execution_count": null,
   "id": "d9c4c134-8ab4-46ed-8dd3-644b6374ddd3",
   "metadata": {},
   "outputs": [],
   "source": []
  }
 ],
 "metadata": {
  "kernelspec": {
   "display_name": "Python 3 (ipykernel)",
   "language": "python",
   "name": "python3"
  },
  "language_info": {
   "codemirror_mode": {
    "name": "ipython",
    "version": 3
   },
   "file_extension": ".py",
   "mimetype": "text/x-python",
   "name": "python",
   "nbconvert_exporter": "python",
   "pygments_lexer": "ipython3",
   "version": "3.11.3"
  }
 },
 "nbformat": 4,
 "nbformat_minor": 5
}
