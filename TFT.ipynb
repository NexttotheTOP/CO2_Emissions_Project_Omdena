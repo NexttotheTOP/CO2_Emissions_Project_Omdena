{
 "cells": [
  {
   "cell_type": "markdown",
   "id": "9a2df780-a973-4ebc-8e8e-e094dd327c64",
   "metadata": {},
   "source": [
    "# Temporal Fusion Transformer "
   ]
  },
  {
   "cell_type": "markdown",
   "id": "44aafb64-43ca-48ad-badf-91b6411fa067",
   "metadata": {},
   "source": [
    "https://towardsdatascience.com/temporal-fusion-transformer-time-series-forecasting-with-deep-learning-complete-tutorial-d32c1e51cd91"
   ]
  },
  {
   "cell_type": "markdown",
   "id": "fd61c985-ce1d-484d-8dde-e93121a4cf2c",
   "metadata": {
    "jp-MarkdownHeadingCollapsed": true
   },
   "source": [
    "# Packages "
   ]
  },
  {
   "cell_type": "code",
   "execution_count": 1,
   "id": "7e977066-ede4-430e-8ba6-d15826c3fc30",
   "metadata": {},
   "outputs": [],
   "source": [
    "import numpy as np\n",
    "import pandas as pd\n",
    "from pytorch_forecasting import TimeSeriesDataSet\n",
    "import warnings\n",
    "\n",
    "warnings.filterwarnings(\"ignore\", category=UserWarning)"
   ]
  },
  {
   "cell_type": "code",
   "execution_count": 39,
   "id": "ee81cf59-807e-464a-9e23-c5825f98839f",
   "metadata": {},
   "outputs": [],
   "source": [
    "import pandas as pd\n",
    "import torch\n",
    "import pytorch_lightning as pl\n",
    "import pytorch_forecasting\n",
    "from pytorch_forecasting import TimeSeriesDataSet, TemporalFusionTransformer\n",
    "from pytorch_lightning.callbacks.early_stopping import EarlyStopping\n",
    "from pytorch_lightning.callbacks import LearningRateMonitor\n",
    "from torch import optim\n",
    "from pytorch_forecasting.metrics import QuantileLoss\n",
    "from pytorch_forecasting.metrics import QuantileLoss\n",
    "from torch.utils.data import DataLoader, Dataset"
   ]
  },
  {
   "cell_type": "markdown",
   "id": "02978f00-8e3b-4bd1-9108-b2c216dc5878",
   "metadata": {
    "editable": true,
    "jp-MarkdownHeadingCollapsed": true,
    "slideshow": {
     "slide_type": ""
    },
    "tags": []
   },
   "source": [
    "# Data "
   ]
  },
  {
   "cell_type": "code",
   "execution_count": 3,
   "id": "01c19bd5-6358-495b-997d-ba03bf604e6f",
   "metadata": {},
   "outputs": [],
   "source": [
    "#!pip install pytorch-forecasting"
   ]
  },
  {
   "cell_type": "markdown",
   "id": "48cb62d8-22f7-42df-b4bb-04ff71107169",
   "metadata": {},
   "source": [
    "Error downloading packages in regular envirenment, switched to new env "
   ]
  },
  {
   "cell_type": "code",
   "execution_count": 4,
   "id": "3ab047c9-ceb6-4277-8822-a39931a3b09b",
   "metadata": {},
   "outputs": [],
   "source": [
    "# df = pd.read_csv('DataSets /carbonmonitor-global_datas_2023-07-21_WORLD_Sectors.csv', parse_dates=['date'], index_col='date')\n",
    "df = pd.read_csv('DataSets /carbonmonitor-global_datas_2023-07-21_WORLD_Sectors.csv')"
   ]
  },
  {
   "cell_type": "code",
   "execution_count": 5,
   "id": "2a754150-f364-4c8e-8591-09d3412502aa",
   "metadata": {},
   "outputs": [],
   "source": [
    "#df = df[['date', 'all_sectors', 'power']]"
   ]
  },
  {
   "cell_type": "code",
   "execution_count": 6,
   "id": "e0650e31-f9df-49b0-9c99-941fc6724074",
   "metadata": {
    "editable": true,
    "slideshow": {
     "slide_type": ""
    },
    "tags": []
   },
   "outputs": [
    {
     "data": {
      "text/html": [
       "<div>\n",
       "<style scoped>\n",
       "    .dataframe tbody tr th:only-of-type {\n",
       "        vertical-align: middle;\n",
       "    }\n",
       "\n",
       "    .dataframe tbody tr th {\n",
       "        vertical-align: top;\n",
       "    }\n",
       "\n",
       "    .dataframe thead th {\n",
       "        text-align: right;\n",
       "    }\n",
       "</style>\n",
       "<table border=\"1\" class=\"dataframe\">\n",
       "  <thead>\n",
       "    <tr style=\"text-align: right;\">\n",
       "      <th></th>\n",
       "      <th>date</th>\n",
       "      <th>power</th>\n",
       "      <th>industry</th>\n",
       "      <th>ground_transport</th>\n",
       "      <th>residential</th>\n",
       "      <th>domestic_aviation</th>\n",
       "      <th>international_aviation</th>\n",
       "      <th>all_sectors</th>\n",
       "    </tr>\n",
       "  </thead>\n",
       "  <tbody>\n",
       "    <tr>\n",
       "      <th>0</th>\n",
       "      <td>2019-01-01</td>\n",
       "      <td>36.8332</td>\n",
       "      <td>25.4477</td>\n",
       "      <td>14.1566</td>\n",
       "      <td>18.38330</td>\n",
       "      <td>0.835247</td>\n",
       "      <td>1.48500</td>\n",
       "      <td>97.141047</td>\n",
       "    </tr>\n",
       "    <tr>\n",
       "      <th>1</th>\n",
       "      <td>2019-01-02</td>\n",
       "      <td>39.1125</td>\n",
       "      <td>26.9663</td>\n",
       "      <td>15.6887</td>\n",
       "      <td>18.79470</td>\n",
       "      <td>0.974611</td>\n",
       "      <td>1.62415</td>\n",
       "      <td>103.160961</td>\n",
       "    </tr>\n",
       "    <tr>\n",
       "      <th>2</th>\n",
       "      <td>2019-01-03</td>\n",
       "      <td>39.7868</td>\n",
       "      <td>27.2615</td>\n",
       "      <td>17.3509</td>\n",
       "      <td>18.55170</td>\n",
       "      <td>1.012280</td>\n",
       "      <td>1.66784</td>\n",
       "      <td>105.631020</td>\n",
       "    </tr>\n",
       "    <tr>\n",
       "      <th>3</th>\n",
       "      <td>2019-01-04</td>\n",
       "      <td>40.4257</td>\n",
       "      <td>28.0069</td>\n",
       "      <td>17.3865</td>\n",
       "      <td>18.39490</td>\n",
       "      <td>0.998781</td>\n",
       "      <td>1.68985</td>\n",
       "      <td>106.902631</td>\n",
       "    </tr>\n",
       "    <tr>\n",
       "      <th>4</th>\n",
       "      <td>2019-01-05</td>\n",
       "      <td>39.1776</td>\n",
       "      <td>27.0486</td>\n",
       "      <td>16.1779</td>\n",
       "      <td>17.62490</td>\n",
       "      <td>0.917965</td>\n",
       "      <td>1.73837</td>\n",
       "      <td>102.685335</td>\n",
       "    </tr>\n",
       "    <tr>\n",
       "      <th>...</th>\n",
       "      <td>...</td>\n",
       "      <td>...</td>\n",
       "      <td>...</td>\n",
       "      <td>...</td>\n",
       "      <td>...</td>\n",
       "      <td>...</td>\n",
       "      <td>...</td>\n",
       "      <td>...</td>\n",
       "    </tr>\n",
       "    <tr>\n",
       "      <th>1607</th>\n",
       "      <td>2023-05-27</td>\n",
       "      <td>34.9259</td>\n",
       "      <td>29.8055</td>\n",
       "      <td>18.1843</td>\n",
       "      <td>5.52400</td>\n",
       "      <td>0.931902</td>\n",
       "      <td>1.65229</td>\n",
       "      <td>91.023892</td>\n",
       "    </tr>\n",
       "    <tr>\n",
       "      <th>1608</th>\n",
       "      <td>2023-05-28</td>\n",
       "      <td>34.0203</td>\n",
       "      <td>29.1464</td>\n",
       "      <td>15.9872</td>\n",
       "      <td>5.37561</td>\n",
       "      <td>0.904233</td>\n",
       "      <td>1.62929</td>\n",
       "      <td>87.063033</td>\n",
       "    </tr>\n",
       "    <tr>\n",
       "      <th>1609</th>\n",
       "      <td>2023-05-29</td>\n",
       "      <td>35.5270</td>\n",
       "      <td>30.4091</td>\n",
       "      <td>16.1092</td>\n",
       "      <td>5.38921</td>\n",
       "      <td>0.965610</td>\n",
       "      <td>1.58654</td>\n",
       "      <td>89.986660</td>\n",
       "    </tr>\n",
       "    <tr>\n",
       "      <th>1610</th>\n",
       "      <td>2023-05-30</td>\n",
       "      <td>37.1301</td>\n",
       "      <td>31.7332</td>\n",
       "      <td>17.7775</td>\n",
       "      <td>5.39125</td>\n",
       "      <td>0.959809</td>\n",
       "      <td>1.55845</td>\n",
       "      <td>94.550309</td>\n",
       "    </tr>\n",
       "    <tr>\n",
       "      <th>1611</th>\n",
       "      <td>2023-05-31</td>\n",
       "      <td>37.8323</td>\n",
       "      <td>32.2888</td>\n",
       "      <td>19.3203</td>\n",
       "      <td>5.30311</td>\n",
       "      <td>0.959809</td>\n",
       "      <td>1.55845</td>\n",
       "      <td>97.262769</td>\n",
       "    </tr>\n",
       "  </tbody>\n",
       "</table>\n",
       "<p>1612 rows × 8 columns</p>\n",
       "</div>"
      ],
      "text/plain": [
       "            date    power  industry  ground_transport  residential  \\\n",
       "0     2019-01-01  36.8332   25.4477           14.1566     18.38330   \n",
       "1     2019-01-02  39.1125   26.9663           15.6887     18.79470   \n",
       "2     2019-01-03  39.7868   27.2615           17.3509     18.55170   \n",
       "3     2019-01-04  40.4257   28.0069           17.3865     18.39490   \n",
       "4     2019-01-05  39.1776   27.0486           16.1779     17.62490   \n",
       "...          ...      ...       ...               ...          ...   \n",
       "1607  2023-05-27  34.9259   29.8055           18.1843      5.52400   \n",
       "1608  2023-05-28  34.0203   29.1464           15.9872      5.37561   \n",
       "1609  2023-05-29  35.5270   30.4091           16.1092      5.38921   \n",
       "1610  2023-05-30  37.1301   31.7332           17.7775      5.39125   \n",
       "1611  2023-05-31  37.8323   32.2888           19.3203      5.30311   \n",
       "\n",
       "      domestic_aviation  international_aviation  all_sectors  \n",
       "0              0.835247                 1.48500    97.141047  \n",
       "1              0.974611                 1.62415   103.160961  \n",
       "2              1.012280                 1.66784   105.631020  \n",
       "3              0.998781                 1.68985   106.902631  \n",
       "4              0.917965                 1.73837   102.685335  \n",
       "...                 ...                     ...          ...  \n",
       "1607           0.931902                 1.65229    91.023892  \n",
       "1608           0.904233                 1.62929    87.063033  \n",
       "1609           0.965610                 1.58654    89.986660  \n",
       "1610           0.959809                 1.55845    94.550309  \n",
       "1611           0.959809                 1.55845    97.262769  \n",
       "\n",
       "[1612 rows x 8 columns]"
      ]
     },
     "execution_count": 6,
     "metadata": {},
     "output_type": "execute_result"
    }
   ],
   "source": [
    "df"
   ]
  },
  {
   "cell_type": "markdown",
   "id": "6086a13c-7e3e-43ab-85b2-fc360a348b1b",
   "metadata": {
    "jp-MarkdownHeadingCollapsed": true
   },
   "source": [
    "# Preproccesing Data"
   ]
  },
  {
   "cell_type": "code",
   "execution_count": 7,
   "id": "44d07667-151b-46a2-bb36-c718f458fca6",
   "metadata": {},
   "outputs": [],
   "source": [
    "df['date'] = pd.to_datetime(df['date'])"
   ]
  },
  {
   "cell_type": "code",
   "execution_count": 8,
   "id": "d5db348c-c510-48ab-b016-057951d0c1c0",
   "metadata": {},
   "outputs": [],
   "source": [
    "#df['date2'] = df['date'].copy()"
   ]
  },
  {
   "cell_type": "code",
   "execution_count": 9,
   "id": "f4b9c904-97a9-4f65-bfc7-f38d0754cd5b",
   "metadata": {},
   "outputs": [],
   "source": [
    "df['date2'] = (df['date'] - df['date'].iloc[0]).dt.days"
   ]
  },
  {
   "cell_type": "code",
   "execution_count": 10,
   "id": "8ef1f19d-2cbf-4e25-a2fb-59a511d7edbc",
   "metadata": {},
   "outputs": [],
   "source": [
    "df.set_index('date', inplace=True)"
   ]
  },
  {
   "cell_type": "code",
   "execution_count": 11,
   "id": "651fdf7c-8ff1-4fcc-854c-2ac296ca86cb",
   "metadata": {},
   "outputs": [],
   "source": [
    "#df['date2'] = pd.to_datetime(df['date2'])"
   ]
  },
  {
   "cell_type": "code",
   "execution_count": 12,
   "id": "eb68db22-45f4-4b4a-bb7e-387ed8c6534d",
   "metadata": {},
   "outputs": [],
   "source": [
    "df['group'] = 0"
   ]
  },
  {
   "cell_type": "code",
   "execution_count": 13,
   "id": "e614426a-907d-49e7-afda-63b332f86bdb",
   "metadata": {},
   "outputs": [],
   "source": [
    "all_sectors_values = df['all_sectors'].values\n",
    "power_values = df['power'].values"
   ]
  },
  {
   "cell_type": "code",
   "execution_count": 14,
   "id": "3fc3bd11-8e12-41c4-a9b6-f525f34b7e24",
   "metadata": {},
   "outputs": [],
   "source": [
    "rows = 1612\n",
    "batch_size = 220\n",
    "seq_length = 7\n",
    "\n",
    "num_batches = len(all_sectors_values) // (batch_size * seq_length)\n",
    "\n",
    "num_samples_in_batches = num_batches * batch_size * seq_length"
   ]
  },
  {
   "cell_type": "code",
   "execution_count": 15,
   "id": "ad717a87-5328-40b0-9f55-1767c395872c",
   "metadata": {},
   "outputs": [],
   "source": [
    "all_sectors_values = all_sectors_values[:num_samples_in_batches]\n",
    "power_values = power_values[:num_samples_in_batches]"
   ]
  },
  {
   "cell_type": "code",
   "execution_count": 16,
   "id": "1ffecca5-d5fd-4218-b335-214af7e8235e",
   "metadata": {
    "editable": true,
    "slideshow": {
     "slide_type": ""
    },
    "tags": []
   },
   "outputs": [],
   "source": [
    "reshaped_all_sectors = all_sectors_values.reshape(num_batches, batch_size, seq_length)\n",
    "reshaped_power = power_values.reshape(num_batches, batch_size, seq_length)"
   ]
  },
  {
   "cell_type": "code",
   "execution_count": 17,
   "id": "f4c60d22-7461-4f70-b887-a9be1bd2eeea",
   "metadata": {},
   "outputs": [
    {
     "data": {
      "text/html": [
       "<div>\n",
       "<style scoped>\n",
       "    .dataframe tbody tr th:only-of-type {\n",
       "        vertical-align: middle;\n",
       "    }\n",
       "\n",
       "    .dataframe tbody tr th {\n",
       "        vertical-align: top;\n",
       "    }\n",
       "\n",
       "    .dataframe thead th {\n",
       "        text-align: right;\n",
       "    }\n",
       "</style>\n",
       "<table border=\"1\" class=\"dataframe\">\n",
       "  <thead>\n",
       "    <tr style=\"text-align: right;\">\n",
       "      <th></th>\n",
       "      <th>power</th>\n",
       "      <th>industry</th>\n",
       "      <th>ground_transport</th>\n",
       "      <th>residential</th>\n",
       "      <th>domestic_aviation</th>\n",
       "      <th>international_aviation</th>\n",
       "      <th>all_sectors</th>\n",
       "      <th>date2</th>\n",
       "      <th>group</th>\n",
       "    </tr>\n",
       "    <tr>\n",
       "      <th>date</th>\n",
       "      <th></th>\n",
       "      <th></th>\n",
       "      <th></th>\n",
       "      <th></th>\n",
       "      <th></th>\n",
       "      <th></th>\n",
       "      <th></th>\n",
       "      <th></th>\n",
       "      <th></th>\n",
       "    </tr>\n",
       "  </thead>\n",
       "  <tbody>\n",
       "    <tr>\n",
       "      <th>2019-01-01</th>\n",
       "      <td>36.8332</td>\n",
       "      <td>25.4477</td>\n",
       "      <td>14.1566</td>\n",
       "      <td>18.38330</td>\n",
       "      <td>0.835247</td>\n",
       "      <td>1.48500</td>\n",
       "      <td>97.141047</td>\n",
       "      <td>0</td>\n",
       "      <td>0</td>\n",
       "    </tr>\n",
       "    <tr>\n",
       "      <th>2019-01-02</th>\n",
       "      <td>39.1125</td>\n",
       "      <td>26.9663</td>\n",
       "      <td>15.6887</td>\n",
       "      <td>18.79470</td>\n",
       "      <td>0.974611</td>\n",
       "      <td>1.62415</td>\n",
       "      <td>103.160961</td>\n",
       "      <td>1</td>\n",
       "      <td>0</td>\n",
       "    </tr>\n",
       "    <tr>\n",
       "      <th>2019-01-03</th>\n",
       "      <td>39.7868</td>\n",
       "      <td>27.2615</td>\n",
       "      <td>17.3509</td>\n",
       "      <td>18.55170</td>\n",
       "      <td>1.012280</td>\n",
       "      <td>1.66784</td>\n",
       "      <td>105.631020</td>\n",
       "      <td>2</td>\n",
       "      <td>0</td>\n",
       "    </tr>\n",
       "    <tr>\n",
       "      <th>2019-01-04</th>\n",
       "      <td>40.4257</td>\n",
       "      <td>28.0069</td>\n",
       "      <td>17.3865</td>\n",
       "      <td>18.39490</td>\n",
       "      <td>0.998781</td>\n",
       "      <td>1.68985</td>\n",
       "      <td>106.902631</td>\n",
       "      <td>3</td>\n",
       "      <td>0</td>\n",
       "    </tr>\n",
       "    <tr>\n",
       "      <th>2019-01-05</th>\n",
       "      <td>39.1776</td>\n",
       "      <td>27.0486</td>\n",
       "      <td>16.1779</td>\n",
       "      <td>17.62490</td>\n",
       "      <td>0.917965</td>\n",
       "      <td>1.73837</td>\n",
       "      <td>102.685335</td>\n",
       "      <td>4</td>\n",
       "      <td>0</td>\n",
       "    </tr>\n",
       "    <tr>\n",
       "      <th>...</th>\n",
       "      <td>...</td>\n",
       "      <td>...</td>\n",
       "      <td>...</td>\n",
       "      <td>...</td>\n",
       "      <td>...</td>\n",
       "      <td>...</td>\n",
       "      <td>...</td>\n",
       "      <td>...</td>\n",
       "      <td>...</td>\n",
       "    </tr>\n",
       "    <tr>\n",
       "      <th>2023-05-27</th>\n",
       "      <td>34.9259</td>\n",
       "      <td>29.8055</td>\n",
       "      <td>18.1843</td>\n",
       "      <td>5.52400</td>\n",
       "      <td>0.931902</td>\n",
       "      <td>1.65229</td>\n",
       "      <td>91.023892</td>\n",
       "      <td>1607</td>\n",
       "      <td>0</td>\n",
       "    </tr>\n",
       "    <tr>\n",
       "      <th>2023-05-28</th>\n",
       "      <td>34.0203</td>\n",
       "      <td>29.1464</td>\n",
       "      <td>15.9872</td>\n",
       "      <td>5.37561</td>\n",
       "      <td>0.904233</td>\n",
       "      <td>1.62929</td>\n",
       "      <td>87.063033</td>\n",
       "      <td>1608</td>\n",
       "      <td>0</td>\n",
       "    </tr>\n",
       "    <tr>\n",
       "      <th>2023-05-29</th>\n",
       "      <td>35.5270</td>\n",
       "      <td>30.4091</td>\n",
       "      <td>16.1092</td>\n",
       "      <td>5.38921</td>\n",
       "      <td>0.965610</td>\n",
       "      <td>1.58654</td>\n",
       "      <td>89.986660</td>\n",
       "      <td>1609</td>\n",
       "      <td>0</td>\n",
       "    </tr>\n",
       "    <tr>\n",
       "      <th>2023-05-30</th>\n",
       "      <td>37.1301</td>\n",
       "      <td>31.7332</td>\n",
       "      <td>17.7775</td>\n",
       "      <td>5.39125</td>\n",
       "      <td>0.959809</td>\n",
       "      <td>1.55845</td>\n",
       "      <td>94.550309</td>\n",
       "      <td>1610</td>\n",
       "      <td>0</td>\n",
       "    </tr>\n",
       "    <tr>\n",
       "      <th>2023-05-31</th>\n",
       "      <td>37.8323</td>\n",
       "      <td>32.2888</td>\n",
       "      <td>19.3203</td>\n",
       "      <td>5.30311</td>\n",
       "      <td>0.959809</td>\n",
       "      <td>1.55845</td>\n",
       "      <td>97.262769</td>\n",
       "      <td>1611</td>\n",
       "      <td>0</td>\n",
       "    </tr>\n",
       "  </tbody>\n",
       "</table>\n",
       "<p>1612 rows × 9 columns</p>\n",
       "</div>"
      ],
      "text/plain": [
       "              power  industry  ground_transport  residential  \\\n",
       "date                                                           \n",
       "2019-01-01  36.8332   25.4477           14.1566     18.38330   \n",
       "2019-01-02  39.1125   26.9663           15.6887     18.79470   \n",
       "2019-01-03  39.7868   27.2615           17.3509     18.55170   \n",
       "2019-01-04  40.4257   28.0069           17.3865     18.39490   \n",
       "2019-01-05  39.1776   27.0486           16.1779     17.62490   \n",
       "...             ...       ...               ...          ...   \n",
       "2023-05-27  34.9259   29.8055           18.1843      5.52400   \n",
       "2023-05-28  34.0203   29.1464           15.9872      5.37561   \n",
       "2023-05-29  35.5270   30.4091           16.1092      5.38921   \n",
       "2023-05-30  37.1301   31.7332           17.7775      5.39125   \n",
       "2023-05-31  37.8323   32.2888           19.3203      5.30311   \n",
       "\n",
       "            domestic_aviation  international_aviation  all_sectors  date2  \\\n",
       "date                                                                        \n",
       "2019-01-01           0.835247                 1.48500    97.141047      0   \n",
       "2019-01-02           0.974611                 1.62415   103.160961      1   \n",
       "2019-01-03           1.012280                 1.66784   105.631020      2   \n",
       "2019-01-04           0.998781                 1.68985   106.902631      3   \n",
       "2019-01-05           0.917965                 1.73837   102.685335      4   \n",
       "...                       ...                     ...          ...    ...   \n",
       "2023-05-27           0.931902                 1.65229    91.023892   1607   \n",
       "2023-05-28           0.904233                 1.62929    87.063033   1608   \n",
       "2023-05-29           0.965610                 1.58654    89.986660   1609   \n",
       "2023-05-30           0.959809                 1.55845    94.550309   1610   \n",
       "2023-05-31           0.959809                 1.55845    97.262769   1611   \n",
       "\n",
       "            group  \n",
       "date               \n",
       "2019-01-01      0  \n",
       "2019-01-02      0  \n",
       "2019-01-03      0  \n",
       "2019-01-04      0  \n",
       "2019-01-05      0  \n",
       "...           ...  \n",
       "2023-05-27      0  \n",
       "2023-05-28      0  \n",
       "2023-05-29      0  \n",
       "2023-05-30      0  \n",
       "2023-05-31      0  \n",
       "\n",
       "[1612 rows x 9 columns]"
      ]
     },
     "execution_count": 17,
     "metadata": {},
     "output_type": "execute_result"
    }
   ],
   "source": [
    "df"
   ]
  },
  {
   "cell_type": "markdown",
   "id": "4961c9e5-d371-4a7d-808e-f5c90a49cb7a",
   "metadata": {
    "jp-MarkdownHeadingCollapsed": true
   },
   "source": [
    "# TimeSeries DataSet "
   ]
  },
  {
   "cell_type": "code",
   "execution_count": 18,
   "id": "07ac991d-2ab5-4444-832e-b2571c32795b",
   "metadata": {},
   "outputs": [],
   "source": [
    "\n",
    "# create the time-series dataset from the pandas df\n",
    "dataset = TimeSeriesDataSet(\n",
    "    df,\n",
    "    group_ids=[\"group\"],\n",
    "    target=\"all_sectors\",\n",
    "    time_idx=\"date2\",\n",
    "    max_encoder_length=7,\n",
    "    max_prediction_length=1,\n",
    "    time_varying_unknown_reals=[\"all_sectors\"],\n",
    "    target_normalizer=None\n",
    ")"
   ]
  },
  {
   "cell_type": "markdown",
   "id": "d5d90e71-d316-437e-8761-34597b334351",
   "metadata": {
    "jp-MarkdownHeadingCollapsed": true
   },
   "source": [
    "# Passing Timeseries to our dataloader "
   ]
  },
  {
   "cell_type": "code",
   "execution_count": 19,
   "id": "da862be2-b7bd-4d6b-aa43-0bba7834cddb",
   "metadata": {
    "scrolled": true
   },
   "outputs": [
    {
     "name": "stdout",
     "output_type": "stream",
     "text": [
      "tensor([[93.4063, 89.5200, 86.2897, 92.6024, 92.1199, 91.2502, 91.7306]])\n",
      "tensor([[0]])\n",
      "\n",
      "\n",
      "tensor([[93.5922]])\n"
     ]
    }
   ],
   "source": [
    "dataloader = dataset.to_dataloader(batch_size=1)\n",
    "\n",
    "x, y = next(iter(dataloader))\n",
    "print(x['encoder_target'])\n",
    "print(x['groups'])\n",
    "print('\\n')\n",
    "print(x['decoder_target'])"
   ]
  },
  {
   "cell_type": "code",
   "execution_count": null,
   "id": "9d3d4b8b-d037-40d8-b925-c158599fe0ed",
   "metadata": {},
   "outputs": [],
   "source": []
  },
  {
   "cell_type": "markdown",
   "id": "deb4e724-4ac3-4da1-8f89-d8ae0097f427",
   "metadata": {
    "jp-MarkdownHeadingCollapsed": true
   },
   "source": [
    "# Preparing dataset for TimeSeries format "
   ]
  },
  {
   "cell_type": "code",
   "execution_count": 20,
   "id": "a37f761b-6ef0-4162-bc2f-8fcabd86ded8",
   "metadata": {},
   "outputs": [],
   "source": [
    "# df['date'] = pd.to_datetime(df['date'])\n",
    "\n",
    "#df.set_index('date2', inplace=True)"
   ]
  },
  {
   "cell_type": "code",
   "execution_count": 21,
   "id": "2d850693-b50a-4eda-94ba-871594c8c0a9",
   "metadata": {},
   "outputs": [],
   "source": [
    "start_date = df.index.min()"
   ]
  },
  {
   "cell_type": "code",
   "execution_count": 22,
   "id": "5dc19231-45cc-40bc-878f-24b9bfab3a10",
   "metadata": {
    "editable": true,
    "slideshow": {
     "slide_type": ""
    },
    "tags": []
   },
   "outputs": [],
   "source": [
    "df_list = []\n",
    "\n",
    "for label in df:\n",
    "\n",
    "    ts = df[label]\n",
    "\n",
    "    start_date = min(ts.index)\n",
    "    end_date = max(ts.index)\n",
    "\n",
    "    active_range = (ts.index >= start_date) & (ts.index <= end_date)\n",
    "\n",
    "    tmp = pd.DataFrame({'all_sectors': ts})\n",
    "    date = tmp.index\n",
    "\n",
    "    tmp['days_from_start'] = (date - start_date).days\n",
    "    tmp['date'] = date\n",
    "    tmp['day'] = date.day\n",
    "    tmp['day_of_week'] = date.dayofweek\n",
    "    tmp['month'] = date.month\n",
    "    tmp['group'] = 0\n",
    "    df_list.append(tmp)\n",
    "\n",
    "time_df = pd.concat(df_list).reset_index(drop=True)"
   ]
  },
  {
   "cell_type": "code",
   "execution_count": 23,
   "id": "bc931d67-bcc2-48ef-8308-5cadc4ff5482",
   "metadata": {},
   "outputs": [
    {
     "data": {
      "text/html": [
       "<div>\n",
       "<style scoped>\n",
       "    .dataframe tbody tr th:only-of-type {\n",
       "        vertical-align: middle;\n",
       "    }\n",
       "\n",
       "    .dataframe tbody tr th {\n",
       "        vertical-align: top;\n",
       "    }\n",
       "\n",
       "    .dataframe thead th {\n",
       "        text-align: right;\n",
       "    }\n",
       "</style>\n",
       "<table border=\"1\" class=\"dataframe\">\n",
       "  <thead>\n",
       "    <tr style=\"text-align: right;\">\n",
       "      <th></th>\n",
       "      <th>all_sectors</th>\n",
       "      <th>days_from_start</th>\n",
       "      <th>date</th>\n",
       "      <th>day</th>\n",
       "      <th>day_of_week</th>\n",
       "      <th>month</th>\n",
       "      <th>group</th>\n",
       "    </tr>\n",
       "  </thead>\n",
       "  <tbody>\n",
       "    <tr>\n",
       "      <th>0</th>\n",
       "      <td>36.8332</td>\n",
       "      <td>0</td>\n",
       "      <td>2019-01-01</td>\n",
       "      <td>1</td>\n",
       "      <td>1</td>\n",
       "      <td>1</td>\n",
       "      <td>0</td>\n",
       "    </tr>\n",
       "    <tr>\n",
       "      <th>1</th>\n",
       "      <td>39.1125</td>\n",
       "      <td>1</td>\n",
       "      <td>2019-01-02</td>\n",
       "      <td>2</td>\n",
       "      <td>2</td>\n",
       "      <td>1</td>\n",
       "      <td>0</td>\n",
       "    </tr>\n",
       "    <tr>\n",
       "      <th>2</th>\n",
       "      <td>39.7868</td>\n",
       "      <td>2</td>\n",
       "      <td>2019-01-03</td>\n",
       "      <td>3</td>\n",
       "      <td>3</td>\n",
       "      <td>1</td>\n",
       "      <td>0</td>\n",
       "    </tr>\n",
       "    <tr>\n",
       "      <th>3</th>\n",
       "      <td>40.4257</td>\n",
       "      <td>3</td>\n",
       "      <td>2019-01-04</td>\n",
       "      <td>4</td>\n",
       "      <td>4</td>\n",
       "      <td>1</td>\n",
       "      <td>0</td>\n",
       "    </tr>\n",
       "    <tr>\n",
       "      <th>4</th>\n",
       "      <td>39.1776</td>\n",
       "      <td>4</td>\n",
       "      <td>2019-01-05</td>\n",
       "      <td>5</td>\n",
       "      <td>5</td>\n",
       "      <td>1</td>\n",
       "      <td>0</td>\n",
       "    </tr>\n",
       "  </tbody>\n",
       "</table>\n",
       "</div>"
      ],
      "text/plain": [
       "   all_sectors  days_from_start       date  day  day_of_week  month  group\n",
       "0      36.8332                0 2019-01-01    1            1      1      0\n",
       "1      39.1125                1 2019-01-02    2            2      1      0\n",
       "2      39.7868                2 2019-01-03    3            3      1      0\n",
       "3      40.4257                3 2019-01-04    4            4      1      0\n",
       "4      39.1776                4 2019-01-05    5            5      1      0"
      ]
     },
     "execution_count": 23,
     "metadata": {},
     "output_type": "execute_result"
    }
   ],
   "source": [
    "time_df.head()"
   ]
  },
  {
   "cell_type": "markdown",
   "id": "19e55130-6800-4287-a0f1-61cc1bbcb3ed",
   "metadata": {
    "jp-MarkdownHeadingCollapsed": true
   },
   "source": [
    "# HyperParams"
   ]
  },
  {
   "cell_type": "code",
   "execution_count": 24,
   "id": "de6a1986-a63f-4ebd-a37e-703f9ee6f353",
   "metadata": {},
   "outputs": [],
   "source": [
    "# Hyperparameters \n",
    "\n",
    "batch_size = 64\n",
    "heads = 4\n",
    "hidden_size = 160\n",
    "lr = 0.001\n",
    "gr_clip = 0.1"
   ]
  },
  {
   "cell_type": "markdown",
   "id": "8fc58ba5-59fb-4600-887f-ab7d2294c1dd",
   "metadata": {
    "editable": true,
    "slideshow": {
     "slide_type": ""
    },
    "tags": []
   },
   "source": [
    "# Turning our dataframe into a TimeseriesDataset "
   ]
  },
  {
   "cell_type": "code",
   "execution_count": 25,
   "id": "ab75a903-9d26-4931-a292-00149357039c",
   "metadata": {},
   "outputs": [],
   "source": [
    "max_encoder_length = 7\n",
    "max_prediction_length = 1\n",
    "training_cutoff = time_df['days_from_start'].max() - max_prediction_length\n",
    "\n",
    "training = TimeSeriesDataSet(\n",
    "    time_df[lambda x: x.days_from_start <= training_cutoff],  # Defining training part \n",
    "    time_idx = 'days_from_start',\n",
    "    target = 'all_sectors',\n",
    "    group_ids = ['group'],\n",
    "    min_encoder_length=max_encoder_length // 2, \n",
    "    max_encoder_length=max_encoder_length,\n",
    "    min_prediction_length=1,\n",
    "    max_prediction_length=max_prediction_length,\n",
    "    allow_missing_timesteps=True,\n",
    "    time_varying_known_reals=[\"days_from_start\",\"day\",\"day_of_week\", \"month\"],  \n",
    "     # normalize by group\n",
    "    add_relative_time_idx=True,\n",
    "    add_target_scales=True,\n",
    "    add_encoder_length=True,\n",
    ")\n",
    "\n",
    "validation = TimeSeriesDataSet.from_dataset(training, time_df, predict=True, stop_randomization=True)\n",
    "\n",
    "# Passing our TimeSeries data to our dataloader \n",
    "\n",
    "# if you have a strong GPU, feel free to increase the number of workers  \n",
    "train_dataloader = training.to_dataloader(train=True, batch_size=batch_size, num_workers=0)\n",
    "val_dataloader = validation.to_dataloader(train=False, batch_size=batch_size * 10, num_workers=0)"
   ]
  },
  {
   "cell_type": "markdown",
   "id": "45834815-415b-4573-ac26-1b7b33cc7947",
   "metadata": {},
   "source": [
    "# Creating a BaseLine Model"
   ]
  },
  {
   "cell_type": "code",
   "execution_count": 26,
   "id": "f9a6acdc-4737-4fda-aed9-85ba4f1cb99a",
   "metadata": {
    "editable": true,
    "slideshow": {
     "slide_type": ""
    },
    "tags": []
   },
   "outputs": [],
   "source": [
    "import os \n",
    "os.environ['PYTORCH_ENABLE_MPS_FALLBACK'] = '1'\n",
    "import torch\n",
    "import torch.nn as nn\n",
    "import torch.cuda as cuda \n",
    "from pytorch_forecasting.models import Baseline"
   ]
  },
  {
   "cell_type": "markdown",
   "id": "502159e6-c193-4a9a-a067-8a3c97b55955",
   "metadata": {},
   "source": [
    "Checking if cuda is available "
   ]
  },
  {
   "cell_type": "code",
   "execution_count": 27,
   "id": "4e9fe904-e1b6-4bcc-90cf-1a698b171445",
   "metadata": {
    "editable": true,
    "slideshow": {
     "slide_type": ""
    },
    "tags": []
   },
   "outputs": [],
   "source": [
    "if cuda.is_available():\n",
    "    device = torch.device(\"cuda\")\n",
    "else:\n",
    "    device = torch.device(\"cpu\")"
   ]
  },
  {
   "cell_type": "markdown",
   "id": "86be1611-68b7-4f6c-81be-0a48a5dc7ee2",
   "metadata": {},
   "source": [
    "Moving our model and data to the GPU"
   ]
  },
  {
   "cell_type": "code",
   "execution_count": 28,
   "id": "3f8e1da5-8a4d-4197-9a6e-d2728a411122",
   "metadata": {},
   "outputs": [],
   "source": [
    "actuals = torch.cat([y for x, (y, weight) in iter(val_dataloader)]).to(device)\n",
    "baseline_predictions = Baseline().predict(val_dataloader)\n",
    "baseline_predictions = baseline_predictions.to(device)"
   ]
  },
  {
   "cell_type": "code",
   "execution_count": 29,
   "id": "9fae1f31-1005-4483-a33c-0647bcb875e9",
   "metadata": {},
   "outputs": [
    {
     "data": {
      "text/plain": [
       "37.832298278808594"
      ]
     },
     "execution_count": 29,
     "metadata": {},
     "output_type": "execute_result"
    }
   ],
   "source": [
    "MAE = (actuals - baseline_predictions).abs().mean().item()\n",
    "MAE"
   ]
  },
  {
   "cell_type": "code",
   "execution_count": 30,
   "id": "c320838e-0a8b-40ec-bf6c-d6847b784548",
   "metadata": {},
   "outputs": [
    {
     "name": "stdout",
     "output_type": "stream",
     "text": [
      "37.832298278808594\n",
      "tensor([37.8323])\n"
     ]
    }
   ],
   "source": [
    "\n",
    "#average p50 loss overall\n",
    "print((actuals - baseline_predictions).abs().mean().item())\n",
    "#average p50 loss per time series\n",
    "print((actuals - baseline_predictions).abs().mean(axis=1))\n"
   ]
  },
  {
   "cell_type": "code",
   "execution_count": 31,
   "id": "2a1ac331-9447-43cb-827d-c2e42db3c291",
   "metadata": {},
   "outputs": [
    {
     "name": "stdout",
     "output_type": "stream",
     "text": [
      "('output', 'x', 'index', 'decoder_lengths', 'y')\n"
     ]
    }
   ],
   "source": [
    "raw_preds = Baseline().predict(val_dataloader, mode='raw', return_x=True)\n",
    "print(raw_preds._fields)"
   ]
  },
  {
   "cell_type": "code",
   "execution_count": 32,
   "id": "13da02d9-1967-462d-bafa-523cf03265d5",
   "metadata": {},
   "outputs": [
    {
     "name": "stdout",
     "output_type": "stream",
     "text": [
      "('prediction',)\n"
     ]
    }
   ],
   "source": [
    "print(raw_preds.output._fields)"
   ]
  },
  {
   "cell_type": "code",
   "execution_count": 59,
   "id": "f8571739-8d43-4e22-b058-5b3a5d01ac92",
   "metadata": {},
   "outputs": [
    {
     "data": {
      "image/png": "[encoded data removed]",
      "text/plain": [
       "<Figure size 1800x500 with 1 Axes>"
      ]
     },
     "metadata": {},
     "output_type": "display_data"
    }
   ],
   "source": [
    "import matplotlib.pyplot as plt\n",
    "\n",
    "# Convert the actuals and baseline predictions to numpy arrays\n",
    "actuals = actuals.cpu().numpy()\n",
    "baseline_predictions = baseline_predictions.cpu().numpy()\n",
    "\n",
    "# Assuming 'time_df' is a DataFrame with a column named 'all_sectors'\n",
    "ts = time_df['all_sectors'].values  # Convert the pandas Series to a numpy array\n",
    "\n",
    "plt.figure(figsize=(18, 5))\n",
    "plt.plot(ts, label=\"Actuals\")\n",
    "plt.plot(baseline_predictions, label=\"Baseline Predictions\")\n",
    "\n",
    "plt.title(\"Actuals vs Baseline Predictions\")\n",
    "plt.legend()\n",
    "plt.show()"
   ]
  },
  {
   "cell_type": "code",
   "execution_count": null,
   "id": "7a575204-5ba0-4ffe-90cc-d92b3173ef42",
   "metadata": {
    "editable": true,
    "slideshow": {
     "slide_type": ""
    },
    "tags": []
   },
   "outputs": [],
   "source": []
  },
  {
   "cell_type": "code",
   "execution_count": 52,
   "id": "46577866-a47b-4b11-abe6-b63cd131d86c",
   "metadata": {},
   "outputs": [],
   "source": [
    "import matplotlib.pyplot as plt\n",
    "\n",
    "#plt.figure(figsize=(8, 6))\n",
    "#plt.bar(['Absolute Mean Error'], [MAE], color='blue')\n",
    "#plt.xlabel('Metric')\n",
    "#plt.ylabel('Value')\n",
    "#plt.title('Absolute Mean Error between Actuals and Baseline Predictions')\n",
    "#plt.show()"
   ]
  },
  {
   "cell_type": "markdown",
   "id": "03130db0-76bb-4909-82e8-36400bf09ab6",
   "metadata": {},
   "source": [
    "# Building and training our model "
   ]
  },
  {
   "cell_type": "code",
   "execution_count": 34,
   "id": "00f00d1a-2844-4e97-9ed8-b9ca44c3768b",
   "metadata": {},
   "outputs": [],
   "source": [
    "from pytorch_lightning.callbacks import EarlyStopping, LearningRateMonitor\n",
    "from pytorch_lightning.loggers import TensorBoardLogger\n",
    "import pytorch_lightning as pl\n",
    "from pytorch_forecasting.models import TemporalFusionTransformer\n",
    "from pytorch_forecasting.metrics import QuantileLoss\n",
    "import warnings\n",
    "import torch.optim as optim\n",
    "warnings.filterwarnings(\"ignore\", category=UserWarning)"
   ]
  },
  {
   "cell_type": "code",
   "execution_count": 35,
   "id": "c2431454-b39f-4212-8f9c-7f2cbaa73559",
   "metadata": {},
   "outputs": [],
   "source": [
    "# device = torch.device(\"cpu\")"
   ]
  },
  {
   "cell_type": "code",
   "execution_count": null,
   "id": "2ed0caa2-b90d-41e6-98b2-827acfa6cdf1",
   "metadata": {},
   "outputs": [],
   "source": [
    "class TFTModel(TemporalFusionTransformer):\n",
    "    def __init__(self, *args, **kwargs):\n",
    "        super().__init__(*args, **kwargs)\n",
    "\n",
    "# Creëer een instantie van het model\n",
    "model = TFTModel.from_dataset(\n",
    "    training,\n",
    "    learning_rate=0.1,  # Leer snelheid (kan worden aangepast)\n",
    "    hidden_size=16,  # Grootte van verborgen lagen (kan worden aangepast)\n",
    "    attention_head_size=1,  # Grootte van aandachtslagen (kan worden aangepast)\n",
    "    dropout=0.1,  # Dropout-rate (kan worden aangepast)\n",
    "    loss=pytorch_forecasting.metrics.QuantileLoss(),  # Verliesfunctie\n",
    "    log_interval=10,  # Interval voor het loggen van training\n",
    "    reduce_on_plateau_patience=4,  # Patience voor ReduceLROnPlateau\n",
    ")\n",
    "\n",
    "# Optioneel: model samenvatting weergeven\n",
    "print(model)\n"
   ]
  },
  {
   "cell_type": "code",
   "execution_count": 51,
   "id": "27f73947-cc94-4c01-993c-95a7fb6191b9",
   "metadata": {},
   "outputs": [
    {
     "name": "stderr",
     "output_type": "stream",
     "text": [
      "GPU available: True (mps), used: True\n",
      "TPU available: False, using: 0 TPU cores\n",
      "IPU available: False, using: 0 IPUs\n",
      "HPU available: False, using: 0 HPUs\n"
     ]
    },
    {
     "ename": "TypeError",
     "evalue": "fit() got an unexpected keyword argument 'train_dataloader'",
     "output_type": "error",
     "traceback": [
      "\u001b[0;31m---------------------------------------------------------------------------\u001b[0m",
      "\u001b[0;31mTypeError\u001b[0m                                 Traceback (most recent call last)",
      "Cell \u001b[0;32mIn[51], line 7\u001b[0m\n\u001b[1;32m      2\u001b[0m trainer \u001b[38;5;241m=\u001b[39m pl\u001b[38;5;241m.\u001b[39mTrainer(\n\u001b[1;32m      3\u001b[0m     max_epochs\u001b[38;5;241m=\u001b[39m\u001b[38;5;241m50\u001b[39m,  \u001b[38;5;66;03m# Aantal trainingsepochen \u001b[39;00m\n\u001b[1;32m      4\u001b[0m )\n\u001b[1;32m      6\u001b[0m \u001b[38;5;66;03m# Train het model\u001b[39;00m\n\u001b[0;32m----> 7\u001b[0m \u001b[43mtrainer\u001b[49m\u001b[38;5;241;43m.\u001b[39;49m\u001b[43mfit\u001b[49m\u001b[43m(\u001b[49m\u001b[43mmodel\u001b[49m\u001b[43m,\u001b[49m\u001b[43m \u001b[49m\u001b[43mtrain_dataloader\u001b[49m\u001b[38;5;241;43m=\u001b[39;49m\u001b[43mtrain_dataloader\u001b[49m\u001b[43m)\u001b[49m\n",
      "\u001b[0;31mTypeError\u001b[0m: fit() got an unexpected keyword argument 'train_dataloader'"
     ]
    }
   ],
   "source": [
    "# Definieer de trainer\n",
    "trainer = pl.Trainer(\n",
    "    max_epochs=50,  # Aantal trainingsepochen \n",
    ")\n",
    "\n",
    "# Train het model\n",
    "trainer.fit(model, train_dataloader=train_dataloader)\n"
   ]
  },
  {
   "cell_type": "code",
   "execution_count": null,
   "id": "e77702ed-3406-4b8f-ab49-708dd2616695",
   "metadata": {},
   "outputs": [],
   "source": []
  },
  {
   "cell_type": "code",
   "execution_count": 45,
   "id": "463a8d76-f567-41a2-954d-112463fd8b70",
   "metadata": {
    "editable": true,
    "scrolled": true,
    "slideshow": {
     "slide_type": ""
    },
    "tags": []
   },
   "outputs": [
    {
     "name": "stderr",
     "output_type": "stream",
     "text": [
      "GPU available: True (mps), used: False\n",
      "TPU available: False, using: 0 TPU cores\n",
      "IPU available: False, using: 0 IPUs\n",
      "HPU available: False, using: 0 HPUs\n"
     ]
    },
    {
     "ename": "TypeError",
     "evalue": "`model` must be a `LightningModule` or `torch._dynamo.OptimizedModule`, got `type`",
     "output_type": "error",
     "traceback": [
      "\u001b[0;31m---------------------------------------------------------------------------\u001b[0m",
      "\u001b[0;31mTypeError\u001b[0m                                 Traceback (most recent call last)",
      "Cell \u001b[0;32mIn[45], line 16\u001b[0m\n\u001b[1;32m      5\u001b[0m model \u001b[38;5;241m=\u001b[39m TFTModel\n\u001b[1;32m      7\u001b[0m trainer \u001b[38;5;241m=\u001b[39m pl\u001b[38;5;241m.\u001b[39mTrainer(\n\u001b[1;32m      8\u001b[0m     max_epochs\u001b[38;5;241m=\u001b[39m\u001b[38;5;241m45\u001b[39m,\n\u001b[1;32m      9\u001b[0m     accelerator\u001b[38;5;241m=\u001b[39m\u001b[38;5;124m'\u001b[39m\u001b[38;5;124mcpu\u001b[39m\u001b[38;5;124m'\u001b[39m,\n\u001b[0;32m   (...)\u001b[0m\n\u001b[1;32m     13\u001b[0m     logger\u001b[38;5;241m=\u001b[39mlogger\n\u001b[1;32m     14\u001b[0m )\n\u001b[0;32m---> 16\u001b[0m \u001b[43mtrainer\u001b[49m\u001b[38;5;241;43m.\u001b[39;49m\u001b[43mfit\u001b[49m\u001b[43m(\u001b[49m\n\u001b[1;32m     17\u001b[0m \u001b[43m    \u001b[49m\u001b[43mmodel\u001b[49m\u001b[43m,\u001b[49m\n\u001b[1;32m     18\u001b[0m \u001b[43m    \u001b[49m\u001b[43mtrain_dataloader\u001b[49m\u001b[43m,\u001b[49m\n\u001b[1;32m     19\u001b[0m \u001b[43m    \u001b[49m\u001b[43mval_dataloader\u001b[49m\n\u001b[1;32m     20\u001b[0m \u001b[43m)\u001b[49m\n",
      "File \u001b[0;32m~/anaconda3/envs/mlp/lib/python3.8/site-packages/pytorch_lightning/trainer/trainer.py:527\u001b[0m, in \u001b[0;36mTrainer.fit\u001b[0;34m(self, model, train_dataloaders, val_dataloaders, datamodule, ckpt_path)\u001b[0m\n\u001b[1;32m    494\u001b[0m \u001b[38;5;28;01mdef\u001b[39;00m \u001b[38;5;21mfit\u001b[39m(\n\u001b[1;32m    495\u001b[0m     \u001b[38;5;28mself\u001b[39m,\n\u001b[1;32m    496\u001b[0m     model: \u001b[38;5;124m\"\u001b[39m\u001b[38;5;124mpl.LightningModule\u001b[39m\u001b[38;5;124m\"\u001b[39m,\n\u001b[0;32m   (...)\u001b[0m\n\u001b[1;32m    500\u001b[0m     ckpt_path: Optional[\u001b[38;5;28mstr\u001b[39m] \u001b[38;5;241m=\u001b[39m \u001b[38;5;28;01mNone\u001b[39;00m,\n\u001b[1;32m    501\u001b[0m ) \u001b[38;5;241m-\u001b[39m\u001b[38;5;241m>\u001b[39m \u001b[38;5;28;01mNone\u001b[39;00m:\n\u001b[1;32m    502\u001b[0m \u001b[38;5;250m    \u001b[39m\u001b[38;5;124mr\u001b[39m\u001b[38;5;124;03m\"\"\"Runs the full optimization routine.\u001b[39;00m\n\u001b[1;32m    503\u001b[0m \n\u001b[1;32m    504\u001b[0m \u001b[38;5;124;03m    Args:\u001b[39;00m\n\u001b[0;32m   (...)\u001b[0m\n\u001b[1;32m    525\u001b[0m \u001b[38;5;124;03m    For more information about multiple dataloaders, see this :ref:`section <multiple-dataloaders>`.\u001b[39;00m\n\u001b[1;32m    526\u001b[0m \u001b[38;5;124;03m    \"\"\"\u001b[39;00m\n\u001b[0;32m--> 527\u001b[0m     model \u001b[38;5;241m=\u001b[39m \u001b[43m_maybe_unwrap_optimized\u001b[49m\u001b[43m(\u001b[49m\u001b[43mmodel\u001b[49m\u001b[43m)\u001b[49m\n\u001b[1;32m    528\u001b[0m     \u001b[38;5;28mself\u001b[39m\u001b[38;5;241m.\u001b[39mstrategy\u001b[38;5;241m.\u001b[39m_lightning_module \u001b[38;5;241m=\u001b[39m model\n\u001b[1;32m    529\u001b[0m     call\u001b[38;5;241m.\u001b[39m_call_and_handle_interrupt(\n\u001b[1;32m    530\u001b[0m         \u001b[38;5;28mself\u001b[39m, \u001b[38;5;28mself\u001b[39m\u001b[38;5;241m.\u001b[39m_fit_impl, model, train_dataloaders, val_dataloaders, datamodule, ckpt_path\n\u001b[1;32m    531\u001b[0m     )\n",
      "File \u001b[0;32m~/anaconda3/envs/mlp/lib/python3.8/site-packages/pytorch_lightning/utilities/compile.py:125\u001b[0m, in \u001b[0;36m_maybe_unwrap_optimized\u001b[0;34m(model)\u001b[0m\n\u001b[1;32m    123\u001b[0m \u001b[38;5;28;01mif\u001b[39;00m \u001b[38;5;28misinstance\u001b[39m(model, pl\u001b[38;5;241m.\u001b[39mLightningModule):\n\u001b[1;32m    124\u001b[0m     \u001b[38;5;28;01mreturn\u001b[39;00m model\n\u001b[0;32m--> 125\u001b[0m \u001b[38;5;28;01mraise\u001b[39;00m \u001b[38;5;167;01mTypeError\u001b[39;00m(\n\u001b[1;32m    126\u001b[0m     \u001b[38;5;124mf\u001b[39m\u001b[38;5;124m\"\u001b[39m\u001b[38;5;124m`model` must be a `LightningModule` or `torch._dynamo.OptimizedModule`, got `\u001b[39m\u001b[38;5;132;01m{\u001b[39;00m\u001b[38;5;28mtype\u001b[39m(model)\u001b[38;5;241m.\u001b[39m\u001b[38;5;18m__qualname__\u001b[39m\u001b[38;5;132;01m}\u001b[39;00m\u001b[38;5;124m`\u001b[39m\u001b[38;5;124m\"\u001b[39m\n\u001b[1;32m    127\u001b[0m )\n",
      "\u001b[0;31mTypeError\u001b[0m: `model` must be a `LightningModule` or `torch._dynamo.OptimizedModule`, got `type`"
     ]
    }
   ],
   "source": [
    "early_stop_callback = EarlyStopping(monitor=\"val_loss\", min_delta=1e-4, patience=5, verbose=True, mode=\"min\")\n",
    "lr_logger = LearningRateMonitor()  \n",
    "logger = TensorBoardLogger(\"lightning_logs\")  \n",
    "\n",
    "model = TFTModel\n",
    "\n",
    "trainer = pl.Trainer(\n",
    "    max_epochs=45,\n",
    "    accelerator='cpu',\n",
    "    enable_model_summary=True,\n",
    "    gradient_clip_val=0.1,\n",
    "    callbacks=[lr_logger, early_stop_callback],\n",
    "    logger=logger\n",
    ")\n",
    "\n",
    "trainer.fit(\n",
    "    model,\n",
    "    train_dataloader,\n",
    "    val_dataloader\n",
    ")"
   ]
  },
  {
   "cell_type": "code",
   "execution_count": null,
   "id": "63a6be07-52b5-48b1-b183-e206a235c64a",
   "metadata": {},
   "outputs": [],
   "source": []
  },
  {
   "cell_type": "code",
   "execution_count": null,
   "id": "2083dda6-a462-48fa-9739-ec90efebac52",
   "metadata": {},
   "outputs": [],
   "source": []
  },
  {
   "cell_type": "markdown",
   "id": "523762aa-c00e-407f-a315-539a1597374e",
   "metadata": {},
   "source": [
    "# Passing our TimeSeries dataset to our Dataloader "
   ]
  },
  {
   "cell_type": "code",
   "execution_count": null,
   "id": "95468b54-b3f2-4b83-afc6-775b43687efc",
   "metadata": {},
   "outputs": [],
   "source": []
  },
  {
   "cell_type": "code",
   "execution_count": null,
   "id": "10ecda9e-45ed-4bb2-8fdf-499b932cdf7d",
   "metadata": {},
   "outputs": [],
   "source": []
  },
  {
   "cell_type": "code",
   "execution_count": null,
   "id": "a13436f7-1926-4180-8f22-a14849d458f3",
   "metadata": {},
   "outputs": [],
   "source": []
  },
  {
   "cell_type": "code",
   "execution_count": null,
   "id": "90e6f786-772d-4eaa-9eab-d162a7b764f1",
   "metadata": {},
   "outputs": [],
   "source": []
  },
  {
   "cell_type": "code",
   "execution_count": null,
   "id": "dee79567-a5d3-487c-a4ce-7649227bf485",
   "metadata": {},
   "outputs": [],
   "source": []
  },
  {
   "cell_type": "code",
   "execution_count": null,
   "id": "c6d4dc7e-bd73-4aaa-b9aa-e110b837e5c2",
   "metadata": {
    "editable": true,
    "slideshow": {
     "slide_type": ""
    },
    "tags": []
   },
   "outputs": [],
   "source": []
  }
 ],
 "metadata": {
  "kernelspec": {
   "display_name": "Python 3 (ipykernel)",
   "language": "python",
   "name": "python3"
  },
  "language_info": {
   "codemirror_mode": {
    "name": "ipython",
    "version": 3
   },
   "file_extension": ".py",
   "mimetype": "text/x-python",
   "name": "python",
   "nbconvert_exporter": "python",
   "pygments_lexer": "ipython3",
   "version": "3.11.3"
  }
 },
 "nbformat": 4,
 "nbformat_minor": 5
}
