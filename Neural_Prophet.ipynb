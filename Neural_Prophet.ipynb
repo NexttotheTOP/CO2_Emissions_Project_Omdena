{
 "cells": [
  {
   "attachments": {},
   "cell_type": "markdown",
   "id": "4b9f926c",
   "metadata": {},
   "source": [
    "# NeuralProphet Library for Forecasting Industrial CO<sub>2</sub> Emission\n",
    "\n",
    "- https://github.com/ourownstory/neural_prophet/tree/main (Main page github repo)\n",
    "- https://github.com/ourownstory/neural_prophet/tree/main/docs/source/tutorials (Tutorials)"
   ]
  },
  {
   "attachments": {},
   "cell_type": "markdown",
   "id": "c4d5c662-ed88-4ad4-96c5-4a3ade7f595e",
   "metadata": {
    "jp-MarkdownHeadingCollapsed": true
   },
   "source": [
    "# Importing Dependecies"
   ]
  },
  {
   "cell_type": "code",
   "execution_count": 172,
   "id": "a3072d8d",
   "metadata": {},
   "outputs": [],
   "source": [
    "#pip install neuralprophet"
   ]
  },
  {
   "cell_type": "code",
   "execution_count": 173,
   "id": "19abaa7b",
   "metadata": {
    "ExecuteTime": {
     "end_time": "2023-08-26T17:25:29.277660Z",
     "start_time": "2023-08-26T17:25:29.260661Z"
    }
   },
   "outputs": [],
   "source": [
    "import pandas as pd\n",
    "import numpy as np\n",
    "from neuralprophet import NeuralProphet, set_log_level\n",
    "import matplotlib.pyplot as plt\n",
    "from sklearn.metrics import mean_absolute_error\n",
    "from sklearn.metrics import mean_absolute_percentage_error\n",
    "from sklearn.metrics import r2_score\n",
    "from sklearn.metrics import mean_squared_error\n",
    "from math import sqrt"
   ]
  },
  {
   "attachments": {},
   "cell_type": "markdown",
   "id": "9d708dd8-56c8-40f7-bf83-dd53b1129ab8",
   "metadata": {
    "jp-MarkdownHeadingCollapsed": true
   },
   "source": [
    "# Loading and Preproccessing our Dataset \n",
    "\n",
    "**Note:** Whenever you use a dataset with NeuralProphet, it must be a pandas dataframe with the following format and properties:\n",
    "\n",
    "- Time series column must be named \"ds\" and contain datetime values.\n",
    "- Value column must be named \"y\" and contain float values."
   ]
  },
  {
   "cell_type": "code",
   "execution_count": 174,
   "id": "d38bf818",
   "metadata": {
    "ExecuteTime": {
     "end_time": "2023-08-26T17:25:29.517280Z",
     "start_time": "2023-08-26T17:25:29.504179Z"
    }
   },
   "outputs": [],
   "source": [
    "#loading data\n",
    "\n",
    "df = pd.read_csv('DataSets /WORLD-OWID-Features-Yearly')"
   ]
  },
  {
   "cell_type": "code",
   "execution_count": 175,
   "id": "4305f5f2",
   "metadata": {
    "ExecuteTime": {
     "end_time": "2023-08-26T17:25:29.801362Z",
     "start_time": "2023-08-26T17:25:29.778613Z"
    },
    "scrolled": true
   },
   "outputs": [
    {
     "data": {
      "text/html": [
       "<div>\n",
       "<style scoped>\n",
       "    .dataframe tbody tr th:only-of-type {\n",
       "        vertical-align: middle;\n",
       "    }\n",
       "\n",
       "    .dataframe tbody tr th {\n",
       "        vertical-align: top;\n",
       "    }\n",
       "\n",
       "    .dataframe thead th {\n",
       "        text-align: right;\n",
       "    }\n",
       "</style>\n",
       "<table border=\"1\" class=\"dataframe\">\n",
       "  <thead>\n",
       "    <tr style=\"text-align: right;\">\n",
       "      <th></th>\n",
       "      <th>year</th>\n",
       "      <th>cement_co2</th>\n",
       "      <th>co2</th>\n",
       "      <th>coal_co2</th>\n",
       "      <th>flaring_co2</th>\n",
       "      <th>gas_co2</th>\n",
       "      <th>land_use_change_co2</th>\n",
       "      <th>oil_co2</th>\n",
       "      <th>other_industry_co2</th>\n",
       "    </tr>\n",
       "  </thead>\n",
       "  <tbody>\n",
       "    <tr>\n",
       "      <th>0</th>\n",
       "      <td>1880-01-01</td>\n",
       "      <td>0.000</td>\n",
       "      <td>853.7050</td>\n",
       "      <td>838.340</td>\n",
       "      <td>256.309556</td>\n",
       "      <td>1814.698707</td>\n",
       "      <td>3100.721</td>\n",
       "      <td>15.364</td>\n",
       "      <td>82.069576</td>\n",
       "    </tr>\n",
       "    <tr>\n",
       "      <th>1</th>\n",
       "      <td>1881-01-01</td>\n",
       "      <td>0.000</td>\n",
       "      <td>882.4050</td>\n",
       "      <td>865.162</td>\n",
       "      <td>256.309556</td>\n",
       "      <td>1814.698707</td>\n",
       "      <td>3096.935</td>\n",
       "      <td>17.242</td>\n",
       "      <td>82.069576</td>\n",
       "    </tr>\n",
       "    <tr>\n",
       "      <th>2</th>\n",
       "      <td>1882-01-01</td>\n",
       "      <td>0.000</td>\n",
       "      <td>931.9220</td>\n",
       "      <td>912.817</td>\n",
       "      <td>256.309556</td>\n",
       "      <td>0.165000</td>\n",
       "      <td>3159.833</td>\n",
       "      <td>18.939</td>\n",
       "      <td>82.069576</td>\n",
       "    </tr>\n",
       "    <tr>\n",
       "      <th>3</th>\n",
       "      <td>1883-01-01</td>\n",
       "      <td>0.000</td>\n",
       "      <td>991.0320</td>\n",
       "      <td>974.149</td>\n",
       "      <td>256.309556</td>\n",
       "      <td>0.381000</td>\n",
       "      <td>3220.534</td>\n",
       "      <td>16.502</td>\n",
       "      <td>82.069576</td>\n",
       "    </tr>\n",
       "    <tr>\n",
       "      <th>4</th>\n",
       "      <td>1884-01-01</td>\n",
       "      <td>0.000</td>\n",
       "      <td>1002.1740</td>\n",
       "      <td>982.679</td>\n",
       "      <td>256.309556</td>\n",
       "      <td>1.172000</td>\n",
       "      <td>3240.197</td>\n",
       "      <td>18.323</td>\n",
       "      <td>82.069576</td>\n",
       "    </tr>\n",
       "    <tr>\n",
       "      <th>...</th>\n",
       "      <td>...</td>\n",
       "      <td>...</td>\n",
       "      <td>...</td>\n",
       "      <td>...</td>\n",
       "      <td>...</td>\n",
       "      <td>...</td>\n",
       "      <td>...</td>\n",
       "      <td>...</td>\n",
       "      <td>...</td>\n",
       "    </tr>\n",
       "    <tr>\n",
       "      <th>137</th>\n",
       "      <td>2017-01-01</td>\n",
       "      <td>1507.923</td>\n",
       "      <td>36096.7380</td>\n",
       "      <td>14506.974</td>\n",
       "      <td>391.992000</td>\n",
       "      <td>7144.928000</td>\n",
       "      <td>4331.947</td>\n",
       "      <td>12242.628</td>\n",
       "      <td>302.294000</td>\n",
       "    </tr>\n",
       "    <tr>\n",
       "      <th>138</th>\n",
       "      <td>2018-01-01</td>\n",
       "      <td>1569.218</td>\n",
       "      <td>36826.5080</td>\n",
       "      <td>14746.831</td>\n",
       "      <td>412.116000</td>\n",
       "      <td>7529.847000</td>\n",
       "      <td>4181.356</td>\n",
       "      <td>12266.017</td>\n",
       "      <td>302.479000</td>\n",
       "    </tr>\n",
       "    <tr>\n",
       "      <th>139</th>\n",
       "      <td>2019-01-01</td>\n",
       "      <td>1617.507</td>\n",
       "      <td>37082.5590</td>\n",
       "      <td>14725.978</td>\n",
       "      <td>439.254000</td>\n",
       "      <td>7647.528000</td>\n",
       "      <td>4557.283</td>\n",
       "      <td>12345.653</td>\n",
       "      <td>306.639000</td>\n",
       "    </tr>\n",
       "    <tr>\n",
       "      <th>140</th>\n",
       "      <td>2020-01-01</td>\n",
       "      <td>1637.537</td>\n",
       "      <td>37103.2055</td>\n",
       "      <td>14174.564</td>\n",
       "      <td>407.584000</td>\n",
       "      <td>7556.290000</td>\n",
       "      <td>4057.758</td>\n",
       "      <td>11191.809</td>\n",
       "      <td>296.302000</td>\n",
       "    </tr>\n",
       "    <tr>\n",
       "      <th>141</th>\n",
       "      <td>2021-01-01</td>\n",
       "      <td>1672.592</td>\n",
       "      <td>37123.8520</td>\n",
       "      <td>14979.598</td>\n",
       "      <td>416.526000</td>\n",
       "      <td>7921.830000</td>\n",
       "      <td>3939.044</td>\n",
       "      <td>11837.159</td>\n",
       "      <td>296.146000</td>\n",
       "    </tr>\n",
       "  </tbody>\n",
       "</table>\n",
       "<p>142 rows × 9 columns</p>\n",
       "</div>"
      ],
      "text/plain": [
       "           year  cement_co2         co2   coal_co2  flaring_co2      gas_co2   \n",
       "0    1880-01-01       0.000    853.7050    838.340   256.309556  1814.698707  \\\n",
       "1    1881-01-01       0.000    882.4050    865.162   256.309556  1814.698707   \n",
       "2    1882-01-01       0.000    931.9220    912.817   256.309556     0.165000   \n",
       "3    1883-01-01       0.000    991.0320    974.149   256.309556     0.381000   \n",
       "4    1884-01-01       0.000   1002.1740    982.679   256.309556     1.172000   \n",
       "..          ...         ...         ...        ...          ...          ...   \n",
       "137  2017-01-01    1507.923  36096.7380  14506.974   391.992000  7144.928000   \n",
       "138  2018-01-01    1569.218  36826.5080  14746.831   412.116000  7529.847000   \n",
       "139  2019-01-01    1617.507  37082.5590  14725.978   439.254000  7647.528000   \n",
       "140  2020-01-01    1637.537  37103.2055  14174.564   407.584000  7556.290000   \n",
       "141  2021-01-01    1672.592  37123.8520  14979.598   416.526000  7921.830000   \n",
       "\n",
       "     land_use_change_co2    oil_co2  other_industry_co2  \n",
       "0               3100.721     15.364           82.069576  \n",
       "1               3096.935     17.242           82.069576  \n",
       "2               3159.833     18.939           82.069576  \n",
       "3               3220.534     16.502           82.069576  \n",
       "4               3240.197     18.323           82.069576  \n",
       "..                   ...        ...                 ...  \n",
       "137             4331.947  12242.628          302.294000  \n",
       "138             4181.356  12266.017          302.479000  \n",
       "139             4557.283  12345.653          306.639000  \n",
       "140             4057.758  11191.809          296.302000  \n",
       "141             3939.044  11837.159          296.146000  \n",
       "\n",
       "[142 rows x 9 columns]"
      ]
     },
     "execution_count": 175,
     "metadata": {},
     "output_type": "execute_result"
    }
   ],
   "source": [
    "df"
   ]
  },
  {
   "cell_type": "code",
   "execution_count": 176,
   "id": "cfa7a986",
   "metadata": {
    "ExecuteTime": {
     "end_time": "2023-08-26T17:25:30.029024Z",
     "start_time": "2023-08-26T17:25:30.023543Z"
    }
   },
   "outputs": [],
   "source": [
    "df = df[['year', 'co2']]"
   ]
  },
  {
   "cell_type": "code",
   "execution_count": 177,
   "id": "da50de3a-df4b-4ea9-a925-5afc4199127d",
   "metadata": {},
   "outputs": [
    {
     "name": "stderr",
     "output_type": "stream",
     "text": [
      "WARNING - (py.warnings._showwarnmsg) - /var/folders/3d/ww3w94xd4y9bsnytmzvvs9340000gn/T/ipykernel_68359/262872096.py:1: SettingWithCopyWarning:\n",
      "\n",
      "\n",
      "A value is trying to be set on a copy of a slice from a DataFrame\n",
      "\n",
      "See the caveats in the documentation: https://pandas.pydata.org/pandas-docs/stable/user_guide/indexing.html#returning-a-view-versus-a-copy\n",
      "\n",
      "\n"
     ]
    }
   ],
   "source": [
    "df.rename(columns = {'year':'ds','co2':'y'}, inplace = True)"
   ]
  },
  {
   "cell_type": "code",
   "execution_count": 178,
   "id": "8b42f4a8",
   "metadata": {
    "ExecuteTime": {
     "end_time": "2023-08-26T17:25:30.695299Z",
     "start_time": "2023-08-26T17:25:30.685231Z"
    }
   },
   "outputs": [
    {
     "name": "stderr",
     "output_type": "stream",
     "text": [
      "WARNING - (py.warnings._showwarnmsg) - /var/folders/3d/ww3w94xd4y9bsnytmzvvs9340000gn/T/ipykernel_68359/1218697604.py:1: SettingWithCopyWarning:\n",
      "\n",
      "\n",
      "A value is trying to be set on a copy of a slice from a DataFrame.\n",
      "Try using .loc[row_indexer,col_indexer] = value instead\n",
      "\n",
      "See the caveats in the documentation: https://pandas.pydata.org/pandas-docs/stable/user_guide/indexing.html#returning-a-view-versus-a-copy\n",
      "\n",
      "\n"
     ]
    }
   ],
   "source": [
    "df['ds'] = pd.to_datetime(df['ds'], format='%Y-%m-%d')\n"
   ]
  },
  {
   "cell_type": "code",
   "execution_count": 179,
   "id": "5f19db89",
   "metadata": {
    "ExecuteTime": {
     "end_time": "2023-08-26T17:25:31.019378Z",
     "start_time": "2023-08-26T17:25:31.002988Z"
    },
    "scrolled": true
   },
   "outputs": [
    {
     "data": {
      "text/html": [
       "<div>\n",
       "<style scoped>\n",
       "    .dataframe tbody tr th:only-of-type {\n",
       "        vertical-align: middle;\n",
       "    }\n",
       "\n",
       "    .dataframe tbody tr th {\n",
       "        vertical-align: top;\n",
       "    }\n",
       "\n",
       "    .dataframe thead th {\n",
       "        text-align: right;\n",
       "    }\n",
       "</style>\n",
       "<table border=\"1\" class=\"dataframe\">\n",
       "  <thead>\n",
       "    <tr style=\"text-align: right;\">\n",
       "      <th></th>\n",
       "      <th>ds</th>\n",
       "      <th>y</th>\n",
       "    </tr>\n",
       "  </thead>\n",
       "  <tbody>\n",
       "    <tr>\n",
       "      <th>0</th>\n",
       "      <td>1880-01-01</td>\n",
       "      <td>853.7050</td>\n",
       "    </tr>\n",
       "    <tr>\n",
       "      <th>1</th>\n",
       "      <td>1881-01-01</td>\n",
       "      <td>882.4050</td>\n",
       "    </tr>\n",
       "    <tr>\n",
       "      <th>2</th>\n",
       "      <td>1882-01-01</td>\n",
       "      <td>931.9220</td>\n",
       "    </tr>\n",
       "    <tr>\n",
       "      <th>3</th>\n",
       "      <td>1883-01-01</td>\n",
       "      <td>991.0320</td>\n",
       "    </tr>\n",
       "    <tr>\n",
       "      <th>4</th>\n",
       "      <td>1884-01-01</td>\n",
       "      <td>1002.1740</td>\n",
       "    </tr>\n",
       "    <tr>\n",
       "      <th>...</th>\n",
       "      <td>...</td>\n",
       "      <td>...</td>\n",
       "    </tr>\n",
       "    <tr>\n",
       "      <th>137</th>\n",
       "      <td>2017-01-01</td>\n",
       "      <td>36096.7380</td>\n",
       "    </tr>\n",
       "    <tr>\n",
       "      <th>138</th>\n",
       "      <td>2018-01-01</td>\n",
       "      <td>36826.5080</td>\n",
       "    </tr>\n",
       "    <tr>\n",
       "      <th>139</th>\n",
       "      <td>2019-01-01</td>\n",
       "      <td>37082.5590</td>\n",
       "    </tr>\n",
       "    <tr>\n",
       "      <th>140</th>\n",
       "      <td>2020-01-01</td>\n",
       "      <td>37103.2055</td>\n",
       "    </tr>\n",
       "    <tr>\n",
       "      <th>141</th>\n",
       "      <td>2021-01-01</td>\n",
       "      <td>37123.8520</td>\n",
       "    </tr>\n",
       "  </tbody>\n",
       "</table>\n",
       "<p>142 rows × 2 columns</p>\n",
       "</div>"
      ],
      "text/plain": [
       "            ds           y\n",
       "0   1880-01-01    853.7050\n",
       "1   1881-01-01    882.4050\n",
       "2   1882-01-01    931.9220\n",
       "3   1883-01-01    991.0320\n",
       "4   1884-01-01   1002.1740\n",
       "..         ...         ...\n",
       "137 2017-01-01  36096.7380\n",
       "138 2018-01-01  36826.5080\n",
       "139 2019-01-01  37082.5590\n",
       "140 2020-01-01  37103.2055\n",
       "141 2021-01-01  37123.8520\n",
       "\n",
       "[142 rows x 2 columns]"
      ]
     },
     "execution_count": 179,
     "metadata": {},
     "output_type": "execute_result"
    }
   ],
   "source": [
    "df"
   ]
  },
  {
   "cell_type": "code",
   "execution_count": 180,
   "id": "d66949ba",
   "metadata": {
    "ExecuteTime": {
     "end_time": "2023-08-26T17:25:32.112899Z",
     "start_time": "2023-08-26T17:25:31.918888Z"
    }
   },
   "outputs": [
    {
     "data": {
      "image/png": "[encoded data removed]",
      "text/plain": [
       "<Figure size 640x480 with 1 Axes>"
      ]
     },
     "metadata": {},
     "output_type": "display_data"
    }
   ],
   "source": [
    "train_set = df[df['ds'] < pd.Timestamp('2012-01-01')]\n",
    "val_set = df[(df['ds'] >= pd.Timestamp('2000-01-01')) & (df['ds'] < pd.Timestamp('2012-01-01'))]\n",
    "test_set = df[df['ds'] >= pd.Timestamp('2012-01-01')]\n",
    "\n",
    "plt.title('Train/Test Sets', size=12)\n",
    "plt.plot(train_set['ds'], train_set['y'], label='Training set')\n",
    "plt.plot(val_set['ds'], val_set['y'], label='Val set', color='orange')\n",
    "plt.plot(test_set['ds'], test_set['y'], label='Test set', color='green')\n",
    "plt.xlabel('Year')\n",
    "plt.ylabel('CO2 Emissions')\n",
    "plt.legend();"
   ]
  },
  {
   "attachments": {},
   "cell_type": "markdown",
   "id": "ad32b6dc-0521-46c3-92f3-6242653201d7",
   "metadata": {},
   "source": [
    "# Setting up the model"
   ]
  },
  {
   "cell_type": "code",
   "execution_count": 181,
   "id": "eef08978-84a6-4ee9-94ea-3274287bb241",
   "metadata": {},
   "outputs": [],
   "source": [
    "#from pytorch_lightning import Trainer\n",
    "\n",
    "# Initializing the trainer with MPS \n",
    "#trainer = Trainer(accelerator='mps', devices=1)"
   ]
  },
  {
   "cell_type": "code",
   "execution_count": 182,
   "id": "da215c9e",
   "metadata": {
    "ExecuteTime": {
     "end_time": "2023-08-26T17:25:36.784246Z",
     "start_time": "2023-08-26T17:25:33.543251Z"
    },
    "scrolled": true
   },
   "outputs": [
    {
     "name": "stderr",
     "output_type": "stream",
     "text": [
      "WARNING - (py.warnings._showwarnmsg) - /Users/wout_vp/Library/Python/3.9/lib/python/site-packages/pytorch_lightning/trainer/setup.py:201: UserWarning:\n",
      "\n",
      "MPS available but not used. Set `accelerator` and `devices` using `Trainer(accelerator='mps', devices=1)`.\n",
      "\n",
      "\n"
     ]
    },
    {
     "data": {
      "application/vnd.jupyter.widget-view+json": {
       "model_id": "61967cca3be94a7d9b55e861f6baaf0e",
       "version_major": 2,
       "version_minor": 0
      },
      "text/plain": [
       "Finding best initial lr:   0%|          | 0/209 [00:00<?, ?it/s]"
      ]
     },
     "metadata": {},
     "output_type": "display_data"
    },
    {
     "data": {
      "application/vnd.jupyter.widget-view+json": {
       "model_id": "7154e975e8f34e6c907a3da4f719201b",
       "version_major": 2,
       "version_minor": 0
      },
      "text/plain": [
       "Training: 0it [00:00, ?it/s]"
      ]
     },
     "metadata": {},
     "output_type": "display_data"
    }
   ],
   "source": [
    "set_log_level(\"ERROR\")  # Enable logging messages for tips or if there is an error\n",
    "\n",
    "#m = NeuralProphet(\n",
    "    #changepoints_range=1,\n",
    "    #n_forecasts=1,  # Defaults \n",
    "    #n_lags=1\n",
    "#)  \n",
    "m = NeuralProphet(\n",
    "    n_lags=1\n",
    "    # n_changepoints=5,\n",
    "    #yearly_seasonality=True,\n",
    "    #weekly_seasonality=True,\n",
    "    #daily_seasonality=True,\n",
    ")\n",
    "\n",
    "# Using static plotly \n",
    "m.set_plotting_backend(\"plotly\")\n",
    "\n",
    "metrics = m.fit(df, freq = 'YS')"
   ]
  },
  {
   "attachments": {},
   "cell_type": "markdown",
   "id": "5057c2bb-7f04-4f9e-b17b-48fa8fc52755",
   "metadata": {},
   "source": [
    "# Forecasting on our Val & Test sets "
   ]
  },
  {
   "cell_type": "code",
   "execution_count": 183,
   "id": "36d5da8c",
   "metadata": {
    "ExecuteTime": {
     "end_time": "2023-08-26T17:25:43.700409Z",
     "start_time": "2023-08-26T17:25:43.648778Z"
    }
   },
   "outputs": [
    {
     "data": {
      "application/vnd.jupyter.widget-view+json": {
       "model_id": "5f5fbdfecc9143898256c36cd301ae64",
       "version_major": 2,
       "version_minor": 0
      },
      "text/plain": [
       "Predicting: 9it [00:00, ?it/s]"
      ]
     },
     "metadata": {},
     "output_type": "display_data"
    }
   ],
   "source": [
    "forecast_val = m.predict(val_set)"
   ]
  },
  {
   "cell_type": "code",
   "execution_count": 184,
   "id": "bd1bbba2",
   "metadata": {
    "ExecuteTime": {
     "end_time": "2023-08-26T17:35:35.329221Z",
     "start_time": "2023-08-26T17:35:35.253491Z"
    },
    "scrolled": true
   },
   "outputs": [
    {
     "data": {
      "application/vnd.jupyter.widget-view+json": {
       "model_id": "2bcd2f53f545495a9eb3eed25dae57bd",
       "version_major": 2,
       "version_minor": 0
      },
      "text/plain": [
       "Predicting: 9it [00:00, ?it/s]"
      ]
     },
     "metadata": {},
     "output_type": "display_data"
    },
    {
     "data": {
      "text/html": [
       "<div>\n",
       "<style scoped>\n",
       "    .dataframe tbody tr th:only-of-type {\n",
       "        vertical-align: middle;\n",
       "    }\n",
       "\n",
       "    .dataframe tbody tr th {\n",
       "        vertical-align: top;\n",
       "    }\n",
       "\n",
       "    .dataframe thead th {\n",
       "        text-align: right;\n",
       "    }\n",
       "</style>\n",
       "<table border=\"1\" class=\"dataframe\">\n",
       "  <thead>\n",
       "    <tr style=\"text-align: right;\">\n",
       "      <th></th>\n",
       "      <th>ds</th>\n",
       "      <th>y</th>\n",
       "      <th>yhat1</th>\n",
       "      <th>ar1</th>\n",
       "      <th>trend</th>\n",
       "      <th>season_yearly</th>\n",
       "    </tr>\n",
       "  </thead>\n",
       "  <tbody>\n",
       "    <tr>\n",
       "      <th>5</th>\n",
       "      <td>2017-01-01</td>\n",
       "      <td>36096.7380</td>\n",
       "      <td>35939.246094</td>\n",
       "      <td>72.030602</td>\n",
       "      <td>92663.570312</td>\n",
       "      <td>-56796.355469</td>\n",
       "    </tr>\n",
       "    <tr>\n",
       "      <th>6</th>\n",
       "      <td>2018-01-01</td>\n",
       "      <td>36826.5080</td>\n",
       "      <td>36457.769531</td>\n",
       "      <td>94.640358</td>\n",
       "      <td>93168.734375</td>\n",
       "      <td>-56805.609375</td>\n",
       "    </tr>\n",
       "    <tr>\n",
       "      <th>7</th>\n",
       "      <td>2019-01-01</td>\n",
       "      <td>37082.5590</td>\n",
       "      <td>37055.640625</td>\n",
       "      <td>191.067902</td>\n",
       "      <td>93673.906250</td>\n",
       "      <td>-56809.332031</td>\n",
       "    </tr>\n",
       "    <tr>\n",
       "      <th>8</th>\n",
       "      <td>2020-01-01</td>\n",
       "      <td>37103.2055</td>\n",
       "      <td>37461.449219</td>\n",
       "      <td>89.883636</td>\n",
       "      <td>94179.078125</td>\n",
       "      <td>-56807.507812</td>\n",
       "    </tr>\n",
       "    <tr>\n",
       "      <th>9</th>\n",
       "      <td>2021-01-01</td>\n",
       "      <td>37123.8520</td>\n",
       "      <td>37778.617188</td>\n",
       "      <td>-110.655113</td>\n",
       "      <td>94685.632812</td>\n",
       "      <td>-56796.355469</td>\n",
       "    </tr>\n",
       "  </tbody>\n",
       "</table>\n",
       "</div>"
      ],
      "text/plain": [
       "          ds           y         yhat1         ar1         trend   \n",
       "5 2017-01-01  36096.7380  35939.246094   72.030602  92663.570312  \\\n",
       "6 2018-01-01  36826.5080  36457.769531   94.640358  93168.734375   \n",
       "7 2019-01-01  37082.5590  37055.640625  191.067902  93673.906250   \n",
       "8 2020-01-01  37103.2055  37461.449219   89.883636  94179.078125   \n",
       "9 2021-01-01  37123.8520  37778.617188 -110.655113  94685.632812   \n",
       "\n",
       "   season_yearly  \n",
       "5  -56796.355469  \n",
       "6  -56805.609375  \n",
       "7  -56809.332031  \n",
       "8  -56807.507812  \n",
       "9  -56796.355469  "
      ]
     },
     "execution_count": 184,
     "metadata": {},
     "output_type": "execute_result"
    }
   ],
   "source": [
    "forecast1 = m.predict(test_set)\n",
    "forecast1.tail()"
   ]
  },
  {
   "attachments": {},
   "cell_type": "markdown",
   "id": "8c16ef4f-c4dc-4396-9243-a1976b3945be",
   "metadata": {},
   "source": [
    "# Visualizing + Evaluating the Performance"
   ]
  },
  {
   "attachments": {},
   "cell_type": "markdown",
   "id": "44870b4c-38b4-4a42-89c2-ed221b9046b2",
   "metadata": {},
   "source": [
    "We will start by visualizing our predictions compared to our actual values to get better insights. "
   ]
  },
  {
   "cell_type": "code",
   "execution_count": 185,
   "id": "120666a5-8bd0-48c2-8d9f-161e5b7ff438",
   "metadata": {
    "scrolled": true
   },
   "outputs": [
    {
     "data": {
      "image/png": "[encoded data removed]",
      "text/plain": [
       "<Figure size 640x480 with 1 Axes>"
      ]
     },
     "metadata": {},
     "output_type": "display_data"
    }
   ],
   "source": [
    "fig, ax = plt.subplots()\n",
    "\n",
    "\n",
    "ax.plot(forecast_val['ds'], forecast_val['y'], label='Actual co2')\n",
    "ax.plot(forecast_val['ds'], forecast_val['yhat1'], label='Predicted co2')\n",
    "\n",
    "\n",
    "ax.set_title('Predicted co2 emissions Val set')\n",
    "ax.set_xlabel('Year')\n",
    "ax.set_ylabel('co2 emissions')\n",
    "\n",
    "\n",
    "ax.legend()\n",
    "\n",
    "\n",
    "plt.xticks(rotation=45)\n",
    "\n",
    "# Display the plot\n",
    "plt.tight_layout()\n",
    "plt.show()"
   ]
  },
  {
   "cell_type": "code",
   "execution_count": 186,
   "id": "51a3ea9f",
   "metadata": {
    "ExecuteTime": {
     "end_time": "2023-08-26T17:35:35.978267Z",
     "start_time": "2023-08-26T17:35:35.790288Z"
    },
    "scrolled": true
   },
   "outputs": [
    {
     "data": {
      "image/png": "[encoded data removed]",
      "text/plain": [
       "<Figure size 640x480 with 1 Axes>"
      ]
     },
     "metadata": {},
     "output_type": "display_data"
    }
   ],
   "source": [
    "fig, ax = plt.subplots()\n",
    "\n",
    "\n",
    "ax.plot(forecast1['ds'], forecast1['y'], label='Actual co2')\n",
    "ax.plot(forecast1['ds'], forecast1['yhat1'], label='Predicted co2')\n",
    "\n",
    "\n",
    "ax.set_title('Predicted co2 emissions Test set')\n",
    "ax.set_xlabel('Year')\n",
    "ax.set_ylabel('co2 emissions')\n",
    "\n",
    "\n",
    "ax.legend()\n",
    "\n",
    "\n",
    "plt.xticks(rotation=45)\n",
    "\n",
    "# Display the plot\n",
    "plt.tight_layout()\n",
    "plt.show()"
   ]
  },
  {
   "attachments": {},
   "cell_type": "markdown",
   "id": "7e30f8a0-fcd1-4c10-8369-4ce39863d2cd",
   "metadata": {},
   "source": [
    "Next, we will create/define a simple error_metrics function that takes in our actual values of our preferred test set and calculates the given errors between our actual values and our specified yhat predictions. "
   ]
  },
  {
   "cell_type": "code",
   "execution_count": 187,
   "id": "16f8a97e-1edf-4681-9d43-a27c73ea7e42",
   "metadata": {},
   "outputs": [],
   "source": [
    "def print_metrics(pred, y_test, model_name):\n",
    "    mae_ = mean_absolute_error(pred, y_test)\n",
    "    rmse_ = np.sqrt(mean_squared_error(pred, y_test))\n",
    "    mape_ = mean_absolute_percentage_error(pred, y_test)\n",
    "    r2_score_ = r2_score(pred, y_test)\n",
    "\n",
    "    dict_ = {\n",
    "        'MAE': mae_,\n",
    "        'RMSE': rmse_,\n",
    "        'MAPE': mape_,\n",
    "        'R2': r2_score_\n",
    "    }\n",
    "\n",
    "    metrics = pd.DataFrame(dict_, index=[model_name])\n",
    "\n",
    "    return metrics.round(decimals=2)"
   ]
  },
  {
   "cell_type": "code",
   "execution_count": 188,
   "id": "565b70b2",
   "metadata": {
    "ExecuteTime": {
     "end_time": "2023-08-26T17:35:36.251596Z",
     "start_time": "2023-08-26T17:35:36.246447Z"
    }
   },
   "outputs": [],
   "source": [
    "# dropping the laggs/window\n",
    "\n",
    "true_val_forecast = forecast_val.dropna()\n",
    "true_forecast = forecast1.dropna()"
   ]
  },
  {
   "cell_type": "code",
   "execution_count": 189,
   "id": "1778a382-c037-4ba5-aba3-cc09670ef27e",
   "metadata": {},
   "outputs": [
    {
     "data": {
      "text/html": [
       "<div>\n",
       "<style scoped>\n",
       "    .dataframe tbody tr th:only-of-type {\n",
       "        vertical-align: middle;\n",
       "    }\n",
       "\n",
       "    .dataframe tbody tr th {\n",
       "        vertical-align: top;\n",
       "    }\n",
       "\n",
       "    .dataframe thead th {\n",
       "        text-align: right;\n",
       "    }\n",
       "</style>\n",
       "<table border=\"1\" class=\"dataframe\">\n",
       "  <thead>\n",
       "    <tr style=\"text-align: right;\">\n",
       "      <th></th>\n",
       "      <th>MAE</th>\n",
       "      <th>RMSE</th>\n",
       "      <th>MAPE</th>\n",
       "      <th>R2</th>\n",
       "    </tr>\n",
       "  </thead>\n",
       "  <tbody>\n",
       "    <tr>\n",
       "      <th>NeuralProphet_Val_set</th>\n",
       "      <td>679.17</td>\n",
       "      <td>807.42</td>\n",
       "      <td>0.02</td>\n",
       "      <td>0.91</td>\n",
       "    </tr>\n",
       "  </tbody>\n",
       "</table>\n",
       "</div>"
      ],
      "text/plain": [
       "                          MAE    RMSE  MAPE    R2\n",
       "NeuralProphet_Val_set  679.17  807.42  0.02  0.91"
      ]
     },
     "execution_count": 189,
     "metadata": {},
     "output_type": "execute_result"
    }
   ],
   "source": [
    "print_metrics(true_val_forecast['y'], true_val_forecast['yhat1'], \"NeuralProphet_Val_set\")"
   ]
  },
  {
   "cell_type": "code",
   "execution_count": 190,
   "id": "8c9386b4-c7db-4709-9e67-e53e25cd4266",
   "metadata": {},
   "outputs": [
    {
     "data": {
      "text/html": [
       "<div>\n",
       "<style scoped>\n",
       "    .dataframe tbody tr th:only-of-type {\n",
       "        vertical-align: middle;\n",
       "    }\n",
       "\n",
       "    .dataframe tbody tr th {\n",
       "        vertical-align: top;\n",
       "    }\n",
       "\n",
       "    .dataframe thead th {\n",
       "        text-align: right;\n",
       "    }\n",
       "</style>\n",
       "<table border=\"1\" class=\"dataframe\">\n",
       "  <thead>\n",
       "    <tr style=\"text-align: right;\">\n",
       "      <th></th>\n",
       "      <th>MAE</th>\n",
       "      <th>RMSE</th>\n",
       "      <th>MAPE</th>\n",
       "      <th>R2</th>\n",
       "    </tr>\n",
       "  </thead>\n",
       "  <tbody>\n",
       "    <tr>\n",
       "      <th>NeuralProphet_Test_set</th>\n",
       "      <td>367.04</td>\n",
       "      <td>444.98</td>\n",
       "      <td>0.01</td>\n",
       "      <td>0.63</td>\n",
       "    </tr>\n",
       "  </tbody>\n",
       "</table>\n",
       "</div>"
      ],
      "text/plain": [
       "                           MAE    RMSE  MAPE    R2\n",
       "NeuralProphet_Test_set  367.04  444.98  0.01  0.63"
      ]
     },
     "execution_count": 190,
     "metadata": {},
     "output_type": "execute_result"
    }
   ],
   "source": [
    "print_metrics(true_forecast['y'], true_forecast['yhat1'], \"NeuralProphet_Test_set\")"
   ]
  },
  {
   "attachments": {},
   "cell_type": "markdown",
   "id": "67fb359d-2e33-420e-9958-ec529781ba38",
   "metadata": {},
   "source": [
    "# Forecasting Future Values "
   ]
  },
  {
   "cell_type": "code",
   "execution_count": 191,
   "id": "d7ac9ee5-da56-4a2f-bffd-5cd56a6f927d",
   "metadata": {},
   "outputs": [
    {
     "data": {
      "application/vnd.jupyter.widget-view+json": {
       "model_id": "37275b084d3f4e93b2c255dbc353b021",
       "version_major": 2,
       "version_minor": 0
      },
      "text/plain": [
       "Predicting: 9it [00:00, ?it/s]"
      ]
     },
     "metadata": {},
     "output_type": "display_data"
    }
   ],
   "source": [
    "future = m.make_future_dataframe(df, n_historic_predictions=True, periods=5)\n",
    "forecast = m.predict(future)"
   ]
  },
  {
   "cell_type": "code",
   "execution_count": 192,
   "id": "abe639eb-d367-4919-bfc3-35fec8b86170",
   "metadata": {},
   "outputs": [
    {
     "data": {
      "text/html": [
       "<div>\n",
       "<style scoped>\n",
       "    .dataframe tbody tr th:only-of-type {\n",
       "        vertical-align: middle;\n",
       "    }\n",
       "\n",
       "    .dataframe tbody tr th {\n",
       "        vertical-align: top;\n",
       "    }\n",
       "\n",
       "    .dataframe thead th {\n",
       "        text-align: right;\n",
       "    }\n",
       "</style>\n",
       "<table border=\"1\" class=\"dataframe\">\n",
       "  <thead>\n",
       "    <tr style=\"text-align: right;\">\n",
       "      <th></th>\n",
       "      <th>ds</th>\n",
       "      <th>y</th>\n",
       "      <th>yhat1</th>\n",
       "      <th>ar1</th>\n",
       "      <th>trend</th>\n",
       "      <th>season_yearly</th>\n",
       "    </tr>\n",
       "  </thead>\n",
       "  <tbody>\n",
       "    <tr>\n",
       "      <th>138</th>\n",
       "      <td>2018-01-01</td>\n",
       "      <td>36826.5080</td>\n",
       "      <td>36457.769531</td>\n",
       "      <td>94.640358</td>\n",
       "      <td>93168.734375</td>\n",
       "      <td>-56805.609375</td>\n",
       "    </tr>\n",
       "    <tr>\n",
       "      <th>139</th>\n",
       "      <td>2019-01-01</td>\n",
       "      <td>37082.5590</td>\n",
       "      <td>37055.640625</td>\n",
       "      <td>191.067902</td>\n",
       "      <td>93673.906250</td>\n",
       "      <td>-56809.332031</td>\n",
       "    </tr>\n",
       "    <tr>\n",
       "      <th>140</th>\n",
       "      <td>2020-01-01</td>\n",
       "      <td>37103.2055</td>\n",
       "      <td>37461.449219</td>\n",
       "      <td>89.883636</td>\n",
       "      <td>94179.078125</td>\n",
       "      <td>-56807.507812</td>\n",
       "    </tr>\n",
       "    <tr>\n",
       "      <th>141</th>\n",
       "      <td>2021-01-01</td>\n",
       "      <td>37123.8520</td>\n",
       "      <td>37778.617188</td>\n",
       "      <td>-110.655113</td>\n",
       "      <td>94685.632812</td>\n",
       "      <td>-56796.355469</td>\n",
       "    </tr>\n",
       "    <tr>\n",
       "      <th>142</th>\n",
       "      <td>2022-01-01</td>\n",
       "      <td>NaN</td>\n",
       "      <td>38069.578125</td>\n",
       "      <td>-315.609833</td>\n",
       "      <td>95190.796875</td>\n",
       "      <td>-56805.609375</td>\n",
       "    </tr>\n",
       "  </tbody>\n",
       "</table>\n",
       "</div>"
      ],
      "text/plain": [
       "            ds           y         yhat1         ar1         trend   \n",
       "138 2018-01-01  36826.5080  36457.769531   94.640358  93168.734375  \\\n",
       "139 2019-01-01  37082.5590  37055.640625  191.067902  93673.906250   \n",
       "140 2020-01-01  37103.2055  37461.449219   89.883636  94179.078125   \n",
       "141 2021-01-01  37123.8520  37778.617188 -110.655113  94685.632812   \n",
       "142 2022-01-01         NaN  38069.578125 -315.609833  95190.796875   \n",
       "\n",
       "     season_yearly  \n",
       "138  -56805.609375  \n",
       "139  -56809.332031  \n",
       "140  -56807.507812  \n",
       "141  -56796.355469  \n",
       "142  -56805.609375  "
      ]
     },
     "execution_count": 192,
     "metadata": {},
     "output_type": "execute_result"
    }
   ],
   "source": [
    "forecast.tail()"
   ]
  },
  {
   "cell_type": "code",
   "execution_count": 193,
   "id": "5b8cc946-3719-4d8c-b900-0242c3b1a339",
   "metadata": {},
   "outputs": [
    {
     "data": {
      "image/png": "[encoded data removed]",
      "text/plain": [
       "<Figure size 640x480 with 1 Axes>"
      ]
     },
     "metadata": {},
     "output_type": "display_data"
    }
   ],
   "source": [
    "fig, ax = plt.subplots()\n",
    "\n",
    "\n",
    "ax.plot(forecast['ds'], forecast['y'], label='Actual co2')\n",
    "ax.plot(forecast['ds'], forecast['yhat1'], label='Predicted co2')\n",
    "\n",
    "\n",
    "ax.set_title('Predicted co2 emissions')\n",
    "ax.set_xlabel('Year')\n",
    "ax.set_ylabel('co2 emissions')\n",
    "\n",
    "\n",
    "ax.legend()\n",
    "\n",
    "\n",
    "plt.xticks(rotation=45)\n",
    "\n",
    "# Display the plot\n",
    "plt.tight_layout()\n",
    "plt.show()"
   ]
  },
  {
   "cell_type": "code",
   "execution_count": 194,
   "id": "7ac2d830-d276-42a3-9914-89b66edcd767",
   "metadata": {
    "scrolled": true
   },
   "outputs": [
    {
     "data": {
      "application/vnd.plotly.v1+json": {
       "config": {
        "plotlyServerURL": "https://plot.ly"
       },
       "data": [
        {
         "fill": "none",
         "line": {
          "color": "rgba(45, 146, 255, 1.0)",
          "width": 2
         },
         "mode": "lines",
         "name": "yhat1",
         "type": "scatter",
         "x": [
          "1880-01-01T00:00:00",
          "1881-01-01T00:00:00",
          "1882-01-01T00:00:00",
          "1883-01-01T00:00:00",
          "1884-01-01T00:00:00",
          "1885-01-01T00:00:00",
          "1886-01-01T00:00:00",
          "1887-01-01T00:00:00",
          "1888-01-01T00:00:00",
          "1889-01-01T00:00:00",
          "1890-01-01T00:00:00",
          "1891-01-01T00:00:00",
          "1892-01-01T00:00:00",
          "1893-01-01T00:00:00",
          "1894-01-01T00:00:00",
          "1895-01-01T00:00:00",
          "1896-01-01T00:00:00",
          "1897-01-01T00:00:00",
          "1898-01-01T00:00:00",
          "1899-01-01T00:00:00",
          "1900-01-01T00:00:00",
          "1901-01-01T00:00:00",
          "1902-01-01T00:00:00",
          "1903-01-01T00:00:00",
          "1904-01-01T00:00:00",
          "1905-01-01T00:00:00",
          "1906-01-01T00:00:00",
          "1907-01-01T00:00:00",
          "1908-01-01T00:00:00",
          "1909-01-01T00:00:00",
          "1910-01-01T00:00:00",
          "1911-01-01T00:00:00",
          "1912-01-01T00:00:00",
          "1913-01-01T00:00:00",
          "1914-01-01T00:00:00",
          "1915-01-01T00:00:00",
          "1916-01-01T00:00:00",
          "1917-01-01T00:00:00",
          "1918-01-01T00:00:00",
          "1919-01-01T00:00:00",
          "1920-01-01T00:00:00",
          "1921-01-01T00:00:00",
          "1922-01-01T00:00:00",
          "1923-01-01T00:00:00",
          "1924-01-01T00:00:00",
          "1925-01-01T00:00:00",
          "1926-01-01T00:00:00",
          "1927-01-01T00:00:00",
          "1928-01-01T00:00:00",
          "1929-01-01T00:00:00",
          "1930-01-01T00:00:00",
          "1931-01-01T00:00:00",
          "1932-01-01T00:00:00",
          "1933-01-01T00:00:00",
          "1934-01-01T00:00:00",
          "1935-01-01T00:00:00",
          "1936-01-01T00:00:00",
          "1937-01-01T00:00:00",
          "1938-01-01T00:00:00",
          "1939-01-01T00:00:00",
          "1940-01-01T00:00:00",
          "1941-01-01T00:00:00",
          "1942-01-01T00:00:00",
          "1943-01-01T00:00:00",
          "1944-01-01T00:00:00",
          "1945-01-01T00:00:00",
          "1946-01-01T00:00:00",
          "1947-01-01T00:00:00",
          "1948-01-01T00:00:00",
          "1949-01-01T00:00:00",
          "1950-01-01T00:00:00",
          "1951-01-01T00:00:00",
          "1952-01-01T00:00:00",
          "1953-01-01T00:00:00",
          "1954-01-01T00:00:00",
          "1955-01-01T00:00:00",
          "1956-01-01T00:00:00",
          "1957-01-01T00:00:00",
          "1958-01-01T00:00:00",
          "1959-01-01T00:00:00",
          "1960-01-01T00:00:00",
          "1961-01-01T00:00:00",
          "1962-01-01T00:00:00",
          "1963-01-01T00:00:00",
          "1964-01-01T00:00:00",
          "1965-01-01T00:00:00",
          "1966-01-01T00:00:00",
          "1967-01-01T00:00:00",
          "1968-01-01T00:00:00",
          "1969-01-01T00:00:00",
          "1970-01-01T00:00:00",
          "1971-01-01T00:00:00",
          "1972-01-01T00:00:00",
          "1973-01-01T00:00:00",
          "1974-01-01T00:00:00",
          "1975-01-01T00:00:00",
          "1976-01-01T00:00:00",
          "1977-01-01T00:00:00",
          "1978-01-01T00:00:00",
          "1979-01-01T00:00:00",
          "1980-01-01T00:00:00",
          "1981-01-01T00:00:00",
          "1982-01-01T00:00:00",
          "1983-01-01T00:00:00",
          "1984-01-01T00:00:00",
          "1985-01-01T00:00:00",
          "1986-01-01T00:00:00",
          "1987-01-01T00:00:00",
          "1988-01-01T00:00:00",
          "1989-01-01T00:00:00",
          "1990-01-01T00:00:00",
          "1991-01-01T00:00:00",
          "1992-01-01T00:00:00",
          "1993-01-01T00:00:00",
          "1994-01-01T00:00:00",
          "1995-01-01T00:00:00",
          "1996-01-01T00:00:00",
          "1997-01-01T00:00:00",
          "1998-01-01T00:00:00",
          "1999-01-01T00:00:00",
          "2000-01-01T00:00:00",
          "2001-01-01T00:00:00",
          "2002-01-01T00:00:00",
          "2003-01-01T00:00:00",
          "2004-01-01T00:00:00",
          "2005-01-01T00:00:00",
          "2006-01-01T00:00:00",
          "2007-01-01T00:00:00",
          "2008-01-01T00:00:00",
          "2009-01-01T00:00:00",
          "2010-01-01T00:00:00",
          "2011-01-01T00:00:00",
          "2012-01-01T00:00:00",
          "2013-01-01T00:00:00",
          "2014-01-01T00:00:00",
          "2015-01-01T00:00:00",
          "2016-01-01T00:00:00",
          "2017-01-01T00:00:00",
          "2018-01-01T00:00:00",
          "2019-01-01T00:00:00",
          "2020-01-01T00:00:00",
          "2021-01-01T00:00:00",
          "2022-01-01T00:00:00"
         ],
         "y": [
          null,
          548.0823974609375,
          530.4105834960938,
          571.5883178710938,
          619.9512939453125,
          743.9348754882812,
          717.5201416015625,
          744.7943115234375,
          789.9344482421875,
          956.9509887695312,
          927.247314453125,
          995.265380859375,
          1047.1982421875,
          1173.8013916015625,
          1140.093994140625,
          1182.8955078125,
          1244.2655029296875,
          1386.210205078125,
          1389.2139892578125,
          1448.819580078125,
          1539.9345703125,
          1641.486572265625,
          1749.814697265625,
          1842.97900390625,
          1995.269775390625,
          2088.64892578125,
          2207.5751953125,
          2324.0263671875,
          2545.244140625,
          2581.90576171875,
          2687.015380859375,
          2808.556884765625,
          2865.241455078125,
          2988.014404296875,
          3133.23974609375,
          3046.624267578125,
          3078.902099609375,
          3240.679443359375,
          3338.169921875,
          3366.572021484375,
          3226.189208984375,
          3487.584716796875,
          3328.480712890625,
          3429.2021484375,
          3650.977783203125,
          3704.749267578125,
          3745.910400390625,
          3757.42578125,
          3937.469970703125,
          3979.540283203125,
          4124.62890625,
          4026.2216796875,
          3959.77783203125,
          3928.210693359375,
          4073.655029296875,
          4284.7041015625,
          4452.8154296875,
          4706.57568359375,
          4901.80419921875,
          4881.740234375,
          5076.1591796875,
          5346.103515625,
          5484.58154296875,
          5598.00390625,
          5745.68798828125,
          5898.515625,
          5640.42529296875,
          5911.27880859375,
          6231.61474609375,
          6467.5830078125,
          6494.22509765625,
          6917.37353515625,
          7202.75,
          7427.62451171875,
          7642.8798828125,
          7855.94970703125,
          8283.0146484375,
          8646.8134765625,
          8894.748046875,
          9144.8759765625,
          9483.4208984375,
          9868.015625,
          10020.9052734375,
          10501.072265625,
          10991.58203125,
          11502.7744140625,
          11959.0888671875,
          12455.1640625,
          12883.4814453125,
          13439.5869140625,
          14047.849609375,
          14783.892578125,
          15306.9228515625,
          15800.1630859375,
          16322.9423828125,
          16492.841796875,
          16709.65234375,
          17305.576171875,
          17700.177734375,
          18135.2265625,
          18559.8984375,
          18721.03515625,
          18713.14453125,
          18925.015625,
          19313.435546875,
          19893.505859375,
          20448.380859375,
          20869.826171875,
          21436.646484375,
          22089.13671875,
          22496.369140625,
          22936.4453125,
          23437.609375,
          23472.15234375,
          23850.626953125,
          24212.15625,
          24714.099609375,
          25311.67578125,
          25653.154296875,
          25913.298828125,
          26427.58203125,
          27033.6171875,
          27404.490234375,
          27954.205078125,
          28819.564453125,
          29534.40625,
          30220.087890625,
          30920.513671875,
          31597.48828125,
          32144.904296875,
          32212.19140625,
          33251.4921875,
          34014.63671875,
          34537.38671875,
          34948.87890625,
          35352.36328125,
          35644.75,
          35939.24609375,
          36457.76953125,
          37055.640625,
          37461.44921875,
          37778.6171875,
          38069.578125
         ]
        },
        {
         "marker": {
          "color": "black",
          "size": 4
         },
         "mode": "markers",
         "name": "Actual",
         "type": "scatter",
         "x": [
          "1880-01-01T00:00:00",
          "1881-01-01T00:00:00",
          "1882-01-01T00:00:00",
          "1883-01-01T00:00:00",
          "1884-01-01T00:00:00",
          "1885-01-01T00:00:00",
          "1886-01-01T00:00:00",
          "1887-01-01T00:00:00",
          "1888-01-01T00:00:00",
          "1889-01-01T00:00:00",
          "1890-01-01T00:00:00",
          "1891-01-01T00:00:00",
          "1892-01-01T00:00:00",
          "1893-01-01T00:00:00",
          "1894-01-01T00:00:00",
          "1895-01-01T00:00:00",
          "1896-01-01T00:00:00",
          "1897-01-01T00:00:00",
          "1898-01-01T00:00:00",
          "1899-01-01T00:00:00",
          "1900-01-01T00:00:00",
          "1901-01-01T00:00:00",
          "1902-01-01T00:00:00",
          "1903-01-01T00:00:00",
          "1904-01-01T00:00:00",
          "1905-01-01T00:00:00",
          "1906-01-01T00:00:00",
          "1907-01-01T00:00:00",
          "1908-01-01T00:00:00",
          "1909-01-01T00:00:00",
          "1910-01-01T00:00:00",
          "1911-01-01T00:00:00",
          "1912-01-01T00:00:00",
          "1913-01-01T00:00:00",
          "1914-01-01T00:00:00",
          "1915-01-01T00:00:00",
          "1916-01-01T00:00:00",
          "1917-01-01T00:00:00",
          "1918-01-01T00:00:00",
          "1919-01-01T00:00:00",
          "1920-01-01T00:00:00",
          "1921-01-01T00:00:00",
          "1922-01-01T00:00:00",
          "1923-01-01T00:00:00",
          "1924-01-01T00:00:00",
          "1925-01-01T00:00:00",
          "1926-01-01T00:00:00",
          "1927-01-01T00:00:00",
          "1928-01-01T00:00:00",
          "1929-01-01T00:00:00",
          "1930-01-01T00:00:00",
          "1931-01-01T00:00:00",
          "1932-01-01T00:00:00",
          "1933-01-01T00:00:00",
          "1934-01-01T00:00:00",
          "1935-01-01T00:00:00",
          "1936-01-01T00:00:00",
          "1937-01-01T00:00:00",
          "1938-01-01T00:00:00",
          "1939-01-01T00:00:00",
          "1940-01-01T00:00:00",
          "1941-01-01T00:00:00",
          "1942-01-01T00:00:00",
          "1943-01-01T00:00:00",
          "1944-01-01T00:00:00",
          "1945-01-01T00:00:00",
          "1946-01-01T00:00:00",
          "1947-01-01T00:00:00",
          "1948-01-01T00:00:00",
          "1949-01-01T00:00:00",
          "1950-01-01T00:00:00",
          "1951-01-01T00:00:00",
          "1952-01-01T00:00:00",
          "1953-01-01T00:00:00",
          "1954-01-01T00:00:00",
          "1955-01-01T00:00:00",
          "1956-01-01T00:00:00",
          "1957-01-01T00:00:00",
          "1958-01-01T00:00:00",
          "1959-01-01T00:00:00",
          "1960-01-01T00:00:00",
          "1961-01-01T00:00:00",
          "1962-01-01T00:00:00",
          "1963-01-01T00:00:00",
          "1964-01-01T00:00:00",
          "1965-01-01T00:00:00",
          "1966-01-01T00:00:00",
          "1967-01-01T00:00:00",
          "1968-01-01T00:00:00",
          "1969-01-01T00:00:00",
          "1970-01-01T00:00:00",
          "1971-01-01T00:00:00",
          "1972-01-01T00:00:00",
          "1973-01-01T00:00:00",
          "1974-01-01T00:00:00",
          "1975-01-01T00:00:00",
          "1976-01-01T00:00:00",
          "1977-01-01T00:00:00",
          "1978-01-01T00:00:00",
          "1979-01-01T00:00:00",
          "1980-01-01T00:00:00",
          "1981-01-01T00:00:00",
          "1982-01-01T00:00:00",
          "1983-01-01T00:00:00",
          "1984-01-01T00:00:00",
          "1985-01-01T00:00:00",
          "1986-01-01T00:00:00",
          "1987-01-01T00:00:00",
          "1988-01-01T00:00:00",
          "1989-01-01T00:00:00",
          "1990-01-01T00:00:00",
          "1991-01-01T00:00:00",
          "1992-01-01T00:00:00",
          "1993-01-01T00:00:00",
          "1994-01-01T00:00:00",
          "1995-01-01T00:00:00",
          "1996-01-01T00:00:00",
          "1997-01-01T00:00:00",
          "1998-01-01T00:00:00",
          "1999-01-01T00:00:00",
          "2000-01-01T00:00:00",
          "2001-01-01T00:00:00",
          "2002-01-01T00:00:00",
          "2003-01-01T00:00:00",
          "2004-01-01T00:00:00",
          "2005-01-01T00:00:00",
          "2006-01-01T00:00:00",
          "2007-01-01T00:00:00",
          "2008-01-01T00:00:00",
          "2009-01-01T00:00:00",
          "2010-01-01T00:00:00",
          "2011-01-01T00:00:00",
          "2012-01-01T00:00:00",
          "2013-01-01T00:00:00",
          "2014-01-01T00:00:00",
          "2015-01-01T00:00:00",
          "2016-01-01T00:00:00",
          "2017-01-01T00:00:00",
          "2018-01-01T00:00:00",
          "2019-01-01T00:00:00",
          "2020-01-01T00:00:00",
          "2021-01-01T00:00:00",
          "2022-01-01T00:00:00"
         ],
         "y": [
          853.705,
          882.405,
          931.922,
          991.032,
          1002.174,
          1009.671,
          1025.475,
          1076.758,
          1192.272,
          1191.8,
          1298.458,
          1358.874,
          1370.088,
          1353.669,
          1400.858,
          1485.273,
          1533.701,
          1606.301,
          1694.266,
          1850.798,
          1952.209,
          2016.744,
          2067.684,
          2254.095,
          2279.749,
          2427.313,
          2534.734,
          2888.308,
          2776.404,
          2890.468,
          3033.82,
          3079.215,
          3235.538,
          3505.865,
          3179.912,
          3134.378,
          3385.277,
          3539.853,
          3492.84,
          3028.56,
          3521.062,
          3089.464,
          3239.736,
          3675.398,
          3686.099,
          3725.637,
          3659.297,
          3993.754,
          3976.071,
          4267.657,
          3934.73,
          3516.94,
          3170.801,
          3338.349,
          3630.765,
          3811.112,
          4181.088,
          4469.369,
          4201.28,
          4445.443,
          4854.658,
          4965.649,
          4953.624,
          5035.077,
          5110.656,
          4250.264,
          4638.339,
          5138.49,
          5415.709,
          5245.849,
          6003.272,
          6379.796,
          6465.727,
          6647.763,
          6789.969,
          7443.244,
          7924.253,
          8185.547,
          8417.624,
          8856.221,
          9387.668,
          9418.46,
          9751.06,
          10271.655,
          10829.612,
          11317.596,
          11866.934,
          12244.029,
          12910.892,
          13767.398,
          14898.716,
          15505.496,
          16228.729,
          17086.193,
          17017.477,
          17054.627,
          17991.887,
          18502.846,
          19077.193,
          19618.463,
          19501.264,
          19036.117,
          18884.486,
          19006.539,
          19664.754,
          20325.486,
          20627.359,
          21273.904,
          22107.795,
          22410.402,
          22757.48,
          23244.807,
          22580.023,
          22812.9,
          22969.498,
          23458.713,
          24159.383,
          24302.584,
          24213.26,
          24732.389,
          25453.623,
          25668.049,
          26281.037,
          27651.596,
          28636.695,
          29614.602,
          30593.117,
          31506.789,
          32085.836,
          31564.031,
          33364.348,
          34487.012,
          35006.27,
          35319.203,
          35577.535,
          35558.566,
          35524.191,
          36096.738,
          36826.508,
          37082.559,
          37103.2055,
          37123.852,
          null
         ]
        }
       ],
       "layout": {
        "autosize": true,
        "font": {
         "size": 10
        },
        "height": 420,
        "hovermode": "x unified",
        "margin": {
         "b": 0,
         "l": 0,
         "pad": 0,
         "r": 10,
         "t": 10
        },
        "showlegend": true,
        "template": {
         "data": {
          "bar": [
           {
            "error_x": {
             "color": "#2a3f5f"
            },
            "error_y": {
             "color": "#2a3f5f"
            },
            "marker": {
             "line": {
              "color": "white",
              "width": 0.5
             },
             "pattern": {
              "fillmode": "overlay",
              "size": 10,
              "solidity": 0.2
             }
            },
            "type": "bar"
           }
          ],
          "barpolar": [
           {
            "marker": {
             "line": {
              "color": "white",
              "width": 0.5
             },
             "pattern": {
              "fillmode": "overlay",
              "size": 10,
              "solidity": 0.2
             }
            },
            "type": "barpolar"
           }
          ],
          "carpet": [
           {
            "aaxis": {
             "endlinecolor": "#2a3f5f",
             "gridcolor": "#C8D4E3",
             "linecolor": "#C8D4E3",
             "minorgridcolor": "#C8D4E3",
             "startlinecolor": "#2a3f5f"
            },
            "baxis": {
             "endlinecolor": "#2a3f5f",
             "gridcolor": "#C8D4E3",
             "linecolor": "#C8D4E3",
             "minorgridcolor": "#C8D4E3",
             "startlinecolor": "#2a3f5f"
            },
            "type": "carpet"
           }
          ],
          "choropleth": [
           {
            "colorbar": {
             "outlinewidth": 0,
             "ticks": ""
            },
            "type": "choropleth"
           }
          ],
          "contour": [
           {
            "colorbar": {
             "outlinewidth": 0,
             "ticks": ""
            },
            "colorscale": [
             [
              0,
              "#0d0887"
             ],
             [
              0.1111111111111111,
              "#46039f"
             ],
             [
              0.2222222222222222,
              "#7201a8"
             ],
             [
              0.3333333333333333,
              "#9c179e"
             ],
             [
              0.4444444444444444,
              "#bd3786"
             ],
             [
              0.5555555555555556,
              "#d8576b"
             ],
             [
              0.6666666666666666,
              "#ed7953"
             ],
             [
              0.7777777777777778,
              "#fb9f3a"
             ],
             [
              0.8888888888888888,
              "#fdca26"
             ],
             [
              1,
              "#f0f921"
             ]
            ],
            "type": "contour"
           }
          ],
          "contourcarpet": [
           {
            "colorbar": {
             "outlinewidth": 0,
             "ticks": ""
            },
            "type": "contourcarpet"
           }
          ],
          "heatmap": [
           {
            "colorbar": {
             "outlinewidth": 0,
             "ticks": ""
            },
            "colorscale": [
             [
              0,
              "#0d0887"
             ],
             [
              0.1111111111111111,
              "#46039f"
             ],
             [
              0.2222222222222222,
              "#7201a8"
             ],
             [
              0.3333333333333333,
              "#9c179e"
             ],
             [
              0.4444444444444444,
              "#bd3786"
             ],
             [
              0.5555555555555556,
              "#d8576b"
             ],
             [
              0.6666666666666666,
              "#ed7953"
             ],
             [
              0.7777777777777778,
              "#fb9f3a"
             ],
             [
              0.8888888888888888,
              "#fdca26"
             ],
             [
              1,
              "#f0f921"
             ]
            ],
            "type": "heatmap"
           }
          ],
          "heatmapgl": [
           {
            "colorbar": {
             "outlinewidth": 0,
             "ticks": ""
            },
            "colorscale": [
             [
              0,
              "#0d0887"
             ],
             [
              0.1111111111111111,
              "#46039f"
             ],
             [
              0.2222222222222222,
              "#7201a8"
             ],
             [
              0.3333333333333333,
              "#9c179e"
             ],
             [
              0.4444444444444444,
              "#bd3786"
             ],
             [
              0.5555555555555556,
              "#d8576b"
             ],
             [
              0.6666666666666666,
              "#ed7953"
             ],
             [
              0.7777777777777778,
              "#fb9f3a"
             ],
             [
              0.8888888888888888,
              "#fdca26"
             ],
             [
              1,
              "#f0f921"
             ]
            ],
            "type": "heatmapgl"
           }
          ],
          "histogram": [
           {
            "marker": {
             "pattern": {
              "fillmode": "overlay",
              "size": 10,
              "solidity": 0.2
             }
            },
            "type": "histogram"
           }
          ],
          "histogram2d": [
           {
            "colorbar": {
             "outlinewidth": 0,
             "ticks": ""
            },
            "colorscale": [
             [
              0,
              "#0d0887"
             ],
             [
              0.1111111111111111,
              "#46039f"
             ],
             [
              0.2222222222222222,
              "#7201a8"
             ],
             [
              0.3333333333333333,
              "#9c179e"
             ],
             [
              0.4444444444444444,
              "#bd3786"
             ],
             [
              0.5555555555555556,
              "#d8576b"
             ],
             [
              0.6666666666666666,
              "#ed7953"
             ],
             [
              0.7777777777777778,
              "#fb9f3a"
             ],
             [
              0.8888888888888888,
              "#fdca26"
             ],
             [
              1,
              "#f0f921"
             ]
            ],
            "type": "histogram2d"
           }
          ],
          "histogram2dcontour": [
           {
            "colorbar": {
             "outlinewidth": 0,
             "ticks": ""
            },
            "colorscale": [
             [
              0,
              "#0d0887"
             ],
             [
              0.1111111111111111,
              "#46039f"
             ],
             [
              0.2222222222222222,
              "#7201a8"
             ],
             [
              0.3333333333333333,
              "#9c179e"
             ],
             [
              0.4444444444444444,
              "#bd3786"
             ],
             [
              0.5555555555555556,
              "#d8576b"
             ],
             [
              0.6666666666666666,
              "#ed7953"
             ],
             [
              0.7777777777777778,
              "#fb9f3a"
             ],
             [
              0.8888888888888888,
              "#fdca26"
             ],
             [
              1,
              "#f0f921"
             ]
            ],
            "type": "histogram2dcontour"
           }
          ],
          "mesh3d": [
           {
            "colorbar": {
             "outlinewidth": 0,
             "ticks": ""
            },
            "type": "mesh3d"
           }
          ],
          "parcoords": [
           {
            "line": {
             "colorbar": {
              "outlinewidth": 0,
              "ticks": ""
             }
            },
            "type": "parcoords"
           }
          ],
          "pie": [
           {
            "automargin": true,
            "type": "pie"
           }
          ],
          "scatter": [
           {
            "fillpattern": {
             "fillmode": "overlay",
             "size": 10,
             "solidity": 0.2
            },
            "type": "scatter"
           }
          ],
          "scatter3d": [
           {
            "line": {
             "colorbar": {
              "outlinewidth": 0,
              "ticks": ""
             }
            },
            "marker": {
             "colorbar": {
              "outlinewidth": 0,
              "ticks": ""
             }
            },
            "type": "scatter3d"
           }
          ],
          "scattercarpet": [
           {
            "marker": {
             "colorbar": {
              "outlinewidth": 0,
              "ticks": ""
             }
            },
            "type": "scattercarpet"
           }
          ],
          "scattergeo": [
           {
            "marker": {
             "colorbar": {
              "outlinewidth": 0,
              "ticks": ""
             }
            },
            "type": "scattergeo"
           }
          ],
          "scattergl": [
           {
            "marker": {
             "colorbar": {
              "outlinewidth": 0,
              "ticks": ""
             }
            },
            "type": "scattergl"
           }
          ],
          "scattermapbox": [
           {
            "marker": {
             "colorbar": {
              "outlinewidth": 0,
              "ticks": ""
             }
            },
            "type": "scattermapbox"
           }
          ],
          "scatterpolar": [
           {
            "marker": {
             "colorbar": {
              "outlinewidth": 0,
              "ticks": ""
             }
            },
            "type": "scatterpolar"
           }
          ],
          "scatterpolargl": [
           {
            "marker": {
             "colorbar": {
              "outlinewidth": 0,
              "ticks": ""
             }
            },
            "type": "scatterpolargl"
           }
          ],
          "scatterternary": [
           {
            "marker": {
             "colorbar": {
              "outlinewidth": 0,
              "ticks": ""
             }
            },
            "type": "scatterternary"
           }
          ],
          "surface": [
           {
            "colorbar": {
             "outlinewidth": 0,
             "ticks": ""
            },
            "colorscale": [
             [
              0,
              "#0d0887"
             ],
             [
              0.1111111111111111,
              "#46039f"
             ],
             [
              0.2222222222222222,
              "#7201a8"
             ],
             [
              0.3333333333333333,
              "#9c179e"
             ],
             [
              0.4444444444444444,
              "#bd3786"
             ],
             [
              0.5555555555555556,
              "#d8576b"
             ],
             [
              0.6666666666666666,
              "#ed7953"
             ],
             [
              0.7777777777777778,
              "#fb9f3a"
             ],
             [
              0.8888888888888888,
              "#fdca26"
             ],
             [
              1,
              "#f0f921"
             ]
            ],
            "type": "surface"
           }
          ],
          "table": [
           {
            "cells": {
             "fill": {
              "color": "#EBF0F8"
             },
             "line": {
              "color": "white"
             }
            },
            "header": {
             "fill": {
              "color": "#C8D4E3"
             },
             "line": {
              "color": "white"
             }
            },
            "type": "table"
           }
          ]
         },
         "layout": {
          "annotationdefaults": {
           "arrowcolor": "#2a3f5f",
           "arrowhead": 0,
           "arrowwidth": 1
          },
          "autotypenumbers": "strict",
          "coloraxis": {
           "colorbar": {
            "outlinewidth": 0,
            "ticks": ""
           }
          },
          "colorscale": {
           "diverging": [
            [
             0,
             "#8e0152"
            ],
            [
             0.1,
             "#c51b7d"
            ],
            [
             0.2,
             "#de77ae"
            ],
            [
             0.3,
             "#f1b6da"
            ],
            [
             0.4,
             "#fde0ef"
            ],
            [
             0.5,
             "#f7f7f7"
            ],
            [
             0.6,
             "#e6f5d0"
            ],
            [
             0.7,
             "#b8e186"
            ],
            [
             0.8,
             "#7fbc41"
            ],
            [
             0.9,
             "#4d9221"
            ],
            [
             1,
             "#276419"
            ]
           ],
           "sequential": [
            [
             0,
             "#0d0887"
            ],
            [
             0.1111111111111111,
             "#46039f"
            ],
            [
             0.2222222222222222,
             "#7201a8"
            ],
            [
             0.3333333333333333,
             "#9c179e"
            ],
            [
             0.4444444444444444,
             "#bd3786"
            ],
            [
             0.5555555555555556,
             "#d8576b"
            ],
            [
             0.6666666666666666,
             "#ed7953"
            ],
            [
             0.7777777777777778,
             "#fb9f3a"
            ],
            [
             0.8888888888888888,
             "#fdca26"
            ],
            [
             1,
             "#f0f921"
            ]
           ],
           "sequentialminus": [
            [
             0,
             "#0d0887"
            ],
            [
             0.1111111111111111,
             "#46039f"
            ],
            [
             0.2222222222222222,
             "#7201a8"
            ],
            [
             0.3333333333333333,
             "#9c179e"
            ],
            [
             0.4444444444444444,
             "#bd3786"
            ],
            [
             0.5555555555555556,
             "#d8576b"
            ],
            [
             0.6666666666666666,
             "#ed7953"
            ],
            [
             0.7777777777777778,
             "#fb9f3a"
            ],
            [
             0.8888888888888888,
             "#fdca26"
            ],
            [
             1,
             "#f0f921"
            ]
           ]
          },
          "colorway": [
           "#636efa",
           "#EF553B",
           "#00cc96",
           "#ab63fa",
           "#FFA15A",
           "#19d3f3",
           "#FF6692",
           "#B6E880",
           "#FF97FF",
           "#FECB52"
          ],
          "font": {
           "color": "#2a3f5f"
          },
          "geo": {
           "bgcolor": "white",
           "lakecolor": "white",
           "landcolor": "white",
           "showlakes": true,
           "showland": true,
           "subunitcolor": "#C8D4E3"
          },
          "hoverlabel": {
           "align": "left"
          },
          "hovermode": "closest",
          "mapbox": {
           "style": "light"
          },
          "paper_bgcolor": "white",
          "plot_bgcolor": "white",
          "polar": {
           "angularaxis": {
            "gridcolor": "#EBF0F8",
            "linecolor": "#EBF0F8",
            "ticks": ""
           },
           "bgcolor": "white",
           "radialaxis": {
            "gridcolor": "#EBF0F8",
            "linecolor": "#EBF0F8",
            "ticks": ""
           }
          },
          "scene": {
           "xaxis": {
            "backgroundcolor": "white",
            "gridcolor": "#DFE8F3",
            "gridwidth": 2,
            "linecolor": "#EBF0F8",
            "showbackground": true,
            "ticks": "",
            "zerolinecolor": "#EBF0F8"
           },
           "yaxis": {
            "backgroundcolor": "white",
            "gridcolor": "#DFE8F3",
            "gridwidth": 2,
            "linecolor": "#EBF0F8",
            "showbackground": true,
            "ticks": "",
            "zerolinecolor": "#EBF0F8"
           },
           "zaxis": {
            "backgroundcolor": "white",
            "gridcolor": "#DFE8F3",
            "gridwidth": 2,
            "linecolor": "#EBF0F8",
            "showbackground": true,
            "ticks": "",
            "zerolinecolor": "#EBF0F8"
           }
          },
          "shapedefaults": {
           "line": {
            "color": "#2a3f5f"
           }
          },
          "ternary": {
           "aaxis": {
            "gridcolor": "#DFE8F3",
            "linecolor": "#A2B1C6",
            "ticks": ""
           },
           "baxis": {
            "gridcolor": "#DFE8F3",
            "linecolor": "#A2B1C6",
            "ticks": ""
           },
           "bgcolor": "white",
           "caxis": {
            "gridcolor": "#DFE8F3",
            "linecolor": "#A2B1C6",
            "ticks": ""
           }
          },
          "title": {
           "x": 0.05
          },
          "xaxis": {
           "automargin": true,
           "gridcolor": "#EBF0F8",
           "linecolor": "#EBF0F8",
           "ticks": "",
           "title": {
            "standoff": 15
           },
           "zerolinecolor": "#EBF0F8",
           "zerolinewidth": 2
          },
          "yaxis": {
           "automargin": true,
           "gridcolor": "#EBF0F8",
           "linecolor": "#EBF0F8",
           "ticks": "",
           "title": {
            "standoff": 15
           },
           "zerolinecolor": "#EBF0F8",
           "zerolinewidth": 2
          }
         }
        },
        "title": {
         "font": {
          "size": 12
         }
        },
        "width": 700,
        "xaxis": {
         "linewidth": 1.5,
         "mirror": true,
         "rangeselector": {
          "buttons": [
           {
            "count": 7,
            "label": "1w",
            "step": "day",
            "stepmode": "backward"
           },
           {
            "count": 1,
            "label": "1m",
            "step": "month",
            "stepmode": "backward"
           },
           {
            "count": 6,
            "label": "6m",
            "step": "month",
            "stepmode": "backward"
           },
           {
            "count": 1,
            "label": "1y",
            "step": "year",
            "stepmode": "backward"
           },
           {
            "step": "all"
           }
          ]
         },
         "rangeslider": {
          "visible": true
         },
         "showline": true,
         "title": {
          "text": "ds"
         },
         "type": "date"
        },
        "yaxis": {
         "linewidth": 1.5,
         "mirror": true,
         "showline": true,
         "title": {
          "text": "y"
         }
        }
       }
      }
     },
     "metadata": {},
     "output_type": "display_data"
    }
   ],
   "source": [
    "m.plot(forecast)"
   ]
  },
  {
   "cell_type": "code",
   "execution_count": 195,
   "id": "134872e5-cf34-4ec8-a106-7c82adba61f7",
   "metadata": {
    "scrolled": true
   },
   "outputs": [
    {
     "data": {
      "application/vnd.plotly.v1+json": {
       "config": {
        "plotlyServerURL": "https://plot.ly"
       },
       "data": [
        {
         "line": {
          "color": "#2d92ff",
          "width": 2
         },
         "mode": "lines",
         "name": "Trend",
         "showlegend": false,
         "type": "scatter",
         "x": [
          "1881-01-01T00:00:00",
          "1882-01-01T00:00:00",
          "1883-01-01T00:00:00",
          "1884-01-01T00:00:00",
          "1885-01-01T00:00:00",
          "1886-01-01T00:00:00",
          "1887-01-01T00:00:00",
          "1888-01-01T00:00:00",
          "1889-01-01T00:00:00",
          "1890-01-01T00:00:00",
          "1891-01-01T00:00:00",
          "1892-01-01T00:00:00",
          "1893-01-01T00:00:00",
          "1894-01-01T00:00:00",
          "1895-01-01T00:00:00",
          "1896-01-01T00:00:00",
          "1897-01-01T00:00:00",
          "1898-01-01T00:00:00",
          "1899-01-01T00:00:00",
          "1900-01-01T00:00:00",
          "1901-01-01T00:00:00",
          "1902-01-01T00:00:00",
          "1903-01-01T00:00:00",
          "1904-01-01T00:00:00",
          "1905-01-01T00:00:00",
          "1906-01-01T00:00:00",
          "1907-01-01T00:00:00",
          "1908-01-01T00:00:00",
          "1909-01-01T00:00:00",
          "1910-01-01T00:00:00",
          "1911-01-01T00:00:00",
          "1912-01-01T00:00:00",
          "1913-01-01T00:00:00",
          "1914-01-01T00:00:00",
          "1915-01-01T00:00:00",
          "1916-01-01T00:00:00",
          "1917-01-01T00:00:00",
          "1918-01-01T00:00:00",
          "1919-01-01T00:00:00",
          "1920-01-01T00:00:00",
          "1921-01-01T00:00:00",
          "1922-01-01T00:00:00",
          "1923-01-01T00:00:00",
          "1924-01-01T00:00:00",
          "1925-01-01T00:00:00",
          "1926-01-01T00:00:00",
          "1927-01-01T00:00:00",
          "1928-01-01T00:00:00",
          "1929-01-01T00:00:00",
          "1930-01-01T00:00:00",
          "1931-01-01T00:00:00",
          "1932-01-01T00:00:00",
          "1933-01-01T00:00:00",
          "1934-01-01T00:00:00",
          "1935-01-01T00:00:00",
          "1936-01-01T00:00:00",
          "1937-01-01T00:00:00",
          "1938-01-01T00:00:00",
          "1939-01-01T00:00:00",
          "1940-01-01T00:00:00",
          "1941-01-01T00:00:00",
          "1942-01-01T00:00:00",
          "1943-01-01T00:00:00",
          "1944-01-01T00:00:00",
          "1945-01-01T00:00:00",
          "1946-01-01T00:00:00",
          "1947-01-01T00:00:00",
          "1948-01-01T00:00:00",
          "1949-01-01T00:00:00",
          "1950-01-01T00:00:00",
          "1951-01-01T00:00:00",
          "1952-01-01T00:00:00",
          "1953-01-01T00:00:00",
          "1954-01-01T00:00:00",
          "1955-01-01T00:00:00",
          "1956-01-01T00:00:00",
          "1957-01-01T00:00:00",
          "1958-01-01T00:00:00",
          "1959-01-01T00:00:00",
          "1960-01-01T00:00:00",
          "1961-01-01T00:00:00",
          "1962-01-01T00:00:00",
          "1963-01-01T00:00:00",
          "1964-01-01T00:00:00",
          "1965-01-01T00:00:00",
          "1966-01-01T00:00:00",
          "1967-01-01T00:00:00",
          "1968-01-01T00:00:00",
          "1969-01-01T00:00:00",
          "1970-01-01T00:00:00",
          "1971-01-01T00:00:00",
          "1972-01-01T00:00:00",
          "1973-01-01T00:00:00",
          "1974-01-01T00:00:00",
          "1975-01-01T00:00:00",
          "1976-01-01T00:00:00",
          "1977-01-01T00:00:00",
          "1978-01-01T00:00:00",
          "1979-01-01T00:00:00",
          "1980-01-01T00:00:00",
          "1981-01-01T00:00:00",
          "1982-01-01T00:00:00",
          "1983-01-01T00:00:00",
          "1984-01-01T00:00:00",
          "1985-01-01T00:00:00",
          "1986-01-01T00:00:00",
          "1987-01-01T00:00:00",
          "1988-01-01T00:00:00",
          "1989-01-01T00:00:00",
          "1990-01-01T00:00:00",
          "1991-01-01T00:00:00",
          "1992-01-01T00:00:00",
          "1993-01-01T00:00:00",
          "1994-01-01T00:00:00",
          "1995-01-01T00:00:00",
          "1996-01-01T00:00:00",
          "1997-01-01T00:00:00",
          "1998-01-01T00:00:00",
          "1999-01-01T00:00:00",
          "2000-01-01T00:00:00",
          "2001-01-01T00:00:00",
          "2002-01-01T00:00:00",
          "2003-01-01T00:00:00",
          "2004-01-01T00:00:00",
          "2005-01-01T00:00:00",
          "2006-01-01T00:00:00",
          "2007-01-01T00:00:00",
          "2008-01-01T00:00:00",
          "2009-01-01T00:00:00",
          "2010-01-01T00:00:00",
          "2011-01-01T00:00:00",
          "2012-01-01T00:00:00",
          "2013-01-01T00:00:00",
          "2014-01-01T00:00:00",
          "2015-01-01T00:00:00",
          "2016-01-01T00:00:00",
          "2017-01-01T00:00:00",
          "2018-01-01T00:00:00",
          "2019-01-01T00:00:00",
          "2020-01-01T00:00:00",
          "2021-01-01T00:00:00",
          "2022-01-01T00:00:00"
         ],
         "xaxis": "x",
         "y": [
          56943.52734375,
          57000.765625,
          57058,
          57115.234375,
          57172.62890625,
          57229.86328125,
          57287.09765625,
          57344.3359375,
          57401.7265625,
          57458.9609375,
          57519.46875,
          57581.0859375,
          57642.87890625,
          57704.49609375,
          57766.1171875,
          57827.73828125,
          57889.5234375,
          57951.14453125,
          58012.765625,
          58074.38671875,
          58165.94140625,
          58288.57421875,
          58411.20703125,
          58533.84375,
          58656.8125,
          58779.44921875,
          58902.08203125,
          59024.71484375,
          59147.68359375,
          59270.31640625,
          59383.22265625,
          59464.3828125,
          59545.76953125,
          59626.93359375,
          59708.09765625,
          59789.2578125,
          59870.64453125,
          59951.80859375,
          60032.96875,
          60114.1328125,
          60195.51953125,
          60261.7890625,
          60327.77734375,
          60393.76953125,
          60459.9375,
          60525.9296875,
          60591.91796875,
          60657.90625,
          60724.078125,
          60790.06640625,
          60856.05859375,
          60985.734375,
          61139.9609375,
          61293.765625,
          61447.56640625,
          61601.375,
          61755.6015625,
          61909.40234375,
          62063.2109375,
          62217.01171875,
          62371.2421875,
          62541.3984375,
          62729.84765625,
          62918.29296875,
          63107.2578125,
          63295.70703125,
          63484.15625,
          63672.609375,
          63861.57421875,
          64050.01953125,
          64238.46875,
          64442.9375,
          64706.29296875,
          64968.92578125,
          65231.5625,
          65494.19140625,
          65757.546875,
          66020.1796875,
          66282.8125,
          66545.4453125,
          66808.796875,
          67071.4296875,
          67522.65625,
          67981.203125,
          68441.0078125,
          68899.5546875,
          69358.1015625,
          69816.6484375,
          70276.453125,
          70734.9921875,
          71193.53125,
          71652.0859375,
          72025.78125,
          72362.9375,
          72700.1015625,
          73037.2578125,
          73375.34375,
          73712.5078125,
          74049.6640625,
          74386.8203125,
          74724.90625,
          75062.0625,
          75475.3828125,
          75980.546875,
          76487.109375,
          76992.265625,
          77497.4375,
          78002.609375,
          78509.15625,
          79014.328125,
          79519.5,
          80024.6640625,
          80531.21875,
          81036.390625,
          81541.5546875,
          82046.7265625,
          82553.28125,
          83058.4453125,
          83563.6171875,
          84068.7890625,
          84575.3359375,
          85080.5078125,
          85585.671875,
          86090.84375,
          86597.3984375,
          87102.5703125,
          87607.7265625,
          88112.8984375,
          88619.453125,
          89124.6171875,
          89629.7890625,
          90134.9609375,
          90641.5078125,
          91146.6796875,
          91651.8515625,
          92157.015625,
          92663.5703125,
          93168.734375,
          93673.90625,
          94179.078125,
          94685.6328125,
          95190.796875
         ],
         "yaxis": "y"
        },
        {
         "line": {
          "color": "#2d92ff",
          "width": 2
         },
         "mode": "lines",
         "name": "yearly seasonality",
         "showlegend": false,
         "type": "scatter",
         "x": [
          "1881-01-01T00:00:00",
          "1882-01-01T00:00:00",
          "1883-01-01T00:00:00",
          "1884-01-01T00:00:00",
          "1885-01-01T00:00:00",
          "1886-01-01T00:00:00",
          "1887-01-01T00:00:00",
          "1888-01-01T00:00:00",
          "1889-01-01T00:00:00",
          "1890-01-01T00:00:00",
          "1891-01-01T00:00:00",
          "1892-01-01T00:00:00",
          "1893-01-01T00:00:00",
          "1894-01-01T00:00:00",
          "1895-01-01T00:00:00",
          "1896-01-01T00:00:00",
          "1897-01-01T00:00:00",
          "1898-01-01T00:00:00",
          "1899-01-01T00:00:00",
          "1900-01-01T00:00:00",
          "1901-01-01T00:00:00",
          "1902-01-01T00:00:00",
          "1903-01-01T00:00:00",
          "1904-01-01T00:00:00",
          "1905-01-01T00:00:00",
          "1906-01-01T00:00:00",
          "1907-01-01T00:00:00",
          "1908-01-01T00:00:00",
          "1909-01-01T00:00:00",
          "1910-01-01T00:00:00",
          "1911-01-01T00:00:00",
          "1912-01-01T00:00:00",
          "1913-01-01T00:00:00",
          "1914-01-01T00:00:00",
          "1915-01-01T00:00:00",
          "1916-01-01T00:00:00",
          "1917-01-01T00:00:00",
          "1918-01-01T00:00:00",
          "1919-01-01T00:00:00",
          "1920-01-01T00:00:00",
          "1921-01-01T00:00:00",
          "1922-01-01T00:00:00",
          "1923-01-01T00:00:00",
          "1924-01-01T00:00:00",
          "1925-01-01T00:00:00",
          "1926-01-01T00:00:00",
          "1927-01-01T00:00:00",
          "1928-01-01T00:00:00",
          "1929-01-01T00:00:00",
          "1930-01-01T00:00:00",
          "1931-01-01T00:00:00",
          "1932-01-01T00:00:00",
          "1933-01-01T00:00:00",
          "1934-01-01T00:00:00",
          "1935-01-01T00:00:00",
          "1936-01-01T00:00:00",
          "1937-01-01T00:00:00",
          "1938-01-01T00:00:00",
          "1939-01-01T00:00:00",
          "1940-01-01T00:00:00",
          "1941-01-01T00:00:00",
          "1942-01-01T00:00:00",
          "1943-01-01T00:00:00",
          "1944-01-01T00:00:00",
          "1945-01-01T00:00:00",
          "1946-01-01T00:00:00",
          "1947-01-01T00:00:00",
          "1948-01-01T00:00:00",
          "1949-01-01T00:00:00",
          "1950-01-01T00:00:00",
          "1951-01-01T00:00:00",
          "1952-01-01T00:00:00",
          "1953-01-01T00:00:00",
          "1954-01-01T00:00:00",
          "1955-01-01T00:00:00",
          "1956-01-01T00:00:00",
          "1957-01-01T00:00:00",
          "1958-01-01T00:00:00",
          "1959-01-01T00:00:00",
          "1960-01-01T00:00:00",
          "1961-01-01T00:00:00",
          "1962-01-01T00:00:00",
          "1963-01-01T00:00:00",
          "1964-01-01T00:00:00",
          "1965-01-01T00:00:00",
          "1966-01-01T00:00:00",
          "1967-01-01T00:00:00",
          "1968-01-01T00:00:00",
          "1969-01-01T00:00:00",
          "1970-01-01T00:00:00",
          "1971-01-01T00:00:00",
          "1972-01-01T00:00:00",
          "1973-01-01T00:00:00",
          "1974-01-01T00:00:00",
          "1975-01-01T00:00:00",
          "1976-01-01T00:00:00",
          "1977-01-01T00:00:00",
          "1978-01-01T00:00:00",
          "1979-01-01T00:00:00",
          "1980-01-01T00:00:00",
          "1981-01-01T00:00:00",
          "1982-01-01T00:00:00",
          "1983-01-01T00:00:00",
          "1984-01-01T00:00:00",
          "1985-01-01T00:00:00",
          "1986-01-01T00:00:00",
          "1987-01-01T00:00:00",
          "1988-01-01T00:00:00",
          "1989-01-01T00:00:00",
          "1990-01-01T00:00:00",
          "1991-01-01T00:00:00",
          "1992-01-01T00:00:00",
          "1993-01-01T00:00:00",
          "1994-01-01T00:00:00",
          "1995-01-01T00:00:00",
          "1996-01-01T00:00:00",
          "1997-01-01T00:00:00",
          "1998-01-01T00:00:00",
          "1999-01-01T00:00:00",
          "2000-01-01T00:00:00",
          "2001-01-01T00:00:00",
          "2002-01-01T00:00:00",
          "2003-01-01T00:00:00",
          "2004-01-01T00:00:00",
          "2005-01-01T00:00:00",
          "2006-01-01T00:00:00",
          "2007-01-01T00:00:00",
          "2008-01-01T00:00:00",
          "2009-01-01T00:00:00",
          "2010-01-01T00:00:00",
          "2011-01-01T00:00:00",
          "2012-01-01T00:00:00",
          "2013-01-01T00:00:00",
          "2014-01-01T00:00:00",
          "2015-01-01T00:00:00",
          "2016-01-01T00:00:00",
          "2017-01-01T00:00:00",
          "2018-01-01T00:00:00",
          "2019-01-01T00:00:00",
          "2020-01-01T00:00:00",
          "2021-01-01T00:00:00",
          "2022-01-01T00:00:00"
         ],
         "xaxis": "x2",
         "y": [
          -56704.35546875,
          -56735.58203125,
          -56761.33203125,
          -56781.59375,
          -56704.35546875,
          -56735.58203125,
          -56761.33203125,
          -56781.59375,
          -56704.35546875,
          -56735.58203125,
          -56761.33203125,
          -56781.59375,
          -56704.35546875,
          -56735.58203125,
          -56761.33203125,
          -56781.59375,
          -56704.35546875,
          -56735.58203125,
          -56761.33203125,
          -56781.59375,
          -56796.35546875,
          -56805.609375,
          -56809.33203125,
          -56807.5078125,
          -56796.35546875,
          -56805.609375,
          -56809.33203125,
          -56807.5078125,
          -56796.35546875,
          -56805.609375,
          -56809.33203125,
          -56807.5078125,
          -56796.35546875,
          -56805.609375,
          -56809.33203125,
          -56807.5078125,
          -56796.35546875,
          -56805.609375,
          -56809.33203125,
          -56807.5078125,
          -56796.35546875,
          -56805.609375,
          -56809.33203125,
          -56807.5078125,
          -56796.35546875,
          -56805.609375,
          -56809.33203125,
          -56807.5078125,
          -56796.35546875,
          -56805.609375,
          -56809.33203125,
          -56807.5078125,
          -56796.35546875,
          -56805.609375,
          -56809.33203125,
          -56807.5078125,
          -56796.35546875,
          -56805.609375,
          -56809.33203125,
          -56807.5078125,
          -56796.35546875,
          -56805.609375,
          -56809.33203125,
          -56807.5078125,
          -56796.35546875,
          -56805.609375,
          -56809.33203125,
          -56807.5078125,
          -56796.35546875,
          -56805.609375,
          -56809.33203125,
          -56807.5078125,
          -56796.35546875,
          -56805.609375,
          -56809.33203125,
          -56807.5078125,
          -56796.35546875,
          -56805.609375,
          -56809.33203125,
          -56807.5078125,
          -56796.35546875,
          -56805.609375,
          -56809.33203125,
          -56807.5078125,
          -56796.35546875,
          -56805.609375,
          -56809.33203125,
          -56807.5078125,
          -56796.35546875,
          -56805.609375,
          -56809.33203125,
          -56807.5078125,
          -56796.35546875,
          -56805.609375,
          -56809.33203125,
          -56807.5078125,
          -56796.35546875,
          -56805.609375,
          -56809.33203125,
          -56807.5078125,
          -56796.35546875,
          -56805.609375,
          -56809.33203125,
          -56807.5078125,
          -56796.35546875,
          -56805.609375,
          -56809.33203125,
          -56807.5078125,
          -56796.35546875,
          -56805.609375,
          -56809.33203125,
          -56807.5078125,
          -56796.35546875,
          -56805.609375,
          -56809.33203125,
          -56807.5078125,
          -56796.35546875,
          -56805.609375,
          -56809.33203125,
          -56807.5078125,
          -56796.35546875,
          -56805.609375,
          -56809.33203125,
          -56807.5078125,
          -56796.35546875,
          -56805.609375,
          -56809.33203125,
          -56807.5078125,
          -56796.35546875,
          -56805.609375,
          -56809.33203125,
          -56807.5078125,
          -56796.35546875,
          -56805.609375,
          -56809.33203125,
          -56807.5078125,
          -56796.35546875,
          -56805.609375,
          -56809.33203125,
          -56807.5078125,
          -56796.35546875,
          -56805.609375
         ],
         "yaxis": "y2"
        },
        {
         "marker": {
          "color": "#2d92ff"
         },
         "name": "Auto-Regression",
         "opacity": 1,
         "showlegend": false,
         "type": "bar",
         "x": [
          "1881-01-01T00:00:00",
          "1882-01-01T00:00:00",
          "1883-01-01T00:00:00",
          "1884-01-01T00:00:00",
          "1885-01-01T00:00:00",
          "1886-01-01T00:00:00",
          "1887-01-01T00:00:00",
          "1888-01-01T00:00:00",
          "1889-01-01T00:00:00",
          "1890-01-01T00:00:00",
          "1891-01-01T00:00:00",
          "1892-01-01T00:00:00",
          "1893-01-01T00:00:00",
          "1894-01-01T00:00:00",
          "1895-01-01T00:00:00",
          "1896-01-01T00:00:00",
          "1897-01-01T00:00:00",
          "1898-01-01T00:00:00",
          "1899-01-01T00:00:00",
          "1900-01-01T00:00:00",
          "1901-01-01T00:00:00",
          "1902-01-01T00:00:00",
          "1903-01-01T00:00:00",
          "1904-01-01T00:00:00",
          "1905-01-01T00:00:00",
          "1906-01-01T00:00:00",
          "1907-01-01T00:00:00",
          "1908-01-01T00:00:00",
          "1909-01-01T00:00:00",
          "1910-01-01T00:00:00",
          "1911-01-01T00:00:00",
          "1912-01-01T00:00:00",
          "1913-01-01T00:00:00",
          "1914-01-01T00:00:00",
          "1915-01-01T00:00:00",
          "1916-01-01T00:00:00",
          "1917-01-01T00:00:00",
          "1918-01-01T00:00:00",
          "1919-01-01T00:00:00",
          "1920-01-01T00:00:00",
          "1921-01-01T00:00:00",
          "1922-01-01T00:00:00",
          "1923-01-01T00:00:00",
          "1924-01-01T00:00:00",
          "1925-01-01T00:00:00",
          "1926-01-01T00:00:00",
          "1927-01-01T00:00:00",
          "1928-01-01T00:00:00",
          "1929-01-01T00:00:00",
          "1930-01-01T00:00:00",
          "1931-01-01T00:00:00",
          "1932-01-01T00:00:00",
          "1933-01-01T00:00:00",
          "1934-01-01T00:00:00",
          "1935-01-01T00:00:00",
          "1936-01-01T00:00:00",
          "1937-01-01T00:00:00",
          "1938-01-01T00:00:00",
          "1939-01-01T00:00:00",
          "1940-01-01T00:00:00",
          "1941-01-01T00:00:00",
          "1942-01-01T00:00:00",
          "1943-01-01T00:00:00",
          "1944-01-01T00:00:00",
          "1945-01-01T00:00:00",
          "1946-01-01T00:00:00",
          "1947-01-01T00:00:00",
          "1948-01-01T00:00:00",
          "1949-01-01T00:00:00",
          "1950-01-01T00:00:00",
          "1951-01-01T00:00:00",
          "1952-01-01T00:00:00",
          "1953-01-01T00:00:00",
          "1954-01-01T00:00:00",
          "1955-01-01T00:00:00",
          "1956-01-01T00:00:00",
          "1957-01-01T00:00:00",
          "1958-01-01T00:00:00",
          "1959-01-01T00:00:00",
          "1960-01-01T00:00:00",
          "1961-01-01T00:00:00",
          "1962-01-01T00:00:00",
          "1963-01-01T00:00:00",
          "1964-01-01T00:00:00",
          "1965-01-01T00:00:00",
          "1966-01-01T00:00:00",
          "1967-01-01T00:00:00",
          "1968-01-01T00:00:00",
          "1969-01-01T00:00:00",
          "1970-01-01T00:00:00",
          "1971-01-01T00:00:00",
          "1972-01-01T00:00:00",
          "1973-01-01T00:00:00",
          "1974-01-01T00:00:00",
          "1975-01-01T00:00:00",
          "1976-01-01T00:00:00",
          "1977-01-01T00:00:00",
          "1978-01-01T00:00:00",
          "1979-01-01T00:00:00",
          "1980-01-01T00:00:00",
          "1981-01-01T00:00:00",
          "1982-01-01T00:00:00",
          "1983-01-01T00:00:00",
          "1984-01-01T00:00:00",
          "1985-01-01T00:00:00",
          "1986-01-01T00:00:00",
          "1987-01-01T00:00:00",
          "1988-01-01T00:00:00",
          "1989-01-01T00:00:00",
          "1990-01-01T00:00:00",
          "1991-01-01T00:00:00",
          "1992-01-01T00:00:00",
          "1993-01-01T00:00:00",
          "1994-01-01T00:00:00",
          "1995-01-01T00:00:00",
          "1996-01-01T00:00:00",
          "1997-01-01T00:00:00",
          "1998-01-01T00:00:00",
          "1999-01-01T00:00:00",
          "2000-01-01T00:00:00",
          "2001-01-01T00:00:00",
          "2002-01-01T00:00:00",
          "2003-01-01T00:00:00",
          "2004-01-01T00:00:00",
          "2005-01-01T00:00:00",
          "2006-01-01T00:00:00",
          "2007-01-01T00:00:00",
          "2008-01-01T00:00:00",
          "2009-01-01T00:00:00",
          "2010-01-01T00:00:00",
          "2011-01-01T00:00:00",
          "2012-01-01T00:00:00",
          "2013-01-01T00:00:00",
          "2014-01-01T00:00:00",
          "2015-01-01T00:00:00",
          "2016-01-01T00:00:00",
          "2017-01-01T00:00:00",
          "2018-01-01T00:00:00",
          "2019-01-01T00:00:00",
          "2020-01-01T00:00:00",
          "2021-01-01T00:00:00",
          "2022-01-01T00:00:00"
         ],
         "xaxis": "x3",
         "y": [
          308.9057922363281,
          265.2265625,
          274.91943359375,
          286.31036376953125,
          275.6599426269531,
          223.2362823486328,
          219.0297393798828,
          227.19338989257812,
          259.5775146484375,
          203.86962890625,
          237.12542724609375,
          247.7039031982422,
          235.27554321289062,
          171.17770385742188,
          178.10470581054688,
          198.12051391601562,
          201.0367889404297,
          173.64634704589844,
          197.38504028320312,
          247.13894653320312,
          271.90032958984375,
          266.845458984375,
          241.09866333007812,
          268.9318542480469,
          228.19114685058594,
          233.73501586914062,
          231.2756805419922,
          328.03607177734375,
          230.57705688476562,
          222.30596923828125,
          234.6638946533203,
          208.3616943359375,
          238.6022186279297,
          311.9116516113281,
          147.85682678222656,
          97.1507568359375,
          166.3883514404297,
          191.9677734375,
          142.93153381347656,
          -80.43824005126953,
          88.41899108886719,
          -127.70018005371094,
          -89.24869537353516,
          64.71546173095703,
          41.16685104370117,
          25.58675765991211,
          -25.162750244140625,
          87.071044921875,
          51.81868362426758,
          140.16685485839844,
          -20.50590705871582,
          -218.4502410888672,
          -415.39752197265625,
          -414.50372314453125,
          -353.5340270996094,
          -341.0539245605469,
          -252.67112731933594,
          -201.99305725097656,
          -372.1395568847656,
          -333.3475646972656,
          -228.7834930419922,
          -251.21009826660156,
          -322.5154724121094,
          -365.0984191894531,
          -412.3897399902344,
          -849.675048828125,
          -763.5473022460938,
          -633.4861450195312,
          -597.6360473632812,
          -750.1903076171875,
          -511.767333984375,
          -432.6819152832031,
          -482.30999755859375,
          -520.438720703125,
          -566.2813720703125,
          -403.6716003417969,
          -314.37786865234375,
          -319.8256530761719,
          -328.6094970703125,
          -254.51931762695312,
          -144.42984008789062,
          -244.9200439453125,
          -212.25634765625,
          -182.1171112060547,
          -141.87960815429688,
          -134.8569793701172,
          -93.60536193847656,
          -125.65531158447266,
          -40.51007843017578,
          118.46528625488281,
          399.6894226074219,
          462.3484191894531,
          570.7354736328125,
          765.6111450195312,
          602.06982421875,
          479.898193359375,
          726.5905151367188,
          793.2753295898438,
          894.888916015625,
          980.5865478515625,
          792.4882202148438,
          456.6904296875,
          258.9602355957031,
          140.39483642578125,
          202.75099182128906,
          261.7227783203125,
          181.71630859375,
          241.54417419433594,
          376.334716796875,
          287.6462097167969,
          226.27223205566406,
          220.44900512695312,
          -262.71429443359375,
          -380.1586608886719,
          -520.0739135742188,
          -525.1160278320312,
          -445.2535095214844,
          -599.6782836914062,
          -840.9890747070312,
          -833.698974609375,
          -745.3605346679688,
          -870.4102172851562,
          -822.1393432617188,
          -463.7718505859375,
          -266.6328125,
          -76.87506866455078,
          122.11502838134766,
          292.09539794921875,
          321.8053283691406,
          -106.82179260253906,
          431.0301818847656,
          687.178466796875,
          692.2350463867188,
          607.80322265625,
          509.8363952636719,
          295.24896240234375,
          72.03060150146484,
          94.6403579711914,
          191.06790161132812,
          89.88363647460938,
          -110.65511322021484,
          0
         ],
         "yaxis": "y3"
        }
       ],
       "layout": {
        "autosize": true,
        "barmode": "overlay",
        "font": {
         "size": 10
        },
        "height": 630,
        "hovermode": "x unified",
        "legend": {
         "traceorder": "reversed",
         "y": 0.1
        },
        "margin": {
         "b": 0,
         "l": 0,
         "pad": 0,
         "r": 10,
         "t": 10
        },
        "template": {
         "data": {
          "bar": [
           {
            "error_x": {
             "color": "#2a3f5f"
            },
            "error_y": {
             "color": "#2a3f5f"
            },
            "marker": {
             "line": {
              "color": "white",
              "width": 0.5
             },
             "pattern": {
              "fillmode": "overlay",
              "size": 10,
              "solidity": 0.2
             }
            },
            "type": "bar"
           }
          ],
          "barpolar": [
           {
            "marker": {
             "line": {
              "color": "white",
              "width": 0.5
             },
             "pattern": {
              "fillmode": "overlay",
              "size": 10,
              "solidity": 0.2
             }
            },
            "type": "barpolar"
           }
          ],
          "carpet": [
           {
            "aaxis": {
             "endlinecolor": "#2a3f5f",
             "gridcolor": "#C8D4E3",
             "linecolor": "#C8D4E3",
             "minorgridcolor": "#C8D4E3",
             "startlinecolor": "#2a3f5f"
            },
            "baxis": {
             "endlinecolor": "#2a3f5f",
             "gridcolor": "#C8D4E3",
             "linecolor": "#C8D4E3",
             "minorgridcolor": "#C8D4E3",
             "startlinecolor": "#2a3f5f"
            },
            "type": "carpet"
           }
          ],
          "choropleth": [
           {
            "colorbar": {
             "outlinewidth": 0,
             "ticks": ""
            },
            "type": "choropleth"
           }
          ],
          "contour": [
           {
            "colorbar": {
             "outlinewidth": 0,
             "ticks": ""
            },
            "colorscale": [
             [
              0,
              "#0d0887"
             ],
             [
              0.1111111111111111,
              "#46039f"
             ],
             [
              0.2222222222222222,
              "#7201a8"
             ],
             [
              0.3333333333333333,
              "#9c179e"
             ],
             [
              0.4444444444444444,
              "#bd3786"
             ],
             [
              0.5555555555555556,
              "#d8576b"
             ],
             [
              0.6666666666666666,
              "#ed7953"
             ],
             [
              0.7777777777777778,
              "#fb9f3a"
             ],
             [
              0.8888888888888888,
              "#fdca26"
             ],
             [
              1,
              "#f0f921"
             ]
            ],
            "type": "contour"
           }
          ],
          "contourcarpet": [
           {
            "colorbar": {
             "outlinewidth": 0,
             "ticks": ""
            },
            "type": "contourcarpet"
           }
          ],
          "heatmap": [
           {
            "colorbar": {
             "outlinewidth": 0,
             "ticks": ""
            },
            "colorscale": [
             [
              0,
              "#0d0887"
             ],
             [
              0.1111111111111111,
              "#46039f"
             ],
             [
              0.2222222222222222,
              "#7201a8"
             ],
             [
              0.3333333333333333,
              "#9c179e"
             ],
             [
              0.4444444444444444,
              "#bd3786"
             ],
             [
              0.5555555555555556,
              "#d8576b"
             ],
             [
              0.6666666666666666,
              "#ed7953"
             ],
             [
              0.7777777777777778,
              "#fb9f3a"
             ],
             [
              0.8888888888888888,
              "#fdca26"
             ],
             [
              1,
              "#f0f921"
             ]
            ],
            "type": "heatmap"
           }
          ],
          "heatmapgl": [
           {
            "colorbar": {
             "outlinewidth": 0,
             "ticks": ""
            },
            "colorscale": [
             [
              0,
              "#0d0887"
             ],
             [
              0.1111111111111111,
              "#46039f"
             ],
             [
              0.2222222222222222,
              "#7201a8"
             ],
             [
              0.3333333333333333,
              "#9c179e"
             ],
             [
              0.4444444444444444,
              "#bd3786"
             ],
             [
              0.5555555555555556,
              "#d8576b"
             ],
             [
              0.6666666666666666,
              "#ed7953"
             ],
             [
              0.7777777777777778,
              "#fb9f3a"
             ],
             [
              0.8888888888888888,
              "#fdca26"
             ],
             [
              1,
              "#f0f921"
             ]
            ],
            "type": "heatmapgl"
           }
          ],
          "histogram": [
           {
            "marker": {
             "pattern": {
              "fillmode": "overlay",
              "size": 10,
              "solidity": 0.2
             }
            },
            "type": "histogram"
           }
          ],
          "histogram2d": [
           {
            "colorbar": {
             "outlinewidth": 0,
             "ticks": ""
            },
            "colorscale": [
             [
              0,
              "#0d0887"
             ],
             [
              0.1111111111111111,
              "#46039f"
             ],
             [
              0.2222222222222222,
              "#7201a8"
             ],
             [
              0.3333333333333333,
              "#9c179e"
             ],
             [
              0.4444444444444444,
              "#bd3786"
             ],
             [
              0.5555555555555556,
              "#d8576b"
             ],
             [
              0.6666666666666666,
              "#ed7953"
             ],
             [
              0.7777777777777778,
              "#fb9f3a"
             ],
             [
              0.8888888888888888,
              "#fdca26"
             ],
             [
              1,
              "#f0f921"
             ]
            ],
            "type": "histogram2d"
           }
          ],
          "histogram2dcontour": [
           {
            "colorbar": {
             "outlinewidth": 0,
             "ticks": ""
            },
            "colorscale": [
             [
              0,
              "#0d0887"
             ],
             [
              0.1111111111111111,
              "#46039f"
             ],
             [
              0.2222222222222222,
              "#7201a8"
             ],
             [
              0.3333333333333333,
              "#9c179e"
             ],
             [
              0.4444444444444444,
              "#bd3786"
             ],
             [
              0.5555555555555556,
              "#d8576b"
             ],
             [
              0.6666666666666666,
              "#ed7953"
             ],
             [
              0.7777777777777778,
              "#fb9f3a"
             ],
             [
              0.8888888888888888,
              "#fdca26"
             ],
             [
              1,
              "#f0f921"
             ]
            ],
            "type": "histogram2dcontour"
           }
          ],
          "mesh3d": [
           {
            "colorbar": {
             "outlinewidth": 0,
             "ticks": ""
            },
            "type": "mesh3d"
           }
          ],
          "parcoords": [
           {
            "line": {
             "colorbar": {
              "outlinewidth": 0,
              "ticks": ""
             }
            },
            "type": "parcoords"
           }
          ],
          "pie": [
           {
            "automargin": true,
            "type": "pie"
           }
          ],
          "scatter": [
           {
            "fillpattern": {
             "fillmode": "overlay",
             "size": 10,
             "solidity": 0.2
            },
            "type": "scatter"
           }
          ],
          "scatter3d": [
           {
            "line": {
             "colorbar": {
              "outlinewidth": 0,
              "ticks": ""
             }
            },
            "marker": {
             "colorbar": {
              "outlinewidth": 0,
              "ticks": ""
             }
            },
            "type": "scatter3d"
           }
          ],
          "scattercarpet": [
           {
            "marker": {
             "colorbar": {
              "outlinewidth": 0,
              "ticks": ""
             }
            },
            "type": "scattercarpet"
           }
          ],
          "scattergeo": [
           {
            "marker": {
             "colorbar": {
              "outlinewidth": 0,
              "ticks": ""
             }
            },
            "type": "scattergeo"
           }
          ],
          "scattergl": [
           {
            "marker": {
             "colorbar": {
              "outlinewidth": 0,
              "ticks": ""
             }
            },
            "type": "scattergl"
           }
          ],
          "scattermapbox": [
           {
            "marker": {
             "colorbar": {
              "outlinewidth": 0,
              "ticks": ""
             }
            },
            "type": "scattermapbox"
           }
          ],
          "scatterpolar": [
           {
            "marker": {
             "colorbar": {
              "outlinewidth": 0,
              "ticks": ""
             }
            },
            "type": "scatterpolar"
           }
          ],
          "scatterpolargl": [
           {
            "marker": {
             "colorbar": {
              "outlinewidth": 0,
              "ticks": ""
             }
            },
            "type": "scatterpolargl"
           }
          ],
          "scatterternary": [
           {
            "marker": {
             "colorbar": {
              "outlinewidth": 0,
              "ticks": ""
             }
            },
            "type": "scatterternary"
           }
          ],
          "surface": [
           {
            "colorbar": {
             "outlinewidth": 0,
             "ticks": ""
            },
            "colorscale": [
             [
              0,
              "#0d0887"
             ],
             [
              0.1111111111111111,
              "#46039f"
             ],
             [
              0.2222222222222222,
              "#7201a8"
             ],
             [
              0.3333333333333333,
              "#9c179e"
             ],
             [
              0.4444444444444444,
              "#bd3786"
             ],
             [
              0.5555555555555556,
              "#d8576b"
             ],
             [
              0.6666666666666666,
              "#ed7953"
             ],
             [
              0.7777777777777778,
              "#fb9f3a"
             ],
             [
              0.8888888888888888,
              "#fdca26"
             ],
             [
              1,
              "#f0f921"
             ]
            ],
            "type": "surface"
           }
          ],
          "table": [
           {
            "cells": {
             "fill": {
              "color": "#EBF0F8"
             },
             "line": {
              "color": "white"
             }
            },
            "header": {
             "fill": {
              "color": "#C8D4E3"
             },
             "line": {
              "color": "white"
             }
            },
            "type": "table"
           }
          ]
         },
         "layout": {
          "annotationdefaults": {
           "arrowcolor": "#2a3f5f",
           "arrowhead": 0,
           "arrowwidth": 1
          },
          "autotypenumbers": "strict",
          "coloraxis": {
           "colorbar": {
            "outlinewidth": 0,
            "ticks": ""
           }
          },
          "colorscale": {
           "diverging": [
            [
             0,
             "#8e0152"
            ],
            [
             0.1,
             "#c51b7d"
            ],
            [
             0.2,
             "#de77ae"
            ],
            [
             0.3,
             "#f1b6da"
            ],
            [
             0.4,
             "#fde0ef"
            ],
            [
             0.5,
             "#f7f7f7"
            ],
            [
             0.6,
             "#e6f5d0"
            ],
            [
             0.7,
             "#b8e186"
            ],
            [
             0.8,
             "#7fbc41"
            ],
            [
             0.9,
             "#4d9221"
            ],
            [
             1,
             "#276419"
            ]
           ],
           "sequential": [
            [
             0,
             "#0d0887"
            ],
            [
             0.1111111111111111,
             "#46039f"
            ],
            [
             0.2222222222222222,
             "#7201a8"
            ],
            [
             0.3333333333333333,
             "#9c179e"
            ],
            [
             0.4444444444444444,
             "#bd3786"
            ],
            [
             0.5555555555555556,
             "#d8576b"
            ],
            [
             0.6666666666666666,
             "#ed7953"
            ],
            [
             0.7777777777777778,
             "#fb9f3a"
            ],
            [
             0.8888888888888888,
             "#fdca26"
            ],
            [
             1,
             "#f0f921"
            ]
           ],
           "sequentialminus": [
            [
             0,
             "#0d0887"
            ],
            [
             0.1111111111111111,
             "#46039f"
            ],
            [
             0.2222222222222222,
             "#7201a8"
            ],
            [
             0.3333333333333333,
             "#9c179e"
            ],
            [
             0.4444444444444444,
             "#bd3786"
            ],
            [
             0.5555555555555556,
             "#d8576b"
            ],
            [
             0.6666666666666666,
             "#ed7953"
            ],
            [
             0.7777777777777778,
             "#fb9f3a"
            ],
            [
             0.8888888888888888,
             "#fdca26"
            ],
            [
             1,
             "#f0f921"
            ]
           ]
          },
          "colorway": [
           "#636efa",
           "#EF553B",
           "#00cc96",
           "#ab63fa",
           "#FFA15A",
           "#19d3f3",
           "#FF6692",
           "#B6E880",
           "#FF97FF",
           "#FECB52"
          ],
          "font": {
           "color": "#2a3f5f"
          },
          "geo": {
           "bgcolor": "white",
           "lakecolor": "white",
           "landcolor": "white",
           "showlakes": true,
           "showland": true,
           "subunitcolor": "#C8D4E3"
          },
          "hoverlabel": {
           "align": "left"
          },
          "hovermode": "closest",
          "mapbox": {
           "style": "light"
          },
          "paper_bgcolor": "white",
          "plot_bgcolor": "white",
          "polar": {
           "angularaxis": {
            "gridcolor": "#EBF0F8",
            "linecolor": "#EBF0F8",
            "ticks": ""
           },
           "bgcolor": "white",
           "radialaxis": {
            "gridcolor": "#EBF0F8",
            "linecolor": "#EBF0F8",
            "ticks": ""
           }
          },
          "scene": {
           "xaxis": {
            "backgroundcolor": "white",
            "gridcolor": "#DFE8F3",
            "gridwidth": 2,
            "linecolor": "#EBF0F8",
            "showbackground": true,
            "ticks": "",
            "zerolinecolor": "#EBF0F8"
           },
           "yaxis": {
            "backgroundcolor": "white",
            "gridcolor": "#DFE8F3",
            "gridwidth": 2,
            "linecolor": "#EBF0F8",
            "showbackground": true,
            "ticks": "",
            "zerolinecolor": "#EBF0F8"
           },
           "zaxis": {
            "backgroundcolor": "white",
            "gridcolor": "#DFE8F3",
            "gridwidth": 2,
            "linecolor": "#EBF0F8",
            "showbackground": true,
            "ticks": "",
            "zerolinecolor": "#EBF0F8"
           }
          },
          "shapedefaults": {
           "line": {
            "color": "#2a3f5f"
           }
          },
          "ternary": {
           "aaxis": {
            "gridcolor": "#DFE8F3",
            "linecolor": "#A2B1C6",
            "ticks": ""
           },
           "baxis": {
            "gridcolor": "#DFE8F3",
            "linecolor": "#A2B1C6",
            "ticks": ""
           },
           "bgcolor": "white",
           "caxis": {
            "gridcolor": "#DFE8F3",
            "linecolor": "#A2B1C6",
            "ticks": ""
           }
          },
          "title": {
           "x": 0.05
          },
          "xaxis": {
           "automargin": true,
           "gridcolor": "#EBF0F8",
           "linecolor": "#EBF0F8",
           "ticks": "",
           "title": {
            "standoff": 15
           },
           "zerolinecolor": "#EBF0F8",
           "zerolinewidth": 2
          },
          "yaxis": {
           "automargin": true,
           "gridcolor": "#EBF0F8",
           "linecolor": "#EBF0F8",
           "ticks": "",
           "title": {
            "standoff": 15
           },
           "zerolinecolor": "#EBF0F8",
           "zerolinewidth": 2
          }
         }
        },
        "title": {
         "font": {
          "size": 12
         }
        },
        "width": 700,
        "xaxis": {
         "anchor": "y",
         "domain": [
          0,
          1
         ],
         "linewidth": 1.5,
         "mirror": true,
         "range": [
          "1874-01-02T00:00:00",
          "2028-12-31T00:00:00"
         ],
         "showline": true,
         "title": {
          "text": "ds"
         },
         "type": "date"
        },
        "xaxis2": {
         "anchor": "y2",
         "domain": [
          0,
          1
         ],
         "linewidth": 1.5,
         "mirror": true,
         "range": [
          "1874-01-02T00:00:00",
          "2028-12-31T00:00:00"
         ],
         "showline": true,
         "title": {
          "text": "ds"
         },
         "type": "date"
        },
        "xaxis3": {
         "anchor": "y3",
         "domain": [
          0,
          1
         ],
         "linewidth": 1.5,
         "mirror": true,
         "range": [
          "1874-01-02T00:00:00",
          "2028-12-31T00:00:00"
         ],
         "showline": true,
         "title": {
          "text": "ds"
         },
         "type": "date"
        },
        "yaxis": {
         "anchor": "x",
         "domain": [
          0.7333333333333333,
          1
         ],
         "linewidth": 1.5,
         "mirror": true,
         "rangemode": "normal",
         "showline": true,
         "title": {
          "text": "Trend"
         }
        },
        "yaxis2": {
         "anchor": "x2",
         "domain": [
          0.36666666666666664,
          0.6333333333333333
         ],
         "linewidth": 1.5,
         "mirror": true,
         "rangemode": "tozero",
         "showline": true,
         "title": {
          "text": "yearly seasonality"
         }
        },
        "yaxis3": {
         "anchor": "x3",
         "domain": [
          0,
          0.26666666666666666
         ],
         "linewidth": 1.5,
         "mirror": true,
         "rangemode": "tozero",
         "showline": true,
         "title": {
          "text": "Auto-Regression"
         }
        }
       }
      }
     },
     "metadata": {},
     "output_type": "display_data"
    }
   ],
   "source": [
    "m.plot_components(forecast)"
   ]
  },
  {
   "attachments": {},
   "cell_type": "markdown",
   "id": "14e7007c",
   "metadata": {
    "tags": []
   },
   "source": [
    "## Next Steps\n"
   ]
  }
 ],
 "metadata": {
  "kernelspec": {
   "display_name": "Python 3 (ipykernel)",
   "language": "python",
   "name": "python3"
  },
  "language_info": {
   "codemirror_mode": {
    "name": "ipython",
    "version": 3
   },
   "file_extension": ".py",
   "mimetype": "text/x-python",
   "name": "python",
   "nbconvert_exporter": "python",
   "pygments_lexer": "ipython3",
   "version": "3.9.6"
  },
  "toc": {
   "base_numbering": 1,
   "nav_menu": {},
   "number_sections": true,
   "sideBar": true,
   "skip_h1_title": true,
   "title_cell": "Table of Contents",
   "title_sidebar": "Contents",
   "toc_cell": false,
   "toc_position": {},
   "toc_section_display": true,
   "toc_window_display": false
  }
 },
 "nbformat": 4,
 "nbformat_minor": 5
}
