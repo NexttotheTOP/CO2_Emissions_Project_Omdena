{
 "cells": [
  {
   "cell_type": "markdown",
   "id": "6d94797e-67ae-4b69-a82c-334411bf6eac",
   "metadata": {},
   "source": [
    "# Project outline: AI-based Prediction of CO2 Emissions for a Healthier Environment\n",
    "\n",
    "**Introduction:**\n",
    "Climate change and environmental degradation caused by increasing carbon dioxide (CO2) emissions are critical challenges facing our world today. To combat this pressing issue, there is an urgent need to develop accurate and effective methods to predict CO2 emissions. This project aims to leverage Artificial Intelligence (AI) to create a robust prediction model that can forecast CO2 emissions from various sources, enabling better decision-making and informed policies to achieve a more sustainable and healthier environment.\n",
    "\n",
    "**Problem Statement:**\n",
    "The primary objective of this project is to build an AI-powered prediction system that accurately forecasts CO2 emissions from different sectors and activities. The system will be designed to take historical data on emissions and relevant features into account, using advanced AI techniques to model and predict future emissions levels. The key components and requirements of this project include:\n",
    "\n",
    "- Data Collection and Preprocessing:\n",
    "\n",
    "Gather comprehensive datasets from various reputable sources, containing historical CO2 emissions data from industries, transportation, energy production, agriculture, and other relevant sectors.\n",
    "Perform data preprocessing to clean, normalize, and handle missing values, ensuring the quality and reliability of the input data for the AI model.\n",
    "\n",
    "- Feature Engineering:\n",
    "\n",
    "Identify and select pertinent features that significantly influence CO2 emissions, such as economic indicators, population growth, energy consumption, technological advancements, and environmental policies.\n",
    "Develop methodologies to extract and engineer relevant features from the available data to improve the model's predictive accuracy.\n",
    "\n",
    "- AI Model Development:\n",
    "\n",
    "To start, we will establish a baseline model in order to have a starting point we can work from. It may also be handy to already think about which kind of metric(s) we want to use in order to test our models accuracy and think about which metric would best suit our project. \n",
    "\n",
    "After building our baseline model and deciding which evaluation metric would suit best this project. We can start to explore and compare different AI techniques, including machine learning algorithms (e.g., regression, random forests, gradient boosting), neural networks (e.g., LSTM, CNN), and time series forecasting methods to determine the most suitable approach for predicting the CO2 emissions.\n",
    "\n",
    "Our next step would be to implement and fine-tune our selected AI models and run these models in parallel to achieve optimal performance in terms of accuracy, robustness, and scalability.\n",
    "\n",
    "- Model Training and Validation:\n",
    "\n",
    "Divide the dataset into training and validation sets, employing appropriate cross-validation techniques to ensure the model's generalization capability.\n",
    "Evaluate the model's performance using relevant metrics (e.g., Mean Absolute Error, Root Mean Squared Error, ...) to quantify its accuracy in predicting CO2 emissions.\n",
    "\n",
    "- Real-time Prediction and Visualization (Deploying our model to the cloud):\n",
    "\n",
    "Develop an interactive platform to visualize the real-time CO2 emission predictions, allowing users to access and analyze the results in a user-friendly manner.\n",
    "Provide insights and interpretability features to understand the significant factors influencing emissions and identify potential areas for emission reduction.\n",
    "\n",
    "**Expected Impact:**\n",
    "\n",
    "By successfully developing an AI-based CO2 emissions prediction system, this project will contribute to a more sustainable and healthier environment in several ways:\n",
    "\n",
    "- Empowering policymakers: Accurate emission predictions will assist policymakers in formulating data-driven strategies and policies to effectively mitigate climate change and reduce emissions in different sectors.\n",
    "\n",
    "- Promoting sustainable practices: Industries and businesses can leverage the predictions to make informed decisions, optimize resource usage, and adopt greener technologies to minimize their carbon footprint.\n",
    "\n",
    "- Raising public awareness: The visualization platform will enhance public understanding of the impact of various activities on CO2 emissions, encouraging individual behavioral changes and environmentally conscious actions.\n",
    "\n",
    "**Conclusion:**\n",
    "\n",
    "This ambitious project aims to harness the power of AI to predict CO2 emissions accurately. By combining comprehensive datasets, advanced AI techniques, and real-time visualization, we seek to create a valuable tool that can play a crucial role in building a more sustainable future, addressing climate change, and fostering a healthier environment for generations to come."
   ]
  },
  {
   "cell_type": "markdown",
   "id": "d29ffcc2-ca9b-4e26-b41d-7f4a3b77aa2b",
   "metadata": {},
   "source": [
    "# Resources \n",
    "\n",
    "Below are listed some usefull resources and comparable projects in order to understand the project better or gain intuitin about where we want to go with our project. Please make sure to review all of the compariable projects, **This way we will have the knowledge about what already is done by other teams and we can focus our times on actually improving the project and bring something new to the world!**\n",
    "\n",
    "The link will lead you to our teams google drive where all of our resources our bundled. \n",
    "https://drive.google.com/drive/folders/1hGTvxku8avnuYFQLXk0P-TKD1Xh7wx9U?usp=sharing "
   ]
  },
  {
   "cell_type": "code",
   "execution_count": null,
   "id": "9400c429-ea7c-409d-879f-dbfb756be008",
   "metadata": {},
   "outputs": [],
   "source": []
  },
  {
   "cell_type": "markdown",
   "id": "4868d8fb-4951-43fe-b1d5-a38d2d6c7801",
   "metadata": {},
   "source": [
    "# Previous work \n",
    "\n",
    "- Agbulut, Ü.\n",
    "\n",
    "Tried forecazsting the transportation-based CO2 emissions and energy demands. \n",
    "\n",
    "Evaluation metrics that were used in this reserach project for predicting the emission of CO2 were R2, RMSE, MAPE, MBE, rRMSE and MABE that were used in order to campore these results with other forecasts.\n",
    "\n",
    "The authors came to the conclusion that SVM and ANN models worked best following by DL models.  \n",
    "\n",
    "their Input data existed out of gross domestic product (GDP), population, year and vehicle-kilometer between the years 1970-2016. \n",
    "\n",
    "- Codur, M.Y. et al.\n",
    "\n",
    "tried predicting the future transport energy demand in Turkey. \n",
    "\n",
    "Chosen independant varialbles were GDP, oil, price, population, passenker-km, ton-km and vehicle-km and. Transport energy demand was choosen as their target variable. 1975-2016\n",
    "\n",
    "- Gvozdenac Urosevicé, B.D. et al.\n",
    "\n",
    "assessed/estimated long-term energy policy targets \n",
    "\n",
    "input parameters were: GDP, average annual temperature, Total primary energy supply, Electricity consumption, Population, share of renewable energy sources, share of nuclear energy, share of natural gas energy, share of total petroleum product energy and lastly share of solid fuel energy \n",
    "\n",
    "ANN major \n",
    "\n",
    "- Razaei, M.H. et al.\n",
    "\n",
    "showed that the economic numbers are important for predicting the CO2 emission. Involved countries were Finland, Sweden, Denmark and Norway. \n",
    "\n",
    "Included variables were oils, coal and natural gas, renewable energy consumption and GDP from 1990-2016. target was CO2 emission. \n",
    "\n",
    "ANN major \n",
    "\n",
    "- Jena, P.R. et al.\n",
    "\n",
    "estimated the long-term relationship between renewable energy use and CO2 emissions. Used a RBFNN approach.\n",
    "\n",
    "This study suggests that since there is a non-linear relationship between environmental quality indicaters and economic and non-economic indicaters there should be used a non-linear predictive model. C02 was ouput target. \n",
    "\n",
    "Normalized the data. Result of MAPE with a value of less then 5% for all countries exept for Russia and Saudi-Arabia. "
   ]
  },
  {
   "cell_type": "markdown",
   "id": "af6bc872-7114-4474-a69a-3ca095457f14",
   "metadata": {},
   "source": []
  },
  {
   "cell_type": "markdown",
   "id": "9aabcc72-7b6a-43af-a3f1-9f374f40c670",
   "metadata": {},
   "source": []
  },
  {
   "cell_type": "code",
   "execution_count": null,
   "id": "1b03ad04-055d-4bb0-a49f-355c5ecb18ea",
   "metadata": {},
   "outputs": [],
   "source": []
  },
  {
   "cell_type": "code",
   "execution_count": null,
   "id": "7b149ba4-af69-434f-8338-60902c877862",
   "metadata": {},
   "outputs": [],
   "source": []
  },
  {
   "cell_type": "code",
   "execution_count": null,
   "id": "43b8d95e-50a3-4c7d-a358-768194b9472c",
   "metadata": {},
   "outputs": [],
   "source": []
  },
  {
   "cell_type": "markdown",
   "id": "5a450bbc-cd34-4c6b-8d3e-38a6b34df8a3",
   "metadata": {},
   "source": []
  },
  {
   "cell_type": "code",
   "execution_count": null,
   "id": "f39823a1-fe31-42ef-b839-851a67f949c6",
   "metadata": {},
   "outputs": [],
   "source": []
  },
  {
   "cell_type": "code",
   "execution_count": null,
   "id": "261c8e0b-25b8-4a8d-94b4-d5cc9802cae5",
   "metadata": {},
   "outputs": [],
   "source": []
  },
  {
   "cell_type": "markdown",
   "id": "a11e738f-d0f4-46a3-9bf4-f9f420bdcf35",
   "metadata": {},
   "source": [
    "# Data Visualization techniques "
   ]
  },
  {
   "cell_type": "code",
   "execution_count": null,
   "id": "c2aa214f-a1bc-49e7-b619-a791b197435b",
   "metadata": {},
   "outputs": [],
   "source": []
  },
  {
   "cell_type": "code",
   "execution_count": null,
   "id": "e8ece381-8289-4685-b9d4-033f9633f980",
   "metadata": {},
   "outputs": [],
   "source": []
  },
  {
   "cell_type": "markdown",
   "id": "4a25b85a-3217-40c5-80c2-cc09587db56f",
   "metadata": {},
   "source": [
    "# AI Model Developent \n",
    "\n",
    "**1. Making a Baseline Model**\n",
    "\n",
    "A good baseline model for predicting CO2 emissions should be relatively simple, easy to implement, and provide a reference point to compare the performance of more complex models. Baseline models typically serve as a starting point before exploring more sophisticated approaches.\n",
    "\n",
    "For predicting CO2 emissions, a straightforward baseline model could be a simple linear regression model. Linear regression assumes a linear relationship between the input features and the target variable (CO2 emissions). The model tries to find the best-fitting line that minimizes the squared error between the predicted and actual CO2 emissions.\n",
    "\n",
    "\n",
    "**2. Choosing our appropriate Evaluation Metric**\n",
    "\n",
    "In the context of predicting CO2 emissions using continuous values (a regression task), precision and recall are not directly applicable. Instead, we should consider evaluation metrics that are suitable for regression tasks, such as Mean Absolute Error (MAE) or Root Mean Squared Error (RMSE).\n",
    "\n",
    "Mean Absolute Error (MAE) measures the average absolute difference between the predicted values and the actual values. It provides a simple and straightforward indication of how well the model is performing in terms of the absolute magnitude of errors.\n",
    "\n",
    "Root Mean Squared Error (RMSE) is similar to MAE but penalizes larger errors more heavily. It takes the square root of the average of the squared differences between the predicted values and the actual values. RMSE is often preferred when larger errors have more significant consequences, as it amplifies the effect of outliers.\n",
    "\n",
    "Since we are interested in accurately predicting the CO2 emissions in continuous values, we should use MAE or RMSE as the evaluation metrics to assess the performance of our regression model. These metrics will help us gauge the accuracy and precision of the model's predictions relative to the actual CO2 emissions data."
   ]
  },
  {
   "cell_type": "code",
   "execution_count": null,
   "id": "c76a1af6-1711-4842-9ab5-8361e27e67f0",
   "metadata": {},
   "outputs": [],
   "source": []
  },
  {
   "cell_type": "code",
   "execution_count": null,
   "id": "e585d9ba-3ccc-4147-b86f-4c65bd3e6d9d",
   "metadata": {},
   "outputs": [],
   "source": []
  },
  {
   "cell_type": "code",
   "execution_count": null,
   "id": "2796a55b-e33f-487e-9eb0-7db007441270",
   "metadata": {},
   "outputs": [],
   "source": []
  },
  {
   "cell_type": "code",
   "execution_count": null,
   "id": "62eba911-52f9-4217-b25b-c5d5aa7a5cdf",
   "metadata": {},
   "outputs": [],
   "source": []
  },
  {
   "cell_type": "code",
   "execution_count": null,
   "id": "aa686ed7-bfdf-4046-9bdb-a1b5fd46a3fb",
   "metadata": {},
   "outputs": [],
   "source": []
  },
  {
   "cell_type": "code",
   "execution_count": null,
   "id": "08b90695-e07f-466b-9cfd-1a3b0230c860",
   "metadata": {},
   "outputs": [],
   "source": []
  },
  {
   "cell_type": "markdown",
   "id": "9d4f2c28-c770-4753-bcc7-a009c8b0de10",
   "metadata": {},
   "source": [
    "# own exercise! Further Possible development io include in our web applcation/platform in order to help the popultion gain insights and live healthier \n",
    "\n",
    "**In our endeavor to promote healthier living environments and raise awareness about air quality, our web application/platform could offer a range of possibilities to assist the population in safeguarding their health. By integrating various features and functionalities, we could aim to empower individuals to make informed decisions and adapt their daily routines to reduce exposure to unhealthy emissions.**\n",
    "\n",
    "\n",
    "- formative Mobile App:\n",
    "  \n",
    "An accessible and user-friendly mobile app can provide the public with real-time information about air quality at different times of the day. This app can collect data from local monitoring stations and weather stations to offer an accurate overview of pollutant concentrations, such as fine particulate matter (PM2.5), nitrogen dioxide (NO₂), and ozone (O₃), at various intervals.\n",
    "\n",
    "- Visual Representation:\n",
    "  \n",
    "The mobile app can present this data in visually appealing ways, such as color codes or icons, to indicate when air quality is considered unhealthy. Users can easily identify times when air quality is less favorable and when additional precautions are necessary.\n",
    "\n",
    "- Alerts and Recommendations:\n",
    "  \n",
    "In addition to visual representation, the app can send alerts when air quality is forecasted to deteriorate at specific times. It can provide users with advice on possible actions, such as avoiding outdoor activities during those periods, especially for sensitive groups like children, the elderly, and individuals with respiratory issues.\n",
    "\n",
    "-Supporting Information:\n",
    "\n",
    "To enhance understanding, the app can offer supplementary information about the sources of air pollution during specific times. Users can learn about activities or conditions contributing to emission peaks, such as traffic congestion, industrial operations, or weather patterns affecting air quality.\n",
    "Education and Awareness:\n",
    "Beyond practical features, the app can provide educational materials and tips to raise public awareness about the health effects of air pollution and ways to protect themselves. This may include advice on breathing exercises, information about sustainable transportation options, and energy-saving practices.\n",
    "\n",
    "- **Conclusion:**\n",
    "  \n",
    "Providing insights into times of unhealthy emissions through an interactive mobile app can be a powerful way to help the public safeguard their health. By raising awareness of periods when air quality is compromised, individuals can adapt and make healthier choices to minimize their exposure to air pollution. Together, we can contribute to a healthier and more sustainable living environment for everyone.\n",
    "\n",
    "Microsoft has already done this and this is all explained in one of deeplearning.ai latest courses: \"Ai for Good\". In the first course they have already achieved this by using the publicy made available data of Mexico. I will share some useful notebooks, codes and links below to be able to practice for yourself.\n",
    "\n",
    "**This is not really a problem we are trying to tackle with our current project -Predicting CO2 Emissions-, but since we are making an application in the same domain this might be a good exercise and a nice extensions to integrate in our interface.**"
   ]
  },
  {
   "cell_type": "code",
   "execution_count": null,
   "id": "0ae8d38b-c71e-4ba8-848c-616f568aee70",
   "metadata": {},
   "outputs": [],
   "source": []
  },
  {
   "cell_type": "code",
   "execution_count": null,
   "id": "8969cfc9-83fa-46d5-a697-4ca9d6e3b381",
   "metadata": {},
   "outputs": [],
   "source": []
  },
  {
   "cell_type": "code",
   "execution_count": null,
   "id": "52897417-f16e-4f85-ae3f-6d84b8e19e40",
   "metadata": {},
   "outputs": [],
   "source": []
  },
  {
   "cell_type": "code",
   "execution_count": null,
   "id": "397279c2-e158-4589-ac1a-adcc698d2c19",
   "metadata": {},
   "outputs": [],
   "source": []
  },
  {
   "cell_type": "code",
   "execution_count": null,
   "id": "cadb89a3-a828-4039-bc1f-9a0da29cf6da",
   "metadata": {},
   "outputs": [],
   "source": []
  },
  {
   "cell_type": "code",
   "execution_count": null,
   "id": "82fd8d78-f899-47fd-bbe4-acb4e857f89d",
   "metadata": {},
   "outputs": [],
   "source": []
  }
 ],
 "metadata": {
  "kernelspec": {
   "display_name": "Python 3 (ipykernel)",
   "language": "python",
   "name": "python3"
  },
  "language_info": {
   "codemirror_mode": {
    "name": "ipython",
    "version": 3
   },
   "file_extension": ".py",
   "mimetype": "text/x-python",
   "name": "python",
   "nbconvert_exporter": "python",
   "pygments_lexer": "ipython3",
   "version": "3.11.3"
  }
 },
 "nbformat": 4,
 "nbformat_minor": 5
}
