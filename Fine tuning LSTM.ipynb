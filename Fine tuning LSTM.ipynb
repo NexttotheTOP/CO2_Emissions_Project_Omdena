{
 "cells": [
  {
   "cell_type": "code",
   "execution_count": 1,
   "metadata": {
    "executionInfo": {
     "elapsed": 298,
     "status": "ok",
     "timestamp": 1691174149328,
     "user": {
      "displayName": "Mateus F",
      "userId": "16629695800920496720"
     },
     "user_tz": -60
    },
    "id": "VIx6We32ZtnX"
   },
   "outputs": [],
   "source": [
    "import pandas as pd\n",
    "import tensorflow as tf\n",
    "import numpy as np\n",
    "import matplotlib.pyplot as plt"
   ]
  },
  {
   "cell_type": "code",
   "execution_count": 2,
   "metadata": {
    "executionInfo": {
     "elapsed": 11,
     "status": "ok",
     "timestamp": 1691174149906,
     "user": {
      "displayName": "Mateus F",
      "userId": "16629695800920496720"
     },
     "user_tz": -60
    },
    "id": "y9bWhSy-Z3o9"
   },
   "outputs": [],
   "source": [
    "def windowed_dataset(series, window_size, batch_size, shuffle_buffer):\n",
    "    ds = tf.data.Dataset.from_tensor_slices(series)\n",
    "    ds = ds.window(window_size, shift=1, drop_remainder=True)  # Create overlapping windows\n",
    "    ds = ds.flat_map(lambda w: w.batch(window_size))\n",
    "    ds = ds.shuffle(shuffle_buffer)\n",
    "    ds = ds.map(lambda w: (w[:-1], w[-1]))  # Separating inputs and labels\n",
    "    return ds.batch(batch_size).prefetch(1)  # Remove the extra dimension directly\n"
   ]
  },
  {
   "cell_type": "code",
   "execution_count": 3,
   "metadata": {
    "executionInfo": {
     "elapsed": 10,
     "status": "ok",
     "timestamp": 1691174149906,
     "user": {
      "displayName": "Mateus F",
      "userId": "16629695800920496720"
     },
     "user_tz": -60
    },
    "id": "8FxYOEEJZ7pt"
   },
   "outputs": [],
   "source": [
    "def plot_series(time, series, format=\"-\", start=0, end=None, label=None):\n",
    "    plt.plot(time[start:end], series[start:end], format, label=label)\n",
    "    plt.xlabel(\"Time\")\n",
    "    plt.ylabel(\"Value\")\n",
    "    plt.grid(True)"
   ]
  },
  {
   "cell_type": "code",
   "execution_count": 4,
   "metadata": {
    "executionInfo": {
     "elapsed": 11,
     "status": "ok",
     "timestamp": 1691174149907,
     "user": {
      "displayName": "Mateus F",
      "userId": "16629695800920496720"
     },
     "user_tz": -60
    },
    "id": "lVpsWjrnZ9Ql"
   },
   "outputs": [],
   "source": [
    "df = pd.read_csv('DataSets /WORLD-OWID-Features-Yearly')\n",
    "co2_data = df['co2']\n",
    "year = df['year']\n",
    "series = np.array(np.log(co2_data))\n",
    "time = np.array(year)"
   ]
  },
  {
   "cell_type": "code",
   "execution_count": 5,
   "metadata": {},
   "outputs": [
    {
     "data": {
      "text/html": [
       "<div>\n",
       "<style scoped>\n",
       "    .dataframe tbody tr th:only-of-type {\n",
       "        vertical-align: middle;\n",
       "    }\n",
       "\n",
       "    .dataframe tbody tr th {\n",
       "        vertical-align: top;\n",
       "    }\n",
       "\n",
       "    .dataframe thead th {\n",
       "        text-align: right;\n",
       "    }\n",
       "</style>\n",
       "<table border=\"1\" class=\"dataframe\">\n",
       "  <thead>\n",
       "    <tr style=\"text-align: right;\">\n",
       "      <th></th>\n",
       "      <th>year</th>\n",
       "      <th>cement_co2</th>\n",
       "      <th>co2</th>\n",
       "      <th>coal_co2</th>\n",
       "      <th>flaring_co2</th>\n",
       "      <th>gas_co2</th>\n",
       "      <th>land_use_change_co2</th>\n",
       "      <th>oil_co2</th>\n",
       "      <th>other_industry_co2</th>\n",
       "    </tr>\n",
       "  </thead>\n",
       "  <tbody>\n",
       "    <tr>\n",
       "      <th>0</th>\n",
       "      <td>1880-01-01</td>\n",
       "      <td>0.000</td>\n",
       "      <td>853.7050</td>\n",
       "      <td>838.340</td>\n",
       "      <td>256.309556</td>\n",
       "      <td>1814.698707</td>\n",
       "      <td>3100.721</td>\n",
       "      <td>15.364</td>\n",
       "      <td>82.069576</td>\n",
       "    </tr>\n",
       "    <tr>\n",
       "      <th>1</th>\n",
       "      <td>1881-01-01</td>\n",
       "      <td>0.000</td>\n",
       "      <td>882.4050</td>\n",
       "      <td>865.162</td>\n",
       "      <td>256.309556</td>\n",
       "      <td>1814.698707</td>\n",
       "      <td>3096.935</td>\n",
       "      <td>17.242</td>\n",
       "      <td>82.069576</td>\n",
       "    </tr>\n",
       "    <tr>\n",
       "      <th>2</th>\n",
       "      <td>1882-01-01</td>\n",
       "      <td>0.000</td>\n",
       "      <td>931.9220</td>\n",
       "      <td>912.817</td>\n",
       "      <td>256.309556</td>\n",
       "      <td>0.165000</td>\n",
       "      <td>3159.833</td>\n",
       "      <td>18.939</td>\n",
       "      <td>82.069576</td>\n",
       "    </tr>\n",
       "    <tr>\n",
       "      <th>3</th>\n",
       "      <td>1883-01-01</td>\n",
       "      <td>0.000</td>\n",
       "      <td>991.0320</td>\n",
       "      <td>974.149</td>\n",
       "      <td>256.309556</td>\n",
       "      <td>0.381000</td>\n",
       "      <td>3220.534</td>\n",
       "      <td>16.502</td>\n",
       "      <td>82.069576</td>\n",
       "    </tr>\n",
       "    <tr>\n",
       "      <th>4</th>\n",
       "      <td>1884-01-01</td>\n",
       "      <td>0.000</td>\n",
       "      <td>1002.1740</td>\n",
       "      <td>982.679</td>\n",
       "      <td>256.309556</td>\n",
       "      <td>1.172000</td>\n",
       "      <td>3240.197</td>\n",
       "      <td>18.323</td>\n",
       "      <td>82.069576</td>\n",
       "    </tr>\n",
       "    <tr>\n",
       "      <th>...</th>\n",
       "      <td>...</td>\n",
       "      <td>...</td>\n",
       "      <td>...</td>\n",
       "      <td>...</td>\n",
       "      <td>...</td>\n",
       "      <td>...</td>\n",
       "      <td>...</td>\n",
       "      <td>...</td>\n",
       "      <td>...</td>\n",
       "    </tr>\n",
       "    <tr>\n",
       "      <th>137</th>\n",
       "      <td>2017-01-01</td>\n",
       "      <td>1507.923</td>\n",
       "      <td>36096.7380</td>\n",
       "      <td>14506.974</td>\n",
       "      <td>391.992000</td>\n",
       "      <td>7144.928000</td>\n",
       "      <td>4331.947</td>\n",
       "      <td>12242.628</td>\n",
       "      <td>302.294000</td>\n",
       "    </tr>\n",
       "    <tr>\n",
       "      <th>138</th>\n",
       "      <td>2018-01-01</td>\n",
       "      <td>1569.218</td>\n",
       "      <td>36826.5080</td>\n",
       "      <td>14746.831</td>\n",
       "      <td>412.116000</td>\n",
       "      <td>7529.847000</td>\n",
       "      <td>4181.356</td>\n",
       "      <td>12266.017</td>\n",
       "      <td>302.479000</td>\n",
       "    </tr>\n",
       "    <tr>\n",
       "      <th>139</th>\n",
       "      <td>2019-01-01</td>\n",
       "      <td>1617.507</td>\n",
       "      <td>37082.5590</td>\n",
       "      <td>14725.978</td>\n",
       "      <td>439.254000</td>\n",
       "      <td>7647.528000</td>\n",
       "      <td>4557.283</td>\n",
       "      <td>12345.653</td>\n",
       "      <td>306.639000</td>\n",
       "    </tr>\n",
       "    <tr>\n",
       "      <th>140</th>\n",
       "      <td>2020-01-01</td>\n",
       "      <td>1637.537</td>\n",
       "      <td>37103.2055</td>\n",
       "      <td>14174.564</td>\n",
       "      <td>407.584000</td>\n",
       "      <td>7556.290000</td>\n",
       "      <td>4057.758</td>\n",
       "      <td>11191.809</td>\n",
       "      <td>296.302000</td>\n",
       "    </tr>\n",
       "    <tr>\n",
       "      <th>141</th>\n",
       "      <td>2021-01-01</td>\n",
       "      <td>1672.592</td>\n",
       "      <td>37123.8520</td>\n",
       "      <td>14979.598</td>\n",
       "      <td>416.526000</td>\n",
       "      <td>7921.830000</td>\n",
       "      <td>3939.044</td>\n",
       "      <td>11837.159</td>\n",
       "      <td>296.146000</td>\n",
       "    </tr>\n",
       "  </tbody>\n",
       "</table>\n",
       "<p>142 rows × 9 columns</p>\n",
       "</div>"
      ],
      "text/plain": [
       "           year  cement_co2         co2   coal_co2  flaring_co2      gas_co2  \\\n",
       "0    1880-01-01       0.000    853.7050    838.340   256.309556  1814.698707   \n",
       "1    1881-01-01       0.000    882.4050    865.162   256.309556  1814.698707   \n",
       "2    1882-01-01       0.000    931.9220    912.817   256.309556     0.165000   \n",
       "3    1883-01-01       0.000    991.0320    974.149   256.309556     0.381000   \n",
       "4    1884-01-01       0.000   1002.1740    982.679   256.309556     1.172000   \n",
       "..          ...         ...         ...        ...          ...          ...   \n",
       "137  2017-01-01    1507.923  36096.7380  14506.974   391.992000  7144.928000   \n",
       "138  2018-01-01    1569.218  36826.5080  14746.831   412.116000  7529.847000   \n",
       "139  2019-01-01    1617.507  37082.5590  14725.978   439.254000  7647.528000   \n",
       "140  2020-01-01    1637.537  37103.2055  14174.564   407.584000  7556.290000   \n",
       "141  2021-01-01    1672.592  37123.8520  14979.598   416.526000  7921.830000   \n",
       "\n",
       "     land_use_change_co2    oil_co2  other_industry_co2  \n",
       "0               3100.721     15.364           82.069576  \n",
       "1               3096.935     17.242           82.069576  \n",
       "2               3159.833     18.939           82.069576  \n",
       "3               3220.534     16.502           82.069576  \n",
       "4               3240.197     18.323           82.069576  \n",
       "..                   ...        ...                 ...  \n",
       "137             4331.947  12242.628          302.294000  \n",
       "138             4181.356  12266.017          302.479000  \n",
       "139             4557.283  12345.653          306.639000  \n",
       "140             4057.758  11191.809          296.302000  \n",
       "141             3939.044  11837.159          296.146000  \n",
       "\n",
       "[142 rows x 9 columns]"
      ]
     },
     "execution_count": 5,
     "metadata": {},
     "output_type": "execute_result"
    }
   ],
   "source": [
    "df"
   ]
  },
  {
   "cell_type": "code",
   "execution_count": 10,
   "metadata": {
    "executionInfo": {
     "elapsed": 10,
     "status": "ok",
     "timestamp": 1691174149907,
     "user": {
      "displayName": "Mateus F",
      "userId": "16629695800920496720"
     },
     "user_tz": -60
    },
    "id": "D3V6Ab5BZ_WO"
   },
   "outputs": [],
   "source": [
    "# Normalization\n",
    "series_mean = series.mean()\n",
    "series_std = series.std()\n",
    "series = (series - series_mean) / series_std"
   ]
  },
  {
   "cell_type": "code",
   "execution_count": 11,
   "metadata": {
    "executionInfo": {
     "elapsed": 9,
     "status": "ok",
     "timestamp": 1691174149907,
     "user": {
      "displayName": "Mateus F",
      "userId": "16629695800920496720"
     },
     "user_tz": -60
    },
    "id": "JrlM0RAKaB5b"
   },
   "outputs": [],
   "source": [
    "# splitting\n",
    "split_time = 220\n",
    "time_train = time[:split_time]\n",
    "x_train = series[:split_time]\n",
    "time_valid = time[split_time:]\n",
    "x_valid = series[split_time:]"
   ]
  },
  {
   "cell_type": "code",
   "execution_count": 12,
   "metadata": {
    "executionInfo": {
     "elapsed": 10,
     "status": "ok",
     "timestamp": 1691174149908,
     "user": {
      "displayName": "Mateus F",
      "userId": "16629695800920496720"
     },
     "user_tz": -60
    },
    "id": "_vP43oGvaC4O"
   },
   "outputs": [],
   "source": [
    "# parameters\n",
    "window_size = 12\n",
    "batch_size = 12\n",
    "shuffle_buffer_size = 20"
   ]
  },
  {
   "cell_type": "code",
   "execution_count": 13,
   "metadata": {
    "executionInfo": {
     "elapsed": 10,
     "status": "ok",
     "timestamp": 1691174149909,
     "user": {
      "displayName": "Mateus F",
      "userId": "16629695800920496720"
     },
     "user_tz": -60
    },
    "id": "-vke76IsaEWu"
   },
   "outputs": [],
   "source": [
    "# windowed dataset\n",
    "train_dataset = windowed_dataset(x_train, window_size=window_size, batch_size=batch_size, shuffle_buffer=shuffle_buffer_size)\n"
   ]
  },
  {
   "cell_type": "code",
   "execution_count": 14,
   "metadata": {
    "colab": {
     "base_uri": "https://localhost:8080/"
    },
    "executionInfo": {
     "elapsed": 2877,
     "status": "ok",
     "timestamp": 1691174152777,
     "user": {
      "displayName": "Mateus F",
      "userId": "16629695800920496720"
     },
     "user_tz": -60
    },
    "id": "soPavh58aHE-",
    "outputId": "f97da28b-09cc-428f-ec11-a49b10c46926"
   },
   "outputs": [
    {
     "name": "stderr",
     "output_type": "stream",
     "text": [
      "WARNING:absl:At this time, the v2.11+ optimizer `tf.keras.optimizers.Adam` runs slowly on M1/M2 Macs, please use the legacy Keras optimizer instead, located at `tf.keras.optimizers.legacy.Adam`.\n",
      "WARNING:absl:`lr` is deprecated in Keras optimizer, please use `learning_rate` or use the legacy optimizer, e.g.,tf.keras.optimizers.legacy.Adam.\n",
      "WARNING:absl:There is a known slowdown when using v2.11+ Keras optimizers on M1/M2 Macs. Falling back to the legacy Keras optimizer, i.e., `tf.keras.optimizers.legacy.Adam`.\n"
     ]
    }
   ],
   "source": [
    "# Reshape the data for LSTM input\n",
    "x_train = x_train.reshape(-1, 1)  # Remove the window_size dimension and extra dimension\n",
    "x_valid = x_valid.reshape(-1, 1)  # Remove the window_size dimension and extra dimension\n",
    "\n",
    "# model\n",
    "model = tf.keras.models.Sequential([\n",
    "    tf.keras.layers.Bidirectional(tf.keras.layers.LSTM(12, return_sequences=True), input_shape=(window_size, 1)),  # Update input_shape\n",
    "    tf.keras.layers.Dropout(0.2),\n",
    "    tf.keras.layers.Bidirectional(tf.keras.layers.LSTM(12, return_sequences=True)),  # Set return_sequences=True\n",
    "    tf.keras.layers.Dropout(0.2),\n",
    "    tf.keras.layers.Bidirectional(tf.keras.layers.LSTM(12)),\n",
    "    tf.keras.layers.Dropout(0.2),\n",
    "    tf.keras.layers.Dense(1),\n",
    "    tf.keras.layers.Lambda(lambda x: x * series_std + series_mean)\n",
    "])\n",
    "\n",
    "\n",
    "optimizer = tf.keras.optimizers.Adam(lr=1e-6)  # Use Adam optimizer with higher learning rate\n",
    "model.compile(loss=tf.keras.losses.Huber(),\n",
    "              optimizer=optimizer,\n",
    "              metrics=[\"mae\",\"mse\"])"
   ]
  },
  {
   "cell_type": "code",
   "execution_count": 21,
   "metadata": {
    "colab": {
     "base_uri": "https://localhost:8080/"
    },
    "executionInfo": {
     "elapsed": 62224,
     "status": "ok",
     "timestamp": 1691174214996,
     "user": {
      "displayName": "Mateus F",
      "userId": "16629695800920496720"
     },
     "user_tz": -60
    },
    "id": "Jb1olmH-aNxu",
    "outputId": "6a6c4514-ecdc-4feb-af1c-4af2a46a3719",
    "scrolled": true
   },
   "outputs": [
    {
     "name": "stdout",
     "output_type": "stream",
     "text": [
      "Epoch 1/50\n",
      "11/11 [==============================] - 0s 7ms/step - loss: 0.3602 - mae: 0.7417 - mse: 0.8116\n",
      "Epoch 2/50\n",
      "11/11 [==============================] - 0s 4ms/step - loss: 0.3542 - mae: 0.6966 - mse: 0.8377\n",
      "Epoch 3/50\n",
      "11/11 [==============================] - 0s 4ms/step - loss: 0.4461 - mae: 0.8139 - mse: 1.0890\n",
      "Epoch 4/50\n",
      "11/11 [==============================] - 0s 4ms/step - loss: 0.3958 - mae: 0.7669 - mse: 0.9242\n",
      "Epoch 5/50\n",
      "11/11 [==============================] - 0s 4ms/step - loss: 0.4345 - mae: 0.8007 - mse: 1.0408\n",
      "Epoch 6/50\n",
      "11/11 [==============================] - 0s 4ms/step - loss: 0.4404 - mae: 0.8262 - mse: 1.0235\n",
      "Epoch 7/50\n",
      "11/11 [==============================] - 0s 4ms/step - loss: 0.3781 - mae: 0.7368 - mse: 0.8874\n",
      "Epoch 8/50\n",
      "11/11 [==============================] - 0s 5ms/step - loss: 0.3195 - mae: 0.6623 - mse: 0.7115\n",
      "Epoch 9/50\n",
      "11/11 [==============================] - 0s 4ms/step - loss: 0.3743 - mae: 0.7349 - mse: 0.8639\n",
      "Epoch 10/50\n",
      "11/11 [==============================] - 0s 5ms/step - loss: 0.3941 - mae: 0.7550 - mse: 0.9187\n",
      "Epoch 11/50\n",
      "11/11 [==============================] - 0s 4ms/step - loss: 0.4083 - mae: 0.7747 - mse: 0.9845\n",
      "Epoch 12/50\n",
      "11/11 [==============================] - 0s 4ms/step - loss: 0.4255 - mae: 0.7973 - mse: 1.0100\n",
      "Epoch 13/50\n",
      "11/11 [==============================] - 0s 5ms/step - loss: 0.4931 - mae: 0.8813 - mse: 1.1768\n",
      "Epoch 14/50\n",
      "11/11 [==============================] - 0s 5ms/step - loss: 0.2999 - mae: 0.6473 - mse: 0.6507\n",
      "Epoch 15/50\n",
      "11/11 [==============================] - 0s 4ms/step - loss: 0.3093 - mae: 0.6542 - mse: 0.6836\n",
      "Epoch 16/50\n",
      "11/11 [==============================] - 0s 4ms/step - loss: 0.3717 - mae: 0.7381 - mse: 0.8226\n",
      "Epoch 17/50\n",
      "11/11 [==============================] - 0s 5ms/step - loss: 0.3348 - mae: 0.6925 - mse: 0.7551\n",
      "Epoch 18/50\n",
      "11/11 [==============================] - 0s 5ms/step - loss: 0.3839 - mae: 0.7565 - mse: 0.8609\n",
      "Epoch 19/50\n",
      "11/11 [==============================] - 0s 4ms/step - loss: 0.3230 - mae: 0.6752 - mse: 0.7333\n",
      "Epoch 20/50\n",
      "11/11 [==============================] - 0s 5ms/step - loss: 0.3463 - mae: 0.6908 - mse: 0.8340\n",
      "Epoch 21/50\n",
      "11/11 [==============================] - 0s 4ms/step - loss: 0.3783 - mae: 0.7444 - mse: 0.8754\n",
      "Epoch 22/50\n",
      "11/11 [==============================] - 0s 4ms/step - loss: 0.2942 - mae: 0.6377 - mse: 0.6413\n",
      "Epoch 23/50\n",
      "11/11 [==============================] - 0s 5ms/step - loss: 0.4021 - mae: 0.7899 - mse: 0.8920\n",
      "Epoch 24/50\n",
      "11/11 [==============================] - 0s 4ms/step - loss: 0.3916 - mae: 0.7484 - mse: 0.9425\n",
      "Epoch 25/50\n",
      "11/11 [==============================] - 0s 6ms/step - loss: 0.3719 - mae: 0.7280 - mse: 0.9001\n",
      "Epoch 26/50\n",
      "11/11 [==============================] - 0s 4ms/step - loss: 0.3309 - mae: 0.6738 - mse: 0.7306\n",
      "Epoch 27/50\n",
      "11/11 [==============================] - 0s 4ms/step - loss: 0.4371 - mae: 0.8111 - mse: 1.0222\n",
      "Epoch 28/50\n",
      "11/11 [==============================] - 0s 5ms/step - loss: 0.3143 - mae: 0.6589 - mse: 0.6967\n",
      "Epoch 29/50\n",
      "11/11 [==============================] - 0s 6ms/step - loss: 0.3505 - mae: 0.6860 - mse: 0.8951\n",
      "Epoch 30/50\n",
      "11/11 [==============================] - 0s 5ms/step - loss: 0.3936 - mae: 0.7681 - mse: 0.8930\n",
      "Epoch 31/50\n",
      "11/11 [==============================] - 0s 6ms/step - loss: 0.3459 - mae: 0.7176 - mse: 0.8216\n",
      "Epoch 32/50\n",
      "11/11 [==============================] - 0s 5ms/step - loss: 0.4073 - mae: 0.7796 - mse: 0.9196\n"
     ]
    }
   ],
   "source": [
    "# Early Stopping\n",
    "early_stopping = tf.keras.callbacks.EarlyStopping(monitor='mae', patience=10, restore_best_weights=True)\n",
    "\n",
    "# Train the model with validation set\n",
    "history = model.fit(train_dataset, epochs=50, validation_data=(x_valid, x_valid), callbacks=[early_stopping])\n"
   ]
  },
  {
   "cell_type": "code",
   "execution_count": 22,
   "metadata": {
    "colab": {
     "base_uri": "https://localhost:8080/"
    },
    "executionInfo": {
     "elapsed": 25587,
     "status": "ok",
     "timestamp": 1691174240558,
     "user": {
      "displayName": "Mateus F",
      "userId": "16629695800920496720"
     },
     "user_tz": -60
    },
    "id": "MmXgXpjtaQVW",
    "outputId": "cc068e4b-f053-43b7-d35d-56917e5b607c",
    "scrolled": true
   },
   "outputs": [
    {
     "name": "stdout",
     "output_type": "stream",
     "text": [
      "1/1 [==============================] - 0s 10ms/step\n",
      "1/1 [==============================] - 0s 7ms/step\n",
      "1/1 [==============================] - 0s 8ms/step\n",
      "1/1 [==============================] - 0s 7ms/step\n",
      "1/1 [==============================] - 0s 7ms/step\n",
      "1/1 [==============================] - 0s 6ms/step\n",
      "1/1 [==============================] - 0s 6ms/step\n",
      "1/1 [==============================] - 0s 8ms/step\n",
      "1/1 [==============================] - 0s 7ms/step\n",
      "1/1 [==============================] - 0s 7ms/step\n",
      "1/1 [==============================] - 0s 7ms/step\n",
      "1/1 [==============================] - 0s 6ms/step\n",
      "1/1 [==============================] - 0s 7ms/step\n",
      "1/1 [==============================] - 0s 7ms/step\n",
      "1/1 [==============================] - 0s 7ms/step\n",
      "1/1 [==============================] - 0s 7ms/step\n",
      "1/1 [==============================] - 0s 7ms/step\n",
      "1/1 [==============================] - 0s 7ms/step\n",
      "1/1 [==============================] - 0s 7ms/step\n",
      "1/1 [==============================] - 0s 7ms/step\n",
      "1/1 [==============================] - 0s 7ms/step\n",
      "1/1 [==============================] - 0s 6ms/step\n",
      "1/1 [==============================] - 0s 6ms/step\n",
      "1/1 [==============================] - 0s 6ms/step\n",
      "1/1 [==============================] - 0s 6ms/step\n",
      "1/1 [==============================] - 0s 6ms/step\n",
      "1/1 [==============================] - 0s 6ms/step\n",
      "1/1 [==============================] - 0s 6ms/step\n",
      "1/1 [==============================] - 0s 6ms/step\n",
      "1/1 [==============================] - 0s 6ms/step\n",
      "1/1 [==============================] - 0s 6ms/step\n",
      "1/1 [==============================] - 0s 6ms/step\n",
      "1/1 [==============================] - 0s 6ms/step\n",
      "1/1 [==============================] - 0s 7ms/step\n",
      "1/1 [==============================] - 0s 7ms/step\n",
      "1/1 [==============================] - 0s 7ms/step\n",
      "1/1 [==============================] - 0s 7ms/step\n",
      "1/1 [==============================] - 0s 7ms/step\n",
      "1/1 [==============================] - 0s 7ms/step\n",
      "1/1 [==============================] - 0s 7ms/step\n",
      "1/1 [==============================] - 0s 7ms/step\n",
      "1/1 [==============================] - 0s 7ms/step\n",
      "1/1 [==============================] - 0s 7ms/step\n",
      "1/1 [==============================] - 0s 7ms/step\n",
      "1/1 [==============================] - 0s 6ms/step\n",
      "1/1 [==============================] - 0s 7ms/step\n",
      "1/1 [==============================] - 0s 7ms/step\n",
      "1/1 [==============================] - 0s 7ms/step\n",
      "1/1 [==============================] - 0s 6ms/step\n",
      "1/1 [==============================] - 0s 7ms/step\n",
      "1/1 [==============================] - 0s 7ms/step\n",
      "1/1 [==============================] - 0s 7ms/step\n",
      "1/1 [==============================] - 0s 6ms/step\n",
      "1/1 [==============================] - 0s 7ms/step\n",
      "1/1 [==============================] - 0s 6ms/step\n",
      "1/1 [==============================] - 0s 7ms/step\n",
      "1/1 [==============================] - 0s 7ms/step\n",
      "1/1 [==============================] - 0s 7ms/step\n",
      "1/1 [==============================] - 0s 7ms/step\n",
      "1/1 [==============================] - 0s 7ms/step\n",
      "1/1 [==============================] - 0s 6ms/step\n",
      "1/1 [==============================] - 0s 7ms/step\n",
      "1/1 [==============================] - 0s 6ms/step\n",
      "1/1 [==============================] - 0s 7ms/step\n",
      "1/1 [==============================] - 0s 7ms/step\n",
      "1/1 [==============================] - 0s 7ms/step\n",
      "1/1 [==============================] - 0s 7ms/step\n",
      "1/1 [==============================] - 0s 7ms/step\n",
      "1/1 [==============================] - 0s 7ms/step\n",
      "1/1 [==============================] - 0s 7ms/step\n",
      "1/1 [==============================] - 0s 7ms/step\n",
      "1/1 [==============================] - 0s 7ms/step\n",
      "1/1 [==============================] - 0s 7ms/step\n",
      "1/1 [==============================] - 0s 6ms/step\n",
      "1/1 [==============================] - 0s 7ms/step\n",
      "1/1 [==============================] - 0s 7ms/step\n",
      "1/1 [==============================] - 0s 7ms/step\n",
      "1/1 [==============================] - 0s 7ms/step\n",
      "1/1 [==============================] - 0s 7ms/step\n",
      "1/1 [==============================] - 0s 8ms/step\n",
      "1/1 [==============================] - 0s 7ms/step\n",
      "1/1 [==============================] - 0s 6ms/step\n",
      "1/1 [==============================] - 0s 7ms/step\n",
      "1/1 [==============================] - 0s 6ms/step\n",
      "1/1 [==============================] - 0s 7ms/step\n",
      "1/1 [==============================] - 0s 7ms/step\n",
      "1/1 [==============================] - 0s 6ms/step\n",
      "1/1 [==============================] - 0s 7ms/step\n",
      "1/1 [==============================] - 0s 6ms/step\n",
      "1/1 [==============================] - 0s 7ms/step\n",
      "1/1 [==============================] - 0s 7ms/step\n",
      "1/1 [==============================] - 0s 6ms/step\n",
      "1/1 [==============================] - 0s 7ms/step\n",
      "1/1 [==============================] - 0s 6ms/step\n",
      "1/1 [==============================] - 0s 6ms/step\n",
      "1/1 [==============================] - 0s 7ms/step\n",
      "1/1 [==============================] - 0s 6ms/step\n",
      "1/1 [==============================] - 0s 6ms/step\n",
      "1/1 [==============================] - 0s 7ms/step\n",
      "1/1 [==============================] - 0s 6ms/step\n",
      "1/1 [==============================] - 0s 6ms/step\n",
      "1/1 [==============================] - 0s 6ms/step\n",
      "1/1 [==============================] - 0s 6ms/step\n",
      "1/1 [==============================] - 0s 7ms/step\n",
      "1/1 [==============================] - 0s 7ms/step\n",
      "1/1 [==============================] - 0s 7ms/step\n",
      "1/1 [==============================] - 0s 7ms/step\n",
      "1/1 [==============================] - 0s 7ms/step\n",
      "1/1 [==============================] - 0s 6ms/step\n",
      "1/1 [==============================] - 0s 7ms/step\n",
      "1/1 [==============================] - 0s 6ms/step\n",
      "1/1 [==============================] - 0s 7ms/step\n",
      "1/1 [==============================] - 0s 7ms/step\n",
      "1/1 [==============================] - 0s 7ms/step\n",
      "1/1 [==============================] - 0s 7ms/step\n",
      "1/1 [==============================] - 0s 8ms/step\n",
      "1/1 [==============================] - 0s 7ms/step\n",
      "1/1 [==============================] - 0s 8ms/step\n",
      "1/1 [==============================] - 0s 7ms/step\n",
      "1/1 [==============================] - 0s 7ms/step\n",
      "1/1 [==============================] - 0s 7ms/step\n",
      "1/1 [==============================] - 0s 8ms/step\n",
      "1/1 [==============================] - 0s 7ms/step\n",
      "1/1 [==============================] - 0s 8ms/step\n",
      "1/1 [==============================] - 0s 7ms/step\n",
      "1/1 [==============================] - 0s 7ms/step\n",
      "1/1 [==============================] - 0s 7ms/step\n",
      "1/1 [==============================] - 0s 6ms/step\n",
      "1/1 [==============================] - 0s 7ms/step\n",
      "1/1 [==============================] - 0s 7ms/step\n"
     ]
    },
    {
     "ename": "IndexError",
     "evalue": "too many indices for array: array is 1-dimensional, but 3 were indexed",
     "output_type": "error",
     "traceback": [
      "\u001b[0;31m---------------------------------------------------------------------------\u001b[0m",
      "\u001b[0;31mIndexError\u001b[0m                                Traceback (most recent call last)",
      "Cell \u001b[0;32mIn[22], line 7\u001b[0m\n\u001b[1;32m      4\u001b[0m     forecast\u001b[38;5;241m.\u001b[39mappend(model\u001b[38;5;241m.\u001b[39mpredict(series[time:time \u001b[38;5;241m+\u001b[39m window_size][np\u001b[38;5;241m.\u001b[39mnewaxis]))\n\u001b[1;32m      6\u001b[0m forecast \u001b[38;5;241m=\u001b[39m forecast[split_time\u001b[38;5;241m-\u001b[39mwindow_size:]\n\u001b[0;32m----> 7\u001b[0m results \u001b[38;5;241m=\u001b[39m \u001b[43mnp\u001b[49m\u001b[38;5;241;43m.\u001b[39;49m\u001b[43marray\u001b[49m\u001b[43m(\u001b[49m\u001b[43mforecast\u001b[49m\u001b[43m)\u001b[49m\u001b[43m[\u001b[49m\u001b[43m:\u001b[49m\u001b[43m,\u001b[49m\u001b[43m \u001b[49m\u001b[38;5;241;43m0\u001b[39;49m\u001b[43m,\u001b[49m\u001b[43m \u001b[49m\u001b[38;5;241;43m0\u001b[39;49m\u001b[43m]\u001b[49m\n",
      "\u001b[0;31mIndexError\u001b[0m: too many indices for array: array is 1-dimensional, but 3 were indexed"
     ]
    }
   ],
   "source": [
    "# Forecasting\n",
    "forecast = []\n",
    "for time in range(len(series) - window_size):\n",
    "    forecast.append(model.predict(series[time:time + window_size][np.newaxis]))\n",
    "\n",
    "forecast = forecast[split_time-window_size:]\n"
   ]
  },
  {
   "cell_type": "code",
   "execution_count": 25,
   "metadata": {},
   "outputs": [],
   "source": [
    "results = np.array(forecast)"
   ]
  },
  {
   "cell_type": "code",
   "execution_count": 26,
   "metadata": {
    "colab": {
     "base_uri": "https://localhost:8080/",
     "height": 542
    },
    "executionInfo": {
     "elapsed": 367,
     "status": "ok",
     "timestamp": 1691174240901,
     "user": {
      "displayName": "Mateus F",
      "userId": "16629695800920496720"
     },
     "user_tz": -60
    },
    "id": "iAwkNkIEaS74",
    "outputId": "0e880005-6e13-46b3-a274-ddd91bd002a5"
   },
   "outputs": [
    {
     "data": {
      "image/png": "[encoded data removed]",
      "text/plain": [
       "<Figure size 1000x600 with 1 Axes>"
      ]
     },
     "metadata": {},
     "output_type": "display_data"
    }
   ],
   "source": [
    "# Scaling back to original range for plotting\n",
    "results = results * series_std + series_mean\n",
    "\n",
    "plt.figure(figsize=(10, 6))\n",
    "plot_series(time_valid, x_valid, label='Actual')\n",
    "plot_series(time_valid, results, label='Forecast')\n",
    "plt.legend()\n",
    "plt.show()"
   ]
  },
  {
   "cell_type": "code",
   "execution_count": 20,
   "metadata": {
    "colab": {
     "base_uri": "https://localhost:8080/"
    },
    "executionInfo": {
     "elapsed": 12,
     "status": "ok",
     "timestamp": 1691174240903,
     "user": {
      "displayName": "Mateus F",
      "userId": "16629695800920496720"
     },
     "user_tz": -60
    },
    "id": "3WKfBK0raVkG",
    "outputId": "39a042ca-776d-4821-908a-f51590eac597"
   },
   "outputs": [
    {
     "ename": "NameError",
     "evalue": "name 'results' is not defined",
     "output_type": "error",
     "traceback": [
      "\u001b[0;31m---------------------------------------------------------------------------\u001b[0m",
      "\u001b[0;31mNameError\u001b[0m                                 Traceback (most recent call last)",
      "Cell \u001b[0;32mIn[20], line 2\u001b[0m\n\u001b[1;32m      1\u001b[0m \u001b[38;5;66;03m# Evaluate on validation set\u001b[39;00m\n\u001b[0;32m----> 2\u001b[0m mae \u001b[38;5;241m=\u001b[39m tf\u001b[38;5;241m.\u001b[39mkeras\u001b[38;5;241m.\u001b[39mmetrics\u001b[38;5;241m.\u001b[39mmean_absolute_error(x_valid, \u001b[43mresults\u001b[49m)\u001b[38;5;241m.\u001b[39mnumpy()\n\u001b[1;32m      3\u001b[0m mse \u001b[38;5;241m=\u001b[39m tf\u001b[38;5;241m.\u001b[39mkeras\u001b[38;5;241m.\u001b[39mmetrics\u001b[38;5;241m.\u001b[39mmean_squared_error(x_valid, results)\u001b[38;5;241m.\u001b[39mnumpy()\n\u001b[1;32m      4\u001b[0m \u001b[38;5;28mprint\u001b[39m(\u001b[38;5;124m\"\u001b[39m\u001b[38;5;124mValidation MAE:\u001b[39m\u001b[38;5;124m\"\u001b[39m, mae)\n",
      "\u001b[0;31mNameError\u001b[0m: name 'results' is not defined"
     ]
    }
   ],
   "source": [
    "# Evaluate on validation set\n",
    "mae = tf.keras.metrics.mean_absolute_error(x_valid, results).numpy()\n",
    "mse = tf.keras.metrics.mean_squared_error(x_valid, results).numpy()\n",
    "print(\"Validation MAE:\", mae)\n",
    "print(\"Validation MSE:\", mse)"
   ]
  },
  {
   "attachments": {},
   "cell_type": "markdown",
   "metadata": {
    "id": "i6jlhQL-aaTJ"
   },
   "source": [
    "In this updated code, I've added normalization to the data, dropout layers to prevent overfitting, and switched to the Adam optimizer with a higher learning rate. I've also included early stopping for monitoring the validation loss and added labels to the plotting for better visualization. Finally, I've included evaluation on the validation set after training to get the validation MAE and MSE."
   ]
  }
 ],
 "metadata": {
  "colab": {
   "authorship_tag": "ABX9TyO+6DGdQjkuphGRKqbyyEn5",
   "provenance": []
  },
  "kernelspec": {
   "display_name": "Python 3 (ipykernel)",
   "language": "python",
   "name": "python3"
  },
  "language_info": {
   "codemirror_mode": {
    "name": "ipython",
    "version": 3
   },
   "file_extension": ".py",
   "mimetype": "text/x-python",
   "name": "python",
   "nbconvert_exporter": "python",
   "pygments_lexer": "ipython3",
   "version": "3.11.3"
  }
 },
 "nbformat": 4,
 "nbformat_minor": 4
}
