{
 "cells": [
  {
   "cell_type": "markdown",
   "id": "09f33961-30b9-4941-a433-522d9c0a4a0f",
   "metadata": {
    "editable": true,
    "slideshow": {
     "slide_type": ""
    },
    "tags": []
   },
   "source": [
    "# Neural Network Architecture BaseLine"
   ]
  },
  {
   "cell_type": "code",
   "execution_count": 1,
   "id": "f7304698-f3ba-4b2a-a304-edba7a43e4e0",
   "metadata": {},
   "outputs": [],
   "source": [
    "import pandas as pd\n",
    "import numpy as np\n",
    "import tensorflow as tf "
   ]
  },
  {
   "cell_type": "code",
   "execution_count": 2,
   "id": "73fc4c5f-28f8-40d2-a982-957242fc7a04",
   "metadata": {
    "editable": true,
    "slideshow": {
     "slide_type": ""
    },
    "tags": []
   },
   "outputs": [
    {
     "data": {
      "text/html": [
       "<div>\n",
       "<style scoped>\n",
       "    .dataframe tbody tr th:only-of-type {\n",
       "        vertical-align: middle;\n",
       "    }\n",
       "\n",
       "    .dataframe tbody tr th {\n",
       "        vertical-align: top;\n",
       "    }\n",
       "\n",
       "    .dataframe thead th {\n",
       "        text-align: right;\n",
       "    }\n",
       "</style>\n",
       "<table border=\"1\" class=\"dataframe\">\n",
       "  <thead>\n",
       "    <tr style=\"text-align: right;\">\n",
       "      <th></th>\n",
       "      <th>year</th>\n",
       "      <th>cement_co2</th>\n",
       "      <th>co2</th>\n",
       "      <th>coal_co2</th>\n",
       "      <th>flaring_co2</th>\n",
       "      <th>gas_co2</th>\n",
       "      <th>land_use_change_co2</th>\n",
       "      <th>oil_co2</th>\n",
       "      <th>other_industry_co2</th>\n",
       "    </tr>\n",
       "  </thead>\n",
       "  <tbody>\n",
       "    <tr>\n",
       "      <th>0</th>\n",
       "      <td>1750</td>\n",
       "      <td>317.372711</td>\n",
       "      <td>9.351</td>\n",
       "      <td>9.351</td>\n",
       "      <td>256.309556</td>\n",
       "      <td>1814.698707</td>\n",
       "      <td>4316.805465</td>\n",
       "      <td>3625.609168</td>\n",
       "      <td>82.069576</td>\n",
       "    </tr>\n",
       "    <tr>\n",
       "      <th>1</th>\n",
       "      <td>1751</td>\n",
       "      <td>317.372711</td>\n",
       "      <td>9.351</td>\n",
       "      <td>9.351</td>\n",
       "      <td>256.309556</td>\n",
       "      <td>1814.698707</td>\n",
       "      <td>4316.805465</td>\n",
       "      <td>3625.609168</td>\n",
       "      <td>82.069576</td>\n",
       "    </tr>\n",
       "    <tr>\n",
       "      <th>2</th>\n",
       "      <td>1752</td>\n",
       "      <td>317.372711</td>\n",
       "      <td>9.354</td>\n",
       "      <td>9.354</td>\n",
       "      <td>256.309556</td>\n",
       "      <td>1814.698707</td>\n",
       "      <td>4316.805465</td>\n",
       "      <td>3625.609168</td>\n",
       "      <td>82.069576</td>\n",
       "    </tr>\n",
       "    <tr>\n",
       "      <th>3</th>\n",
       "      <td>1753</td>\n",
       "      <td>317.372711</td>\n",
       "      <td>9.354</td>\n",
       "      <td>9.354</td>\n",
       "      <td>256.309556</td>\n",
       "      <td>1814.698707</td>\n",
       "      <td>4316.805465</td>\n",
       "      <td>3625.609168</td>\n",
       "      <td>82.069576</td>\n",
       "    </tr>\n",
       "    <tr>\n",
       "      <th>4</th>\n",
       "      <td>1754</td>\n",
       "      <td>317.372711</td>\n",
       "      <td>9.358</td>\n",
       "      <td>9.358</td>\n",
       "      <td>256.309556</td>\n",
       "      <td>1814.698707</td>\n",
       "      <td>4316.805465</td>\n",
       "      <td>3625.609168</td>\n",
       "      <td>82.069576</td>\n",
       "    </tr>\n",
       "    <tr>\n",
       "      <th>...</th>\n",
       "      <td>...</td>\n",
       "      <td>...</td>\n",
       "      <td>...</td>\n",
       "      <td>...</td>\n",
       "      <td>...</td>\n",
       "      <td>...</td>\n",
       "      <td>...</td>\n",
       "      <td>...</td>\n",
       "      <td>...</td>\n",
       "    </tr>\n",
       "    <tr>\n",
       "      <th>267</th>\n",
       "      <td>2017</td>\n",
       "      <td>1507.923000</td>\n",
       "      <td>36096.738</td>\n",
       "      <td>14506.974</td>\n",
       "      <td>391.992000</td>\n",
       "      <td>7144.928000</td>\n",
       "      <td>4331.947000</td>\n",
       "      <td>12242.628000</td>\n",
       "      <td>302.294000</td>\n",
       "    </tr>\n",
       "    <tr>\n",
       "      <th>268</th>\n",
       "      <td>2018</td>\n",
       "      <td>1569.218000</td>\n",
       "      <td>36826.508</td>\n",
       "      <td>14746.831</td>\n",
       "      <td>412.116000</td>\n",
       "      <td>7529.847000</td>\n",
       "      <td>4181.356000</td>\n",
       "      <td>12266.017000</td>\n",
       "      <td>302.479000</td>\n",
       "    </tr>\n",
       "    <tr>\n",
       "      <th>269</th>\n",
       "      <td>2019</td>\n",
       "      <td>1617.507000</td>\n",
       "      <td>37082.559</td>\n",
       "      <td>14725.978</td>\n",
       "      <td>439.254000</td>\n",
       "      <td>7647.528000</td>\n",
       "      <td>4557.283000</td>\n",
       "      <td>12345.653000</td>\n",
       "      <td>306.639000</td>\n",
       "    </tr>\n",
       "    <tr>\n",
       "      <th>270</th>\n",
       "      <td>2020</td>\n",
       "      <td>1637.537000</td>\n",
       "      <td>35264.086</td>\n",
       "      <td>14174.564</td>\n",
       "      <td>407.584000</td>\n",
       "      <td>7556.290000</td>\n",
       "      <td>4057.758000</td>\n",
       "      <td>11191.809000</td>\n",
       "      <td>296.302000</td>\n",
       "    </tr>\n",
       "    <tr>\n",
       "      <th>271</th>\n",
       "      <td>2021</td>\n",
       "      <td>1672.592000</td>\n",
       "      <td>37123.852</td>\n",
       "      <td>14979.598</td>\n",
       "      <td>416.526000</td>\n",
       "      <td>7921.830000</td>\n",
       "      <td>3939.044000</td>\n",
       "      <td>11837.159000</td>\n",
       "      <td>296.146000</td>\n",
       "    </tr>\n",
       "  </tbody>\n",
       "</table>\n",
       "<p>272 rows × 9 columns</p>\n",
       "</div>"
      ],
      "text/plain": [
       "     year   cement_co2        co2   coal_co2  flaring_co2      gas_co2  \\\n",
       "0    1750   317.372711      9.351      9.351   256.309556  1814.698707   \n",
       "1    1751   317.372711      9.351      9.351   256.309556  1814.698707   \n",
       "2    1752   317.372711      9.354      9.354   256.309556  1814.698707   \n",
       "3    1753   317.372711      9.354      9.354   256.309556  1814.698707   \n",
       "4    1754   317.372711      9.358      9.358   256.309556  1814.698707   \n",
       "..    ...          ...        ...        ...          ...          ...   \n",
       "267  2017  1507.923000  36096.738  14506.974   391.992000  7144.928000   \n",
       "268  2018  1569.218000  36826.508  14746.831   412.116000  7529.847000   \n",
       "269  2019  1617.507000  37082.559  14725.978   439.254000  7647.528000   \n",
       "270  2020  1637.537000  35264.086  14174.564   407.584000  7556.290000   \n",
       "271  2021  1672.592000  37123.852  14979.598   416.526000  7921.830000   \n",
       "\n",
       "     land_use_change_co2       oil_co2  other_industry_co2  \n",
       "0            4316.805465   3625.609168           82.069576  \n",
       "1            4316.805465   3625.609168           82.069576  \n",
       "2            4316.805465   3625.609168           82.069576  \n",
       "3            4316.805465   3625.609168           82.069576  \n",
       "4            4316.805465   3625.609168           82.069576  \n",
       "..                   ...           ...                 ...  \n",
       "267          4331.947000  12242.628000          302.294000  \n",
       "268          4181.356000  12266.017000          302.479000  \n",
       "269          4557.283000  12345.653000          306.639000  \n",
       "270          4057.758000  11191.809000          296.302000  \n",
       "271          3939.044000  11837.159000          296.146000  \n",
       "\n",
       "[272 rows x 9 columns]"
      ]
     },
     "execution_count": 2,
     "metadata": {},
     "output_type": "execute_result"
    }
   ],
   "source": [
    "df = pd.read_csv('WORLD-OWID-Features')\n",
    "\n",
    "df"
   ]
  },
  {
   "cell_type": "markdown",
   "id": "798469bb-ed55-4615-b887-9fab436e8576",
   "metadata": {},
   "source": [
    "Doing some small manually feature analysis based upon other projects "
   ]
  },
  {
   "cell_type": "code",
   "execution_count": 3,
   "id": "d45e8ac1-82fa-4a10-b312-9a2518416302",
   "metadata": {},
   "outputs": [],
   "source": [
    "#features_to_keep = ['year', 'co2', 'population', 'gdp', 'cement_co2', 'primary_energy_consumption', 'share_global_cumulative_gas_co2', 'share_global_cumulative_coal_co2', 'share_global_cumulative_flaring_co2', 'share_global_cumulative_oil_co2']\n",
    "\n",
    "# df = df[features_to_keep]"
   ]
  },
  {
   "cell_type": "markdown",
   "id": "14070430-a02d-4108-b740-be812680438a",
   "metadata": {},
   "source": [
    "Defining our X and Y "
   ]
  },
  {
   "cell_type": "code",
   "execution_count": 4,
   "id": "e0c42139-9723-4fe9-92de-51aa82f027e9",
   "metadata": {
    "editable": true,
    "slideshow": {
     "slide_type": ""
    },
    "tags": []
   },
   "outputs": [
    {
     "data": {
      "text/plain": [
       "0          9.351\n",
       "1          9.351\n",
       "2          9.354\n",
       "3          9.354\n",
       "4          9.358\n",
       "         ...    \n",
       "267    36096.738\n",
       "268    36826.508\n",
       "269    37082.559\n",
       "270    35264.086\n",
       "271    37123.852\n",
       "Name: co2, Length: 272, dtype: float64"
      ]
     },
     "execution_count": 4,
     "metadata": {},
     "output_type": "execute_result"
    }
   ],
   "source": [
    "X = df.drop('co2', axis=1)\n",
    "y = df['co2']\n",
    "y"
   ]
  },
  {
   "cell_type": "code",
   "execution_count": 5,
   "id": "43b8a011-e8e0-4da6-9b8f-9808717e275b",
   "metadata": {},
   "outputs": [
    {
     "data": {
      "text/plain": [
       "Index(['year', 'cement_co2', 'co2', 'coal_co2', 'flaring_co2', 'gas_co2',\n",
       "       'land_use_change_co2', 'oil_co2', 'other_industry_co2'],\n",
       "      dtype='object')"
      ]
     },
     "execution_count": 5,
     "metadata": {},
     "output_type": "execute_result"
    }
   ],
   "source": [
    "df.columns"
   ]
  },
  {
   "cell_type": "markdown",
   "id": "e0be41c3-7fd3-4844-8d2a-d1eb3e158333",
   "metadata": {},
   "source": [
    "Splitting our Data "
   ]
  },
  {
   "cell_type": "code",
   "execution_count": 6,
   "id": "5b1c1aca-006a-49b2-ace5-ab54070c5013",
   "metadata": {
    "editable": true,
    "slideshow": {
     "slide_type": ""
    },
    "tags": []
   },
   "outputs": [
    {
     "name": "stdout",
     "output_type": "stream",
     "text": [
      "(190, 8)\n",
      "(82, 8)\n",
      "(190,)\n",
      "(82,)\n"
     ]
    }
   ],
   "source": [
    "from sklearn.model_selection import train_test_split\n",
    "\n",
    "X_train, X_test, y_train, y_test = train_test_split(X, y, test_size=0.3, random_state=42)\n",
    "\n",
    "print(X_train.shape)\n",
    "print(X_test.shape)\n",
    "print(y_train.shape)\n",
    "print(y_test.shape)"
   ]
  },
  {
   "cell_type": "markdown",
   "id": "7279da65-757e-4eef-b62a-73292201f384",
   "metadata": {},
   "source": [
    "Scaling our Data "
   ]
  },
  {
   "cell_type": "code",
   "execution_count": 7,
   "id": "1add4c77-fb8d-490f-8694-6216a21181d8",
   "metadata": {},
   "outputs": [],
   "source": [
    "from sklearn.preprocessing import MinMaxScaler\n",
    "\n",
    "scaler = MinMaxScaler()\n",
    "# X_scaled = scaler.fit_transform(X)\n",
    "# y = scaler.fit_transform(y.values.reshape(-1, 1))\n",
    "\n",
    "X_train_scaled = scaler.fit_transform(X_train)\n",
    "X_test_scaled = scaler.transform(X_test)"
   ]
  },
  {
   "cell_type": "markdown",
   "id": "d001fafe-3b98-4e73-a082-fef24f8f6864",
   "metadata": {},
   "source": [
    "Structuring our Model "
   ]
  },
  {
   "cell_type": "code",
   "execution_count": 8,
   "id": "a8638527-fc6a-4789-8ec5-70de0983cd56",
   "metadata": {},
   "outputs": [],
   "source": [
    "from tensorflow.keras.models import Sequential\n",
    "from tensorflow.keras.layers import Dense, ReLU\n",
    "\n",
    "input_size = X_train.shape[1]\n",
    "\n",
    "model = Sequential()\n",
    "\n",
    "model.add(Dense(10, activation='relu', input_dim=input_size))\n",
    "model.add(Dense(10, activation='relu'))\n",
    "model.add(Dense(1, activation='linear'))"
   ]
  },
  {
   "cell_type": "code",
   "execution_count": 9,
   "id": "82db5704-4e9d-4cd4-85e8-b8a123304232",
   "metadata": {},
   "outputs": [
    {
     "name": "stdout",
     "output_type": "stream",
     "text": [
      "Model: \"sequential\"\n",
      "_________________________________________________________________\n",
      " Layer (type)                Output Shape              Param #   \n",
      "=================================================================\n",
      " dense (Dense)               (None, 10)                90        \n",
      "                                                                 \n",
      " dense_1 (Dense)             (None, 10)                110       \n",
      "                                                                 \n",
      " dense_2 (Dense)             (None, 1)                 11        \n",
      "                                                                 \n",
      "=================================================================\n",
      "Total params: 211 (844.00 Byte)\n",
      "Trainable params: 211 (844.00 Byte)\n",
      "Non-trainable params: 0 (0.00 Byte)\n",
      "_________________________________________________________________\n"
     ]
    }
   ],
   "source": [
    "model.summary()"
   ]
  },
  {
   "cell_type": "markdown",
   "id": "7abebebe-5322-4b98-b8e8-e513b9a33a2d",
   "metadata": {},
   "source": [
    "Compiling our model"
   ]
  },
  {
   "cell_type": "code",
   "execution_count": 10,
   "id": "80080657-60aa-42a1-ba8e-38e74829aa18",
   "metadata": {},
   "outputs": [],
   "source": [
    "model.compile(optimizer='adam', loss='mean_absolute_error', metrics=['mean_absolute_error'])"
   ]
  },
  {
   "cell_type": "markdown",
   "id": "b8fd60ba-4a2c-4621-baa0-6a39f0506488",
   "metadata": {},
   "source": [
    "Training our model "
   ]
  },
  {
   "cell_type": "code",
   "execution_count": 11,
   "id": "bc7dd575-7296-4075-bae6-95bb21799e78",
   "metadata": {
    "scrolled": true
   },
   "outputs": [
    {
     "name": "stdout",
     "output_type": "stream",
     "text": [
      "Epoch 1/50\n",
      "5/5 [==============================] - 0s 14ms/step - loss: 6495.7559 - mean_absolute_error: 6495.7559 - val_loss: 8439.0732 - val_mean_absolute_error: 8439.0732\n",
      "Epoch 2/50\n",
      "5/5 [==============================] - 0s 3ms/step - loss: 6495.6475 - mean_absolute_error: 6495.6475 - val_loss: 8438.9541 - val_mean_absolute_error: 8438.9541\n",
      "Epoch 3/50\n",
      "5/5 [==============================] - 0s 2ms/step - loss: 6495.5371 - mean_absolute_error: 6495.5371 - val_loss: 8438.8311 - val_mean_absolute_error: 8438.8311\n",
      "Epoch 4/50\n",
      "5/5 [==============================] - 0s 3ms/step - loss: 6495.4224 - mean_absolute_error: 6495.4224 - val_loss: 8438.7031 - val_mean_absolute_error: 8438.7031\n",
      "Epoch 5/50\n",
      "5/5 [==============================] - 0s 3ms/step - loss: 6495.3003 - mean_absolute_error: 6495.3003 - val_loss: 8438.5674 - val_mean_absolute_error: 8438.5674\n",
      "Epoch 6/50\n",
      "5/5 [==============================] - 0s 2ms/step - loss: 6495.1719 - mean_absolute_error: 6495.1719 - val_loss: 8438.4238 - val_mean_absolute_error: 8438.4238\n",
      "Epoch 7/50\n",
      "5/5 [==============================] - 0s 2ms/step - loss: 6495.0327 - mean_absolute_error: 6495.0327 - val_loss: 8438.2715 - val_mean_absolute_error: 8438.2715\n",
      "Epoch 8/50\n",
      "5/5 [==============================] - 0s 2ms/step - loss: 6494.8813 - mean_absolute_error: 6494.8813 - val_loss: 8438.1006 - val_mean_absolute_error: 8438.1006\n",
      "Epoch 9/50\n",
      "5/5 [==============================] - 0s 3ms/step - loss: 6494.7163 - mean_absolute_error: 6494.7163 - val_loss: 8437.9160 - val_mean_absolute_error: 8437.9160\n",
      "Epoch 10/50\n",
      "5/5 [==============================] - 0s 2ms/step - loss: 6494.5386 - mean_absolute_error: 6494.5386 - val_loss: 8437.7217 - val_mean_absolute_error: 8437.7217\n",
      "Epoch 11/50\n",
      "5/5 [==============================] - 0s 3ms/step - loss: 6494.3501 - mean_absolute_error: 6494.3501 - val_loss: 8437.5195 - val_mean_absolute_error: 8437.5195\n",
      "Epoch 12/50\n",
      "5/5 [==============================] - 0s 3ms/step - loss: 6494.1558 - mean_absolute_error: 6494.1558 - val_loss: 8437.3057 - val_mean_absolute_error: 8437.3057\n",
      "Epoch 13/50\n",
      "5/5 [==============================] - 0s 3ms/step - loss: 6493.9492 - mean_absolute_error: 6493.9492 - val_loss: 8437.0811 - val_mean_absolute_error: 8437.0811\n",
      "Epoch 14/50\n",
      "5/5 [==============================] - 0s 3ms/step - loss: 6493.7285 - mean_absolute_error: 6493.7285 - val_loss: 8436.8438 - val_mean_absolute_error: 8436.8438\n",
      "Epoch 15/50\n",
      "5/5 [==============================] - 0s 3ms/step - loss: 6493.5010 - mean_absolute_error: 6493.5010 - val_loss: 8436.5938 - val_mean_absolute_error: 8436.5938\n",
      "Epoch 16/50\n",
      "5/5 [==============================] - 0s 2ms/step - loss: 6493.2622 - mean_absolute_error: 6493.2622 - val_loss: 8436.3301 - val_mean_absolute_error: 8436.3301\n",
      "Epoch 17/50\n",
      "5/5 [==============================] - 0s 2ms/step - loss: 6493.0093 - mean_absolute_error: 6493.0093 - val_loss: 8436.0498 - val_mean_absolute_error: 8436.0498\n",
      "Epoch 18/50\n",
      "5/5 [==============================] - 0s 2ms/step - loss: 6492.7358 - mean_absolute_error: 6492.7358 - val_loss: 8435.7539 - val_mean_absolute_error: 8435.7539\n",
      "Epoch 19/50\n",
      "5/5 [==============================] - 0s 2ms/step - loss: 6492.4507 - mean_absolute_error: 6492.4507 - val_loss: 8435.4395 - val_mean_absolute_error: 8435.4395\n",
      "Epoch 20/50\n",
      "5/5 [==============================] - 0s 2ms/step - loss: 6492.1499 - mean_absolute_error: 6492.1499 - val_loss: 8435.1055 - val_mean_absolute_error: 8435.1055\n",
      "Epoch 21/50\n",
      "5/5 [==============================] - 0s 3ms/step - loss: 6491.8315 - mean_absolute_error: 6491.8315 - val_loss: 8434.7510 - val_mean_absolute_error: 8434.7510\n",
      "Epoch 22/50\n",
      "5/5 [==============================] - 0s 3ms/step - loss: 6491.4868 - mean_absolute_error: 6491.4868 - val_loss: 8434.3760 - val_mean_absolute_error: 8434.3760\n",
      "Epoch 23/50\n",
      "5/5 [==============================] - 0s 3ms/step - loss: 6491.1274 - mean_absolute_error: 6491.1274 - val_loss: 8433.9766 - val_mean_absolute_error: 8433.9766\n",
      "Epoch 24/50\n",
      "5/5 [==============================] - 0s 3ms/step - loss: 6490.7505 - mean_absolute_error: 6490.7505 - val_loss: 8433.5498 - val_mean_absolute_error: 8433.5498\n",
      "Epoch 25/50\n",
      "5/5 [==============================] - 0s 2ms/step - loss: 6490.3335 - mean_absolute_error: 6490.3335 - val_loss: 8433.1006 - val_mean_absolute_error: 8433.1006\n",
      "Epoch 26/50\n",
      "5/5 [==============================] - 0s 2ms/step - loss: 6489.9087 - mean_absolute_error: 6489.9087 - val_loss: 8432.6182 - val_mean_absolute_error: 8432.6182\n",
      "Epoch 27/50\n",
      "5/5 [==============================] - 0s 3ms/step - loss: 6489.4434 - mean_absolute_error: 6489.4434 - val_loss: 8432.1094 - val_mean_absolute_error: 8432.1094\n",
      "Epoch 28/50\n",
      "5/5 [==============================] - 0s 3ms/step - loss: 6488.9570 - mean_absolute_error: 6488.9570 - val_loss: 8431.5684 - val_mean_absolute_error: 8431.5684\n",
      "Epoch 29/50\n",
      "5/5 [==============================] - 0s 3ms/step - loss: 6488.4341 - mean_absolute_error: 6488.4341 - val_loss: 8430.9971 - val_mean_absolute_error: 8430.9971\n",
      "Epoch 30/50\n",
      "5/5 [==============================] - 0s 2ms/step - loss: 6487.8887 - mean_absolute_error: 6487.8887 - val_loss: 8430.3896 - val_mean_absolute_error: 8430.3896\n",
      "Epoch 31/50\n",
      "5/5 [==============================] - 0s 2ms/step - loss: 6487.3062 - mean_absolute_error: 6487.3062 - val_loss: 8429.7471 - val_mean_absolute_error: 8429.7471\n",
      "Epoch 32/50\n",
      "5/5 [==============================] - 0s 3ms/step - loss: 6486.6816 - mean_absolute_error: 6486.6816 - val_loss: 8429.0693 - val_mean_absolute_error: 8429.0693\n",
      "Epoch 33/50\n",
      "5/5 [==============================] - 0s 2ms/step - loss: 6486.0449 - mean_absolute_error: 6486.0449 - val_loss: 8428.3467 - val_mean_absolute_error: 8428.3467\n",
      "Epoch 34/50\n",
      "5/5 [==============================] - 0s 2ms/step - loss: 6485.3545 - mean_absolute_error: 6485.3545 - val_loss: 8427.5859 - val_mean_absolute_error: 8427.5859\n",
      "Epoch 35/50\n",
      "5/5 [==============================] - 0s 2ms/step - loss: 6484.6323 - mean_absolute_error: 6484.6323 - val_loss: 8426.7861 - val_mean_absolute_error: 8426.7861\n",
      "Epoch 36/50\n",
      "5/5 [==============================] - 0s 2ms/step - loss: 6483.8608 - mean_absolute_error: 6483.8608 - val_loss: 8425.9570 - val_mean_absolute_error: 8425.9570\n",
      "Epoch 37/50\n",
      "5/5 [==============================] - 0s 2ms/step - loss: 6483.1309 - mean_absolute_error: 6483.1309 - val_loss: 8425.0977 - val_mean_absolute_error: 8425.0977\n",
      "Epoch 38/50\n",
      "5/5 [==============================] - 0s 2ms/step - loss: 6482.3613 - mean_absolute_error: 6482.3613 - val_loss: 8424.2363 - val_mean_absolute_error: 8424.2363\n",
      "Epoch 39/50\n",
      "5/5 [==============================] - 0s 3ms/step - loss: 6481.6289 - mean_absolute_error: 6481.6289 - val_loss: 8423.3564 - val_mean_absolute_error: 8423.3564\n",
      "Epoch 40/50\n",
      "5/5 [==============================] - 0s 2ms/step - loss: 6480.8560 - mean_absolute_error: 6480.8560 - val_loss: 8422.4805 - val_mean_absolute_error: 8422.4805\n",
      "Epoch 41/50\n",
      "5/5 [==============================] - 0s 2ms/step - loss: 6480.0952 - mean_absolute_error: 6480.0952 - val_loss: 8421.5732 - val_mean_absolute_error: 8421.5732\n",
      "Epoch 42/50\n",
      "5/5 [==============================] - 0s 2ms/step - loss: 6479.2534 - mean_absolute_error: 6479.2534 - val_loss: 8420.6904 - val_mean_absolute_error: 8420.6904\n",
      "Epoch 43/50\n",
      "5/5 [==============================] - 0s 2ms/step - loss: 6478.4561 - mean_absolute_error: 6478.4561 - val_loss: 8419.7578 - val_mean_absolute_error: 8419.7578\n",
      "Epoch 44/50\n",
      "5/5 [==============================] - 0s 2ms/step - loss: 6477.6187 - mean_absolute_error: 6477.6187 - val_loss: 8418.8057 - val_mean_absolute_error: 8418.8057\n",
      "Epoch 45/50\n",
      "5/5 [==============================] - 0s 2ms/step - loss: 6476.7471 - mean_absolute_error: 6476.7471 - val_loss: 8417.8408 - val_mean_absolute_error: 8417.8408\n",
      "Epoch 46/50\n",
      "5/5 [==============================] - 0s 2ms/step - loss: 6475.9463 - mean_absolute_error: 6475.9463 - val_loss: 8416.8389 - val_mean_absolute_error: 8416.8389\n",
      "Epoch 47/50\n",
      "5/5 [==============================] - 0s 2ms/step - loss: 6475.0938 - mean_absolute_error: 6475.0938 - val_loss: 8415.8203 - val_mean_absolute_error: 8415.8203\n",
      "Epoch 48/50\n",
      "5/5 [==============================] - 0s 2ms/step - loss: 6474.2505 - mean_absolute_error: 6474.2505 - val_loss: 8414.7744 - val_mean_absolute_error: 8414.7744\n",
      "Epoch 49/50\n",
      "5/5 [==============================] - 0s 3ms/step - loss: 6473.4048 - mean_absolute_error: 6473.4048 - val_loss: 8413.7051 - val_mean_absolute_error: 8413.7051\n",
      "Epoch 50/50\n",
      "5/5 [==============================] - 0s 2ms/step - loss: 6472.5737 - mean_absolute_error: 6472.5737 - val_loss: 8412.5801 - val_mean_absolute_error: 8412.5801\n"
     ]
    }
   ],
   "source": [
    "history = model.fit(X_train_scaled, y_train, epochs=50, validation_split=0.2)"
   ]
  },
  {
   "cell_type": "markdown",
   "id": "152b1b7b-5e2e-4674-942f-3a49da465b07",
   "metadata": {},
   "source": [
    "Making predictions with our baseline model "
   ]
  },
  {
   "cell_type": "code",
   "execution_count": 12,
   "id": "05d003d3-387b-4ecb-96f5-4412e6897744",
   "metadata": {},
   "outputs": [
    {
     "name": "stdout",
     "output_type": "stream",
     "text": [
      "3/3 [==============================] - 0s 699us/step\n"
     ]
    }
   ],
   "source": [
    "y_pred = model.predict(X_test_scaled)"
   ]
  },
  {
   "cell_type": "markdown",
   "id": "0357c828-1c84-449c-adf1-ff8eba748e48",
   "metadata": {},
   "source": [
    "Visualizing the outcoms "
   ]
  },
  {
   "cell_type": "code",
   "execution_count": 13,
   "id": "f0157176-ee37-4c5e-a555-7e7515016931",
   "metadata": {},
   "outputs": [
    {
     "data": {
      "image/png": "[encoded data removed]",
      "text/plain": [
       "<Figure size 640x480 with 1 Axes>"
      ]
     },
     "metadata": {},
     "output_type": "display_data"
    }
   ],
   "source": [
    "import matplotlib.pyplot as plt\n",
    "\n",
    "plt.scatter(y_test, y_pred)\n",
    "plt.xlabel('True CO2 Emissions')\n",
    "plt.ylabel('Predicted CO2 Emissions')\n",
    "plt.title('True vs. Predicted CO2 Emissions for Training Data')\n",
    "plt.show()"
   ]
  },
  {
   "cell_type": "code",
   "execution_count": 14,
   "id": "77d23885-a5a2-4fc8-b577-a15d99e8f596",
   "metadata": {},
   "outputs": [
    {
     "data": {
      "image/png": "[encoded data removed]",
      "text/plain": [
       "<Figure size 640x480 with 1 Axes>"
      ]
     },
     "metadata": {},
     "output_type": "display_data"
    }
   ],
   "source": [
    "# Access MAE from the training and validation data\n",
    "train_mae = history.history['mean_absolute_error']\n",
    "val_mae = history.history['val_mean_absolute_error']\n",
    "\n",
    "# number of epochs\n",
    "epochs = range(1, len(train_mae) + 1)\n",
    "\n",
    "# Plot MAEs against each other\n",
    "plt.plot(epochs, train_mae, label='Training MAE')\n",
    "plt.plot(epochs, val_mae, label='Validation MAE')\n",
    "plt.xlabel('Epochs')\n",
    "plt.ylabel('Mean Absolute Error (MAE)')\n",
    "plt.legend()\n",
    "plt.show()"
   ]
  },
  {
   "cell_type": "code",
   "execution_count": 15,
   "id": "3aeb2467-8515-4bb0-9181-ef2b448343b4",
   "metadata": {},
   "outputs": [
    {
     "data": {
      "image/png": "[encoded data removed]",
      "text/plain": [
       "<Figure size 640x480 with 1 Axes>"
      ]
     },
     "metadata": {},
     "output_type": "display_data"
    }
   ],
   "source": [
    "# Plot the true values and predicted values as separate lines\n",
    "plt.plot(y_test, label='True CO2 Emissions')\n",
    "plt.plot(y_pred, label='Predicted CO2 Emissions')\n",
    "plt.xlabel('Data Points')\n",
    "plt.ylabel('CO2 Emissions')\n",
    "plt.title('True vs. Predicted CO2 Emissions')\n",
    "plt.legend()\n",
    "plt.show()"
   ]
  },
  {
   "cell_type": "markdown",
   "id": "bc9a4945-4e96-46bb-9106-2863b04de9e9",
   "metadata": {},
   "source": [
    "Comparing our predictions using the R2 Metric"
   ]
  },
  {
   "cell_type": "code",
   "execution_count": 16,
   "id": "ea564d5e-3b86-468e-9186-d5530a8b28a3",
   "metadata": {},
   "outputs": [
    {
     "name": "stdout",
     "output_type": "stream",
     "text": [
      "R2 Score= -0.34358558502298897\n"
     ]
    }
   ],
   "source": [
    "from sklearn.metrics import r2_score\n",
    "\n",
    "R2 = r2_score(y_test, y_pred)\n",
    "print(\"R2 Score=\",R2 )"
   ]
  },
  {
   "cell_type": "markdown",
   "id": "8c5836f2-2711-4da7-a80b-b967e8370da9",
   "metadata": {},
   "source": [
    "Comparing our predictions using the MSE metric"
   ]
  },
  {
   "cell_type": "code",
   "execution_count": 17,
   "id": "eb55a6d2-969d-47be-917e-aee76e4ea52b",
   "metadata": {},
   "outputs": [
    {
     "name": "stdout",
     "output_type": "stream",
     "text": [
      " Root Mean Squared Error (MSE) = 10260.116356975095\n"
     ]
    }
   ],
   "source": [
    "from sklearn.metrics import mean_squared_error\n",
    "\n",
    "rmse = np.sqrt(mean_squared_error(y_test, y_pred))\n",
    "\n",
    "print(\" Root Mean Squared Error (MSE) =\", rmse)"
   ]
  },
  {
   "cell_type": "code",
   "execution_count": 18,
   "id": "1a37b57b-6bc1-4b79-8b3f-abf7aae16057",
   "metadata": {},
   "outputs": [
    {
     "name": "stdout",
     "output_type": "stream",
     "text": [
      "Mean Absolute error (MAE) = 5205.9455398038535\n"
     ]
    }
   ],
   "source": [
    "from sklearn.metrics import mean_absolute_error\n",
    "\n",
    "mae = mean_absolute_error(y_test, y_pred)\n",
    "print(\"Mean Absolute error (MAE) =\", mae)"
   ]
  },
  {
   "cell_type": "code",
   "execution_count": null,
   "id": "0ed081af-a0c4-4ddd-8e5b-641e4899108e",
   "metadata": {},
   "outputs": [],
   "source": []
  },
  {
   "cell_type": "code",
   "execution_count": 19,
   "id": "37e0a67c-9862-40d2-90d8-a484288ddb44",
   "metadata": {},
   "outputs": [
    {
     "data": {
      "text/plain": [
       "(82, 1)"
      ]
     },
     "execution_count": 19,
     "metadata": {},
     "output_type": "execute_result"
    }
   ],
   "source": [
    "y_pred.shape\n"
   ]
  },
  {
   "cell_type": "code",
   "execution_count": 20,
   "id": "6c4ed034-9800-4f0f-8daf-3b2d33cdaa6f",
   "metadata": {},
   "outputs": [
    {
     "data": {
      "text/plain": [
       "(82,)"
      ]
     },
     "execution_count": 20,
     "metadata": {},
     "output_type": "execute_result"
    }
   ],
   "source": [
    "y_test.shape"
   ]
  },
  {
   "cell_type": "code",
   "execution_count": null,
   "id": "d4542db2-2b70-41bd-afd5-ce6d0468e493",
   "metadata": {},
   "outputs": [],
   "source": []
  },
  {
   "cell_type": "markdown",
   "id": "bfabb8f0-0424-49be-9fb4-c1327dfb18bd",
   "metadata": {
    "jp-MarkdownHeadingCollapsed": true
   },
   "source": [
    "# Visualizing which featue contributed the most to predicting the co2 emission"
   ]
  },
  {
   "cell_type": "code",
   "execution_count": 21,
   "id": "de296b44-9c51-4e2e-a31f-a3335f3f8340",
   "metadata": {},
   "outputs": [
    {
     "name": "stdout",
     "output_type": "stream",
     "text": [
      "Feature: cement_co2, Absolute Weight: [1.1213723]\n",
      "Feature: gas_co2, Absolute Weight: [1.1034086]\n",
      "Feature: coal_co2, Absolute Weight: [0.9779095]\n",
      "Feature: land_use_change_co2, Absolute Weight: [0.5848678]\n",
      "Feature: oil_co2, Absolute Weight: [0.5673048]\n",
      "Feature: flaring_co2, Absolute Weight: [0.5528776]\n",
      "Feature: year, Absolute Weight: [0.48909044]\n",
      "Feature: other_industry_co2, Absolute Weight: [0.4191772]\n"
     ]
    }
   ],
   "source": [
    "# Getting our updated weights of our final layer \n",
    "output_layer_weights = model.layers[-1].get_weights()[0]\n",
    "\n",
    "# Calculating the absolute weights \n",
    "absolute_weights = abs(output_layer_weights)\n",
    "\n",
    "# Putting them together in a list with their names \n",
    "feature_names = list(X.columns)\n",
    "\n",
    "# We will make a dictionary to connect our feature names with their corresponding absolute weight input against co2\n",
    "feature_weights_dict = dict(zip(feature_names, absolute_weights))\n",
    "\n",
    "# Sorting from best to worst \n",
    "sorted_feature_weights = sorted(feature_weights_dict.items(), key=lambda x: x[1], reverse=True)\n",
    "\n",
    "for feature, weight in sorted_feature_weights:\n",
    "    print(f\"Feature: {feature}, Absolute Weight: {weight}\")"
   ]
  },
  {
   "cell_type": "code",
   "execution_count": null,
   "id": "9a2753c3-7538-4362-8b6f-e697468250df",
   "metadata": {},
   "outputs": [],
   "source": []
  },
  {
   "cell_type": "code",
   "execution_count": null,
   "id": "7da4941f-8367-4293-ad41-f76dba5a6811",
   "metadata": {},
   "outputs": [],
   "source": []
  },
  {
   "cell_type": "code",
   "execution_count": null,
   "id": "cc2d87bd-c256-43e2-a9d9-8a2e6edf8e13",
   "metadata": {},
   "outputs": [],
   "source": []
  },
  {
   "cell_type": "code",
   "execution_count": null,
   "id": "0bf354bf-72da-421f-8a51-faafa2900d23",
   "metadata": {},
   "outputs": [],
   "source": []
  },
  {
   "cell_type": "code",
   "execution_count": 22,
   "id": "fed8819c-7aeb-499b-8ea3-f2a4207d71dd",
   "metadata": {},
   "outputs": [
    {
     "data": {
      "text/plain": [
       "\"import matplotlib.pyplot as plt\\n\\n# Assuming you have already predicted the CO2 emissions and stored them in y_pred\\n\\n# Inverse transform y_pred and y_test to bring them back to their original scale\\ny_pred_original = scaler.inverse_transform(y_pred)\\ny_test_original = scaler.inverse_transform(y_test)\\n\\n# Reset the index of the DataFrame to ensure alignment with y_pred_original and y_test_original\\ndf_reset_index = df.reset_index(drop=True)\\n\\n# Create a new DataFrame to hold the last 30% of the years and corresponding y_pred and y_test\\nlast_30_percent = int(len(df) * 0.3+1)\\nresult_df = pd.DataFrame({\\n    'Year': df['year'].iloc[-last_30_percent:],\\n    'Actual CO2 Emissions': y_test_original.flatten(),\\n    'Predicted CO2 Emissions': y_pred_original.flatten()\\n})\\n\\n# Sort the DataFrame by the year\\nresult_df = result_df.sort_values(by='Year')\\n\\n# Plot the relationship between predicted and actual CO2 emissions over the years\\nplt.plot(result_df['Year'], result_df['Actual CO2 Emissions'], label='Actual CO2 Emissions')\\nplt.plot(result_df['Year'], result_df['Predicted CO2 Emissions'], label='Predicted CO2 Emissions')\\nplt.xlabel('Year')\\nplt.ylabel('CO2 Emissions')\\nplt.legend()\\nplt.title('Actual vs. Predicted CO2 Emissions over the Years')\\nplt.show()\""
      ]
     },
     "execution_count": 22,
     "metadata": {},
     "output_type": "execute_result"
    }
   ],
   "source": [
    "'''import matplotlib.pyplot as plt\n",
    "\n",
    "# Assuming you have already predicted the CO2 emissions and stored them in y_pred\n",
    "\n",
    "# Inverse transform y_pred and y_test to bring them back to their original scale\n",
    "y_pred_original = scaler.inverse_transform(y_pred)\n",
    "y_test_original = scaler.inverse_transform(y_test)\n",
    "\n",
    "# Reset the index of the DataFrame to ensure alignment with y_pred_original and y_test_original\n",
    "df_reset_index = df.reset_index(drop=True)\n",
    "\n",
    "# Create a new DataFrame to hold the last 30% of the years and corresponding y_pred and y_test\n",
    "last_30_percent = int(len(df) * 0.3+1)\n",
    "result_df = pd.DataFrame({\n",
    "    'Year': df['year'].iloc[-last_30_percent:],\n",
    "    'Actual CO2 Emissions': y_test_original.flatten(),\n",
    "    'Predicted CO2 Emissions': y_pred_original.flatten()\n",
    "})\n",
    "\n",
    "# Sort the DataFrame by the year\n",
    "result_df = result_df.sort_values(by='Year')\n",
    "\n",
    "# Plot the relationship between predicted and actual CO2 emissions over the years\n",
    "plt.plot(result_df['Year'], result_df['Actual CO2 Emissions'], label='Actual CO2 Emissions')\n",
    "plt.plot(result_df['Year'], result_df['Predicted CO2 Emissions'], label='Predicted CO2 Emissions')\n",
    "plt.xlabel('Year')\n",
    "plt.ylabel('CO2 Emissions')\n",
    "plt.legend()\n",
    "plt.title('Actual vs. Predicted CO2 Emissions over the Years')\n",
    "plt.show()'''"
   ]
  },
  {
   "cell_type": "code",
   "execution_count": 23,
   "id": "fcf8ca09-08d3-4194-9406-0eedcc6e18b7",
   "metadata": {},
   "outputs": [],
   "source": [
    "#import matplotlib.pyplot as plt\n",
    "\n",
    "# Plot the relationship between \"year\" and \"CO2 emissions\"\n",
    "#plt.scatter(df[\"year\"], df[\"co2\"])\n",
    "#plt.xlabel(\"Year\")\n",
    "#plt.ylabel(\"CO2 Emissions\")\n",
    "#plt.title(\"CO2 Emissions over Time\")\n",
    "#plt.show()"
   ]
  },
  {
   "cell_type": "code",
   "execution_count": null,
   "id": "6260d9b6-b47c-4838-b00c-4895ce737340",
   "metadata": {},
   "outputs": [],
   "source": []
  },
  {
   "cell_type": "code",
   "execution_count": null,
   "id": "b903f6c0-3f09-4095-bb86-b70c287ad8a9",
   "metadata": {},
   "outputs": [],
   "source": []
  },
  {
   "cell_type": "code",
   "execution_count": null,
   "id": "fd18da12-9801-412d-92f1-979d78d51ab9",
   "metadata": {},
   "outputs": [],
   "source": []
  },
  {
   "cell_type": "code",
   "execution_count": 24,
   "id": "e9d0b6fd-c08d-437f-8169-3cfc9e10a54c",
   "metadata": {},
   "outputs": [
    {
     "data": {
      "text/plain": [
       "'from tensorflow.keras.callbacks import Callback\\n\\nclass CustomMSECallback(Callback):\\n    def on_epoch_end(self, epoch, logs=None):\\n        mse = logs[\\'val_loss\\']  # Validation loss corresponds to MSE\\n        print(f\"Epoch {epoch+1}: Average MSE = {mse:.4f}\")\\n\\n# Define the input size, hidden size, and output size\\ninput_size = len(X_train.columns)  # Replace this with the actual number of input features\\nhidden_size = 64  # Number of neurons in the hidden layer\\noutput_size = 1   # Number of output units (in this case, predicting CO2 emissions as a continuous value)\\n\\n# Create the neural network model\\nmodel = Sequential([\\n    Dense(hidden_size, input_shape=(input_size,), activation=\\'relu\\'),\\n    Dense(output_size)\\n])\\n\\n# Compile the model\\noptimizer = tf.keras.optimizers.Adam(learning_rate=0.001)\\nmodel.compile(loss=\\'mean_squared_error\\', optimizer=optimizer)\\n\\n# Create the custom callback\\ncustom_callback = CustomMSECallback()\\n\\n# Train the model with the custom callback\\nnum_epochs = 100\\nbatch_size = 64\\nhistory = model.fit(X_train.values, y_train.values, epochs=num_epochs, batch_size=batch_size, validation_split=0.2, callbacks=[custom_callback])\\n\\n# Evaluate the model on the test data\\ntest_loss = model.evaluate(X_test.values, y_test.values)\\nprint(f\"Average Test Loss: {test_loss:.4f}\")'"
      ]
     },
     "execution_count": 24,
     "metadata": {},
     "output_type": "execute_result"
    }
   ],
   "source": [
    "'''from tensorflow.keras.callbacks import Callback\n",
    "\n",
    "class CustomMSECallback(Callback):\n",
    "    def on_epoch_end(self, epoch, logs=None):\n",
    "        mse = logs['val_loss']  # Validation loss corresponds to MSE\n",
    "        print(f\"Epoch {epoch+1}: Average MSE = {mse:.4f}\")\n",
    "\n",
    "# Define the input size, hidden size, and output size\n",
    "input_size = len(X_train.columns)  # Replace this with the actual number of input features\n",
    "hidden_size = 64  # Number of neurons in the hidden layer\n",
    "output_size = 1   # Number of output units (in this case, predicting CO2 emissions as a continuous value)\n",
    "\n",
    "# Create the neural network model\n",
    "model = Sequential([\n",
    "    Dense(hidden_size, input_shape=(input_size,), activation='relu'),\n",
    "    Dense(output_size)\n",
    "])\n",
    "\n",
    "# Compile the model\n",
    "optimizer = tf.keras.optimizers.Adam(learning_rate=0.001)\n",
    "model.compile(loss='mean_squared_error', optimizer=optimizer)\n",
    "\n",
    "# Create the custom callback\n",
    "custom_callback = CustomMSECallback()\n",
    "\n",
    "# Train the model with the custom callback\n",
    "num_epochs = 100\n",
    "batch_size = 64\n",
    "history = model.fit(X_train.values, y_train.values, epochs=num_epochs, batch_size=batch_size, validation_split=0.2, callbacks=[custom_callback])\n",
    "\n",
    "# Evaluate the model on the test data\n",
    "test_loss = model.evaluate(X_test.values, y_test.values)\n",
    "print(f\"Average Test Loss: {test_loss:.4f}\")'''"
   ]
  },
  {
   "cell_type": "code",
   "execution_count": null,
   "id": "537d2c0a-c6da-43c4-9e48-f288a8ae31e2",
   "metadata": {},
   "outputs": [],
   "source": []
  },
  {
   "cell_type": "code",
   "execution_count": null,
   "id": "091978b7-fc28-47df-b7cb-9e8c3934e25c",
   "metadata": {},
   "outputs": [],
   "source": []
  }
 ],
 "metadata": {
  "kernelspec": {
   "display_name": "Python 3 (ipykernel)",
   "language": "python",
   "name": "python3"
  },
  "language_info": {
   "codemirror_mode": {
    "name": "ipython",
    "version": 3
   },
   "file_extension": ".py",
   "mimetype": "text/x-python",
   "name": "python",
   "nbconvert_exporter": "python",
   "pygments_lexer": "ipython3",
   "version": "3.11.3"
  }
 },
 "nbformat": 4,
 "nbformat_minor": 5
}
