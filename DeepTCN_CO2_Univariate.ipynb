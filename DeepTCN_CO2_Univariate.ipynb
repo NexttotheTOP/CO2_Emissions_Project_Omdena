{
 "cells": [
  {
   "cell_type": "markdown",
   "metadata": {
    "id": "pW3T4AoC7bJU"
   },
   "source": [
    "# DeepTCN Model For TimeSeries Forecasting Univariate series (co2)"
   ]
  },
  {
   "cell_type": "markdown",
   "metadata": {
    "id": "1ukYMhHXMFj9"
   },
   "source": [
    "https://github.com/jeffheaton/t81_558_deep_learning/blob/master/t81_558_class_10_5_keras_transformers.ipynb\n",
    "\n",
    "https://keras.io/examples/timeseries/"
   ]
  },
  {
   "cell_type": "markdown",
   "metadata": {
    "id": "_QA2gkAI7yqR",
    "jp-MarkdownHeadingCollapsed": true,
    "tags": []
   },
   "source": [
    "# Libraries"
   ]
  },
  {
   "cell_type": "code",
   "execution_count": 1,
   "metadata": {
    "id": "IezRVqfF7X8G"
   },
   "outputs": [],
   "source": [
    "#!pip install optuna"
   ]
  },
  {
   "cell_type": "code",
   "execution_count": 1,
   "metadata": {
    "colab": {
     "base_uri": "https://localhost:8080/"
    },
    "id": "Nh7_9uwtHn9j",
    "outputId": "8103551c-4f4c-4a62-c27b-3450c49eb87d"
   },
   "outputs": [
    {
     "ename": "ModuleNotFoundError",
     "evalue": "No module named 'optuna'",
     "output_type": "error",
     "traceback": [
      "\u001b[0;31m---------------------------------------------------------------------------\u001b[0m",
      "\u001b[0;31mModuleNotFoundError\u001b[0m                       Traceback (most recent call last)",
      "Cell \u001b[0;32mIn[1], line 7\u001b[0m\n\u001b[1;32m      5\u001b[0m \u001b[38;5;28;01mimport\u001b[39;00m \u001b[38;5;21;01mtorch\u001b[39;00m\u001b[38;5;21;01m.\u001b[39;00m\u001b[38;5;21;01moptim\u001b[39;00m \u001b[38;5;28;01mas\u001b[39;00m \u001b[38;5;21;01moptim\u001b[39;00m\n\u001b[1;32m      6\u001b[0m \u001b[38;5;28;01mfrom\u001b[39;00m \u001b[38;5;21;01msklearn\u001b[39;00m\u001b[38;5;21;01m.\u001b[39;00m\u001b[38;5;21;01mmetrics\u001b[39;00m \u001b[38;5;28;01mimport\u001b[39;00m mean_absolute_error, mean_squared_error, r2_score, mean_absolute_percentage_error\n\u001b[0;32m----> 7\u001b[0m \u001b[38;5;28;01mimport\u001b[39;00m \u001b[38;5;21;01moptuna\u001b[39;00m\n\u001b[1;32m      8\u001b[0m \u001b[38;5;28;01mimport\u001b[39;00m \u001b[38;5;21;01mmatplotlib\u001b[39;00m\u001b[38;5;21;01m.\u001b[39;00m\u001b[38;5;21;01mpyplot\u001b[39;00m \u001b[38;5;28;01mas\u001b[39;00m \u001b[38;5;21;01mplt\u001b[39;00m\n\u001b[1;32m      9\u001b[0m \u001b[38;5;28;01mimport\u001b[39;00m \u001b[38;5;21;01mos\u001b[39;00m\n",
      "\u001b[0;31mModuleNotFoundError\u001b[0m: No module named 'optuna'"
     ]
    }
   ],
   "source": [
    "import pandas as pd\n",
    "import numpy as np\n",
    "import torch\n",
    "import torch.nn as nn\n",
    "import torch.optim as optim\n",
    "from sklearn.metrics import mean_absolute_error, mean_squared_error, r2_score, mean_absolute_percentage_error\n",
    "import optuna\n",
    "import matplotlib.pyplot as plt\n",
    "import os\n",
    "from keras.models import load_model\n",
    "#%tensorflow_version 2.x"
   ]
  },
  {
   "cell_type": "markdown",
   "metadata": {
    "id": "bFmhe3p171U-",
    "jp-MarkdownHeadingCollapsed": true
   },
   "source": [
    "# Data"
   ]
  },
  {
   "cell_type": "code",
   "execution_count": 3,
   "metadata": {
    "colab": {
     "base_uri": "https://localhost:8080/",
     "height": 795
    },
    "id": "B2HbOIMdHRFf",
    "outputId": "66102f85-bea9-4d0e-98f6-661f355c21a3"
   },
   "outputs": [
    {
     "data": {
      "text/html": [
       "<div>\n",
       "<style scoped>\n",
       "    .dataframe tbody tr th:only-of-type {\n",
       "        vertical-align: middle;\n",
       "    }\n",
       "\n",
       "    .dataframe tbody tr th {\n",
       "        vertical-align: top;\n",
       "    }\n",
       "\n",
       "    .dataframe thead th {\n",
       "        text-align: right;\n",
       "    }\n",
       "</style>\n",
       "<table border=\"1\" class=\"dataframe\">\n",
       "  <thead>\n",
       "    <tr style=\"text-align: right;\">\n",
       "      <th></th>\n",
       "      <th>cement_co2</th>\n",
       "      <th>co2</th>\n",
       "      <th>coal_co2</th>\n",
       "      <th>flaring_co2</th>\n",
       "      <th>gas_co2</th>\n",
       "      <th>land_use_change_co2</th>\n",
       "      <th>oil_co2</th>\n",
       "      <th>other_industry_co2</th>\n",
       "    </tr>\n",
       "    <tr>\n",
       "      <th>year</th>\n",
       "      <th></th>\n",
       "      <th></th>\n",
       "      <th></th>\n",
       "      <th></th>\n",
       "      <th></th>\n",
       "      <th></th>\n",
       "      <th></th>\n",
       "      <th></th>\n",
       "    </tr>\n",
       "  </thead>\n",
       "  <tbody>\n",
       "    <tr>\n",
       "      <th>2017-01-01</th>\n",
       "      <td>1507.923</td>\n",
       "      <td>36096.7380</td>\n",
       "      <td>14506.974</td>\n",
       "      <td>391.992</td>\n",
       "      <td>7144.928</td>\n",
       "      <td>4331.947</td>\n",
       "      <td>12242.628</td>\n",
       "      <td>302.294</td>\n",
       "    </tr>\n",
       "    <tr>\n",
       "      <th>2018-01-01</th>\n",
       "      <td>1569.218</td>\n",
       "      <td>36826.5080</td>\n",
       "      <td>14746.831</td>\n",
       "      <td>412.116</td>\n",
       "      <td>7529.847</td>\n",
       "      <td>4181.356</td>\n",
       "      <td>12266.017</td>\n",
       "      <td>302.479</td>\n",
       "    </tr>\n",
       "    <tr>\n",
       "      <th>2019-01-01</th>\n",
       "      <td>1617.507</td>\n",
       "      <td>37082.5590</td>\n",
       "      <td>14725.978</td>\n",
       "      <td>439.254</td>\n",
       "      <td>7647.528</td>\n",
       "      <td>4557.283</td>\n",
       "      <td>12345.653</td>\n",
       "      <td>306.639</td>\n",
       "    </tr>\n",
       "    <tr>\n",
       "      <th>2020-01-01</th>\n",
       "      <td>1637.537</td>\n",
       "      <td>37103.2055</td>\n",
       "      <td>14174.564</td>\n",
       "      <td>407.584</td>\n",
       "      <td>7556.290</td>\n",
       "      <td>4057.758</td>\n",
       "      <td>11191.809</td>\n",
       "      <td>296.302</td>\n",
       "    </tr>\n",
       "    <tr>\n",
       "      <th>2021-01-01</th>\n",
       "      <td>1672.592</td>\n",
       "      <td>37123.8520</td>\n",
       "      <td>14979.598</td>\n",
       "      <td>416.526</td>\n",
       "      <td>7921.830</td>\n",
       "      <td>3939.044</td>\n",
       "      <td>11837.159</td>\n",
       "      <td>296.146</td>\n",
       "    </tr>\n",
       "  </tbody>\n",
       "</table>\n",
       "</div>"
      ],
      "text/plain": [
       "            cement_co2         co2   coal_co2  flaring_co2   gas_co2  \\\n",
       "year                                                                   \n",
       "2017-01-01    1507.923  36096.7380  14506.974      391.992  7144.928   \n",
       "2018-01-01    1569.218  36826.5080  14746.831      412.116  7529.847   \n",
       "2019-01-01    1617.507  37082.5590  14725.978      439.254  7647.528   \n",
       "2020-01-01    1637.537  37103.2055  14174.564      407.584  7556.290   \n",
       "2021-01-01    1672.592  37123.8520  14979.598      416.526  7921.830   \n",
       "\n",
       "            land_use_change_co2    oil_co2  other_industry_co2  \n",
       "year                                                            \n",
       "2017-01-01             4331.947  12242.628             302.294  \n",
       "2018-01-01             4181.356  12266.017             302.479  \n",
       "2019-01-01             4557.283  12345.653             306.639  \n",
       "2020-01-01             4057.758  11191.809             296.302  \n",
       "2021-01-01             3939.044  11837.159             296.146  "
      ]
     },
     "execution_count": 3,
     "metadata": {},
     "output_type": "execute_result"
    }
   ],
   "source": [
    "df = pd.read_csv('DataSets /WORLD-OWID-Features-Yearly')\n",
    "df.set_index('year', inplace=True)\n",
    "df.tail(5)\n"
   ]
  },
  {
   "cell_type": "markdown",
   "metadata": {},
   "source": [
    "As we can see tha value of 2020 is an outlier compared to the other years because of corona... We will change this value with the mean of 2019 and 2021 combined. This way our future predictions/foreastings will be more accurate. "
   ]
  },
  {
   "cell_type": "code",
   "execution_count": 4,
   "metadata": {},
   "outputs": [],
   "source": [
    "#mean_co2 = df.loc[[2019, 2021], 'co2'].mean()\n",
    "#df.loc[2020, 'co2'] = mean_co2\n",
    "\n",
    "#df.tail(3)\n",
    "\n",
    "   ##   Already done when converting Yearly to Monthly   !!!  "
   ]
  },
  {
   "cell_type": "markdown",
   "metadata": {
    "id": "0JRtDG_sdx7D",
    "jp-MarkdownHeadingCollapsed": true
   },
   "source": [
    "# Defining our train, test & val set"
   ]
  },
  {
   "cell_type": "code",
   "execution_count": 5,
   "metadata": {
    "colab": {
     "base_uri": "https://localhost:8080/"
    },
    "id": "LPO_kbNYH-uI",
    "outputId": "c72521fc-8f9e-445f-ee66-8870d2c5fa53"
   },
   "outputs": [
    {
     "name": "stdout",
     "output_type": "stream",
     "text": [
      "Train set:\n",
      "1880-01-01 to 2000-01-01\n",
      "Test set:\n",
      "2001-01-01 to 2011-01-01\n",
      "Validation set:\n",
      "2012-01-01 to 2021-01-01\n"
     ]
    }
   ],
   "source": [
    "train_set = df[(df.index <= '2000-01-01')]\n",
    "test_set = df[(df.index > '2000-01-01') & (df.index <= '2011-01-01')]\n",
    "validate_set = df[df.index > '2011-01-01']\n",
    "\n",
    "print(\"Train set:\")\n",
    "print(train_set.index.min(), \"to\", train_set.index.max())\n",
    "\n",
    "print(\"Test set:\")\n",
    "print(test_set.index.min(), \"to\", test_set.index.max())\n",
    "\n",
    "print(\"Validation set:\")\n",
    "print(validate_set.index.min(), \"to\", validate_set.index.max())"
   ]
  },
  {
   "cell_type": "code",
   "execution_count": 6,
   "metadata": {
    "id": "jL-XpRpCLbFr"
   },
   "outputs": [],
   "source": [
    "train_data = train_set['co2'].tolist()\n",
    "test_data = test_set['co2'].tolist()\n",
    "val_data = validate_set['co2'].tolist()"
   ]
  },
  {
   "cell_type": "markdown",
   "metadata": {
    "id": "ZRwUSHvpdp0O"
   },
   "source": [
    "# defining our Window/LookBack length\n",
    "\n",
    "\n",
    "\n"
   ]
  },
  {
   "cell_type": "code",
   "execution_count": 7,
   "metadata": {
    "colab": {
     "base_uri": "https://localhost:8080/"
    },
    "id": "wmJgDgpqIsT6",
    "outputId": "96f9f1d4-fd0f-47bc-e4b9-c9fad2517cf6"
   },
   "outputs": [
    {
     "name": "stdout",
     "output_type": "stream",
     "text": [
      "Shape of training set: (116, 5, 1)\n",
      "Shape of test set: (6, 5, 1)\n",
      "Shape of val set: (5, 5, 1)\n"
     ]
    }
   ],
   "source": [
    "def to_sequences(seq_size, obs):\n",
    "\n",
    "  x = []\n",
    "  y = []\n",
    "\n",
    "  for i in range(len(obs)-SEQUENCE_SIZE):\n",
    "    #print(i)\n",
    "    window = obs[i:(i+SEQUENCE_SIZE)]\n",
    "    after_window = obs[i+SEQUENCE_SIZE]\n",
    "    window = [[x] for x in window]\n",
    "    #print(\"{} - {}\".format(window,after_window))\n",
    "    x.append(window)\n",
    "    y.append(after_window)\n",
    "\n",
    "  return np.array(x),np.array(y)\n",
    "\n",
    "SEQUENCE_SIZE = 5\n",
    "x_train,y_train = to_sequences(SEQUENCE_SIZE, train_data)\n",
    "x_test,y_test = to_sequences(SEQUENCE_SIZE, test_data)\n",
    "x_val, y_val = to_sequences(SEQUENCE_SIZE, val_data)\n",
    "\n",
    "print(\"Shape of training set: {}\".format(x_train.shape))\n",
    "print(\"Shape of test set: {}\".format(x_test.shape))\n",
    "print(\"Shape of val set: {}\".format(x_val.shape))"
   ]
  },
  {
   "cell_type": "markdown",
   "metadata": {
    "id": "Tgq1ukssXFX9",
    "jp-MarkdownHeadingCollapsed": true
   },
   "source": [
    "# Scaling Data"
   ]
  },
  {
   "cell_type": "code",
   "execution_count": 8,
   "metadata": {
    "colab": {
     "base_uri": "https://localhost:8080/",
     "height": 1000
    },
    "id": "umZ3MBVsL-IN",
    "outputId": "5fcc635d-58c8-42f9-9a09-b43c87dc5b8a"
   },
   "outputs": [
    {
     "data": {
      "text/plain": [
       "'train_data = np.log(train_data)\\ntest_data = np.log(test_data)\\nval_data = np.log(val_data)'"
      ]
     },
     "execution_count": 8,
     "metadata": {},
     "output_type": "execute_result"
    }
   ],
   "source": [
    "'''train_data = np.log(train_data)\n",
    "test_data = np.log(test_data)\n",
    "val_data = np.log(val_data)'''"
   ]
  },
  {
   "cell_type": "code",
   "execution_count": 9,
   "metadata": {
    "colab": {
     "base_uri": "https://localhost:8080/",
     "height": 1000
    },
    "id": "U4MAYRs0XEIs",
    "outputId": "b70d20f2-301c-49f6-ca11-e28e4c353021"
   },
   "outputs": [
    {
     "data": {
      "text/plain": [
       "'from sklearn.preprocessing import StandardScaler\\n\\n# Maak een scaler voor de kenmerken (X)\\nfeature_scaler = StandardScaler()\\nX_train_scaled = feature_scaler.fit_transform(x_train)\\nX_test_scaled = feature_scaler.transform(x_test)\\nX_val_scaled = feature_scaler.transform(x_val)\\n\\n# Maak een scaler voor de doelvariabelen (y)\\ntarget_scaler = StandardScaler()\\ny_train_scaled = target_scaler.fit_transform(y_train)\\ny_test_scaled = target_scaler.transform(y_test)\\ny_val_scaled = target_scaler.transform(y_val)'"
      ]
     },
     "execution_count": 9,
     "metadata": {},
     "output_type": "execute_result"
    }
   ],
   "source": [
    "'''from sklearn.preprocessing import StandardScaler\n",
    "\n",
    "# Maak een scaler voor de kenmerken (X)\n",
    "feature_scaler = StandardScaler()\n",
    "X_train_scaled = feature_scaler.fit_transform(x_train)\n",
    "X_test_scaled = feature_scaler.transform(x_test)\n",
    "X_val_scaled = feature_scaler.transform(x_val)\n",
    "\n",
    "# Maak een scaler voor de doelvariabelen (y)\n",
    "target_scaler = StandardScaler()\n",
    "y_train_scaled = target_scaler.fit_transform(y_train)\n",
    "y_test_scaled = target_scaler.transform(y_test)\n",
    "y_val_scaled = target_scaler.transform(y_val)'''\n"
   ]
  },
  {
   "cell_type": "code",
   "execution_count": null,
   "metadata": {
    "id": "texlTtkJXEF9"
   },
   "outputs": [],
   "source": []
  },
  {
   "cell_type": "markdown",
   "metadata": {
    "id": "huSns1vJdlkO",
    "jp-MarkdownHeadingCollapsed": true
   },
   "source": [
    "# Metrics Helper Function"
   ]
  },
  {
   "cell_type": "code",
   "execution_count": 10,
   "metadata": {
    "id": "f8AyGY9YU6CW"
   },
   "outputs": [],
   "source": [
    "def print_metrics(pred, y_test, model_name):\n",
    "    mae_ = mean_absolute_error(pred, y_test)\n",
    "    rmse_ = np.sqrt(mean_squared_error(pred, y_test))\n",
    "    mape_ = mean_absolute_percentage_error(pred, y_test)\n",
    "    r2_score_ = r2_score(pred, y_test)\n",
    "\n",
    "    dict_ = {\n",
    "        'MAE': mae_,\n",
    "        'RMSE': rmse_,\n",
    "        'MAPE': mape_,\n",
    "        'R2': r2_score_\n",
    "    }\n",
    "\n",
    "    metrics = pd.DataFrame(dict_, index=[model_name])\n",
    "\n",
    "    return metrics.round(decimals=2)"
   ]
  },
  {
   "cell_type": "code",
   "execution_count": null,
   "metadata": {
    "id": "q1NvMXr9U6Hc"
   },
   "outputs": [],
   "source": []
  },
  {
   "cell_type": "markdown",
   "metadata": {
    "id": "keZMdH3Xfqcl"
   },
   "source": [
    "# Building the DeepTCN Model"
   ]
  },
  {
   "cell_type": "code",
   "execution_count": 44,
   "metadata": {},
   "outputs": [],
   "source": [
    "# Convert data to PyTorch tensors\n",
    "x_train_tensor = torch.tensor(x_train, dtype=torch.float32)\n",
    "y_train_tensor = torch.tensor(y_train, dtype=torch.float32).view(-1, 1)  # Reshape target\n",
    "x_val_tensor = torch.tensor(x_val, dtype=torch.float32)\n",
    "y_val_tensor = torch.tensor(y_val, dtype=torch.float32).view(-1, 1)  # Reshape target\n",
    "x_test_tensor = torch.tensor(x_test, dtype=torch.float32)\n",
    "y_test_tensor = torch.tensor(y_test, dtype=torch.float32).view(-1, 1)"
   ]
  },
  {
   "cell_type": "code",
   "execution_count": 25,
   "metadata": {
    "id": "6Rj02PdYJjgM"
   },
   "outputs": [],
   "source": [
    "class DeepTCN(nn.Module):\n",
    "    def __init__(self, input_size, output_size, num_layers, num_filters, kernel_size, dropout_rate):\n",
    "        super(DeepTCN, self).__init__()\n",
    "\n",
    "        self.input_size = input_size\n",
    "        self.output_size = output_size\n",
    "        self.num_layers = num_layers\n",
    "        self.num_filters = num_filters\n",
    "        self.kernel_size = kernel_size\n",
    "        self.dropout_rate = dropout_rate\n",
    "        \n",
    "        self.conv_layers = nn.ModuleList([\n",
    "            nn.Conv1d(in_channels=1 if i == 0 else num_filters,\n",
    "                      out_channels=num_filters,\n",
    "                      kernel_size=kernel_size,\n",
    "                      padding=kernel_size // 2) for i in range(num_layers)\n",
    "        ])\n",
    "        \n",
    "        self.relu = nn.ReLU()\n",
    "        self.dropout = nn.Dropout(dropout_rate)\n",
    "        self.linear = nn.Linear(num_filters, output_size)\n",
    "        \n",
    "    def forward(self, x):\n",
    "        # Input shape: (batch_size, sequence_length, input_size)\n",
    "        batch_size, sequence_length, _ = x.size()\n",
    "        \n",
    "        # Reshape input for 1D convolution: (batch_size, input_size, sequence_length)\n",
    "        x = x.permute(0, 2, 1)\n",
    "        \n",
    "        # Apply convolutional layers\n",
    "        for conv_layer in self.conv_layers:\n",
    "            x = conv_layer(x)\n",
    "            x = self.relu(x)\n",
    "            x = self.dropout(x)\n",
    "        \n",
    "        # Global average pooling: (batch_size, num_filters)\n",
    "        x = nn.functional.adaptive_avg_pool1d(x, output_size=1)\n",
    "        x = x.view(batch_size, self.num_filters)\n",
    "        \n",
    "        # Fully connected layer\n",
    "        output = self.linear(x)\n",
    "        \n",
    "        return output"
   ]
  },
  {
   "cell_type": "code",
   "execution_count": 40,
   "metadata": {
    "id": "qlXHxLR-JjiK"
   },
   "outputs": [],
   "source": [
    "def objective(trial):\n",
    "    # Define hyperparameters to tune\n",
    "    input_size = trial.suggest_int(\"input_size\", 32, 128)\n",
    "    num_layers = trial.suggest_int(\"num_layers\", 1, 4)\n",
    "    num_filters = trial.suggest_int(\"num_filters\", 16, 64)\n",
    "    kernel_size = trial.suggest_int(\"kernel_size\", 3, 7)\n",
    "    dropout_rate = trial.suggest_float(\"dropout_rate\", 0.1, 0.5)\n",
    "    num_epochs = trial.suggest_int(\"num_epochs\", 10, 50)  # Add epochs as a hyperparameter\n",
    "\n",
    "    # Create and train the model with the suggested hyperparameters\n",
    "    model = DeepTCN(input_size, output_size, num_layers, num_filters, kernel_size, dropout_rate)\n",
    "    optimizer = torch.optim.Adam(model.parameters(), lr=0.001)\n",
    "    criterion = torch.nn.L1Loss()\n",
    "\n",
    "    for epoch in range(num_epochs):\n",
    "        model.train()\n",
    "        optimizer.zero_grad()\n",
    "        outputs = model(x_train_tensor)\n",
    "        loss = criterion(outputs, y_train_tensor)\n",
    "        loss.backward()\n",
    "        optimizer.step()\n",
    "\n",
    "    # Calculate validation loss (or any other metric you want to optimize)\n",
    "    model.eval()\n",
    "    val_outputs = model(x_val_tensor)\n",
    "    val_loss = criterion(val_outputs, y_val_tensor)\n",
    "\n",
    "    return val_loss.item()"
   ]
  },
  {
   "cell_type": "code",
   "execution_count": 41,
   "metadata": {
    "scrolled": true
   },
   "outputs": [
    {
     "name": "stderr",
     "output_type": "stream",
     "text": [
      "[I 2023-08-26 23:47:45,254] A new study created in memory with name: no-name-1a387ba6-f604-41cb-906a-933147d90503\n",
      "[I 2023-08-26 23:47:45,646] Trial 0 finished with value: 11154.0576171875 and parameters: {'input_size': 89, 'num_layers': 4, 'num_filters': 55, 'kernel_size': 5, 'dropout_rate': 0.22752331956247238, 'num_epochs': 10}. Best is trial 0 with value: 11154.0576171875.\n",
      "[I 2023-08-26 23:47:46,723] Trial 1 finished with value: 1554.2945556640625 and parameters: {'input_size': 43, 'num_layers': 4, 'num_filters': 49, 'kernel_size': 4, 'dropout_rate': 0.39161377073356884, 'num_epochs': 28}. Best is trial 1 with value: 1554.2945556640625.\n",
      "[I 2023-08-26 23:47:48,146] Trial 2 finished with value: 1440.596923828125 and parameters: {'input_size': 123, 'num_layers': 4, 'num_filters': 56, 'kernel_size': 7, 'dropout_rate': 0.4989790790704912, 'num_epochs': 33}. Best is trial 2 with value: 1440.596923828125.\n",
      "[I 2023-08-26 23:47:49,184] Trial 3 finished with value: 1097.28515625 and parameters: {'input_size': 110, 'num_layers': 3, 'num_filters': 25, 'kernel_size': 6, 'dropout_rate': 0.4002785744276116, 'num_epochs': 44}. Best is trial 3 with value: 1097.28515625.\n",
      "[I 2023-08-26 23:47:50,254] Trial 4 finished with value: 1732.2210693359375 and parameters: {'input_size': 62, 'num_layers': 4, 'num_filters': 31, 'kernel_size': 7, 'dropout_rate': 0.39232501599378156, 'num_epochs': 31}. Best is trial 3 with value: 1097.28515625.\n",
      "[I 2023-08-26 23:47:50,415] Trial 5 finished with value: 12520.2890625 and parameters: {'input_size': 127, 'num_layers': 1, 'num_filters': 42, 'kernel_size': 5, 'dropout_rate': 0.28678218785358844, 'num_epochs': 50}. Best is trial 3 with value: 1097.28515625.\n",
      "[I 2023-08-26 23:47:51,923] Trial 6 finished with value: 866.4812622070312 and parameters: {'input_size': 40, 'num_layers': 4, 'num_filters': 20, 'kernel_size': 7, 'dropout_rate': 0.4693521380948621, 'num_epochs': 49}. Best is trial 6 with value: 866.4812622070312.\n",
      "[I 2023-08-26 23:47:53,885] Trial 7 finished with value: 351.6195373535156 and parameters: {'input_size': 127, 'num_layers': 4, 'num_filters': 62, 'kernel_size': 4, 'dropout_rate': 0.1849448681576527, 'num_epochs': 48}. Best is trial 7 with value: 351.6195373535156.\n",
      "[I 2023-08-26 23:47:54,419] Trial 8 finished with value: 4192.08056640625 and parameters: {'input_size': 72, 'num_layers': 2, 'num_filters': 46, 'kernel_size': 7, 'dropout_rate': 0.3218950775444517, 'num_epochs': 32}. Best is trial 7 with value: 351.6195373535156.\n",
      "[I 2023-08-26 23:47:54,822] Trial 9 finished with value: 7961.76318359375 and parameters: {'input_size': 112, 'num_layers': 2, 'num_filters': 39, 'kernel_size': 5, 'dropout_rate': 0.4486488078121136, 'num_epochs': 28}. Best is trial 7 with value: 351.6195373535156.\n"
     ]
    }
   ],
   "source": [
    "study = optuna.create_study(direction=\"minimize\")\n",
    "\n",
    "# Run optimization\n",
    "study.optimize(objective, n_trials=10)"
   ]
  },
  {
   "cell_type": "code",
   "execution_count": 42,
   "metadata": {},
   "outputs": [
    {
     "name": "stdout",
     "output_type": "stream",
     "text": [
      "Best Parameters: {'input_size': 127, 'num_layers': 4, 'num_filters': 62, 'kernel_size': 4, 'dropout_rate': 0.1849448681576527, 'num_epochs': 48}\n",
      "Best Value (MAE): 351.6195373535156\n"
     ]
    }
   ],
   "source": [
    "best_params = study.best_params\n",
    "best_value = study.best_value\n",
    "\n",
    "print(\"Best Parameters:\", best_params)\n",
    "print(\"Best Value (MAE):\", best_value)"
   ]
  },
  {
   "cell_type": "code",
   "execution_count": 45,
   "metadata": {
    "scrolled": true
   },
   "outputs": [
    {
     "name": "stdout",
     "output_type": "stream",
     "text": [
      "Epoch [1/48], Loss: 8855.8848\n",
      "Epoch [2/48], Loss: 8559.1123\n",
      "Epoch [3/48], Loss: 8179.4326\n",
      "Epoch [4/48], Loss: 7664.7061\n",
      "Epoch [5/48], Loss: 6936.8721\n",
      "Epoch [6/48], Loss: 5895.2100\n",
      "Epoch [7/48], Loss: 4500.8936\n",
      "Epoch [8/48], Loss: 2528.9585\n",
      "Epoch [9/48], Loss: 692.4605\n",
      "Epoch [10/48], Loss: 3263.7192\n",
      "Epoch [11/48], Loss: 3862.1802\n",
      "Epoch [12/48], Loss: 2799.7568\n",
      "Epoch [13/48], Loss: 1741.1038\n",
      "Epoch [14/48], Loss: 735.2114\n",
      "Epoch [15/48], Loss: 1526.2125\n",
      "Epoch [16/48], Loss: 2060.6697\n",
      "Epoch [17/48], Loss: 2246.4697\n",
      "Epoch [18/48], Loss: 2256.2422\n",
      "Epoch [19/48], Loss: 1760.8329\n",
      "Epoch [20/48], Loss: 1199.2906\n",
      "Epoch [21/48], Loss: 790.4301\n",
      "Epoch [22/48], Loss: 874.0776\n",
      "Epoch [23/48], Loss: 1362.5426\n",
      "Epoch [24/48], Loss: 1537.7672\n",
      "Epoch [25/48], Loss: 1363.9313\n",
      "Epoch [26/48], Loss: 880.7621\n",
      "Epoch [27/48], Loss: 853.4594\n",
      "Epoch [28/48], Loss: 996.8088\n",
      "Epoch [29/48], Loss: 1190.8425\n",
      "Epoch [30/48], Loss: 1122.2355\n",
      "Epoch [31/48], Loss: 1021.5912\n",
      "Epoch [32/48], Loss: 759.0006\n",
      "Epoch [33/48], Loss: 631.1142\n",
      "Epoch [34/48], Loss: 913.4325\n",
      "Epoch [35/48], Loss: 883.7302\n",
      "Epoch [36/48], Loss: 865.1837\n",
      "Epoch [37/48], Loss: 757.0536\n",
      "Epoch [38/48], Loss: 757.8642\n",
      "Epoch [39/48], Loss: 704.8604\n",
      "Epoch [40/48], Loss: 796.0216\n",
      "Epoch [41/48], Loss: 830.3016\n",
      "Epoch [42/48], Loss: 737.3002\n",
      "Epoch [43/48], Loss: 771.0877\n",
      "Epoch [44/48], Loss: 736.6899\n",
      "Epoch [45/48], Loss: 613.8986\n",
      "Epoch [46/48], Loss: 773.2300\n",
      "Epoch [47/48], Loss: 736.5085\n",
      "Epoch [48/48], Loss: 716.0689\n",
      "                     MAE         RMSE  MAPE    R2\n",
      "Test Metrics  936.849976  1002.429993  0.03  0.58\n"
     ]
    }
   ],
   "source": [
    "# Extract the best hyperparameters\n",
    "best_input_size = best_params[\"input_size\"]\n",
    "best_num_layers = best_params[\"num_layers\"]\n",
    "best_num_filters = best_params[\"num_filters\"]\n",
    "best_kernel_size = best_params[\"kernel_size\"]\n",
    "best_dropout_rate = best_params[\"dropout_rate\"]\n",
    "best_num_epochs = best_params[\"num_epochs\"]\n",
    "\n",
    "# Create the model using the best hyperparameters\n",
    "best_model = DeepTCN(best_input_size, output_size, best_num_layers, best_num_filters, best_kernel_size, best_dropout_rate)\n",
    "\n",
    "# Define the optimizer and loss function\n",
    "optimizer = torch.optim.Adam(best_model.parameters(), lr=0.001)\n",
    "criterion = torch.nn.L1Loss()\n",
    "\n",
    "# Training loop\n",
    "for epoch in range(best_num_epochs):\n",
    "    best_model.train()\n",
    "    optimizer.zero_grad()\n",
    "    outputs = best_model(x_train_tensor)\n",
    "    loss = criterion(outputs, y_train_tensor)\n",
    "    loss.backward()\n",
    "    optimizer.step()\n",
    "\n",
    "    # Print training progress\n",
    "    print(f\"Epoch [{epoch+1}/{best_num_epochs}], Loss: {loss.item():.4f}\")\n",
    "\n",
    "# After training, you can use the best_model to make predictions and evaluate on the test set\n",
    "best_model.eval()\n",
    "test_outputs = best_model(x_test_tensor)\n",
    "\n",
    "# Calculate and print metrics using the print_metrics function\n",
    "test_metrics = print_metrics(test_outputs.detach().numpy(), y_test_tensor.detach().numpy(), \"Test Metrics\")\n",
    "print(test_metrics)"
   ]
  },
  {
   "cell_type": "code",
   "execution_count": 46,
   "metadata": {},
   "outputs": [
    {
     "name": "stdout",
     "output_type": "stream",
     "text": [
      "                            MAE    RMSE  MAPE    R2\n",
      "Validation Metrics  1134.160034  1166.0  0.03 -6.44\n"
     ]
    }
   ],
   "source": [
    "# Evaluate the best_model on the validation set\n",
    "best_model.eval()\n",
    "val_outputs = best_model(x_val_tensor)\n",
    "\n",
    "# Calculate and print metrics using the print_metrics function for validation set\n",
    "val_metrics = print_metrics(val_outputs.detach().numpy(), y_val_tensor.detach().numpy(), \"Validation Metrics\")\n",
    "print(val_metrics)"
   ]
  },
  {
   "cell_type": "code",
   "execution_count": 49,
   "metadata": {},
   "outputs": [
    {
     "data": {
      "image/png": "[encoded data removed]",
      "text/plain": [
       "<Figure size 1000x600 with 1 Axes>"
      ]
     },
     "metadata": {},
     "output_type": "display_data"
    }
   ],
   "source": [
    "# Convert the validation set predictions and actual values to NumPy arrays\n",
    "val_preds = val_outputs.detach().numpy()\n",
    "val_actual = y_val_tensor.detach().numpy()\n",
    "\n",
    "# Plot the predictions and actual values\n",
    "plt.figure(figsize=(10, 6))\n",
    "plt.plot(val_actual, label='Actual')\n",
    "plt.plot(val_preds, label='Predicted')\n",
    "plt.xlabel('Time')\n",
    "plt.ylabel('Value')\n",
    "plt.title('Validation Set Predictions vs Actual Values')\n",
    "plt.legend()\n",
    "plt.show()"
   ]
  },
  {
   "cell_type": "code",
   "execution_count": 51,
   "metadata": {},
   "outputs": [
    {
     "name": "stdout",
     "output_type": "stream",
     "text": [
      "         Time        Actual     Predicted\n",
      "0  2017-01-01  36096.738281  37438.398438\n",
      "1  2018-01-01  36826.507812  37642.078125\n",
      "2  2019-01-01  37082.558594  37929.234375\n",
      "3  2020-01-01  37103.207031  38264.164062\n",
      "4  2021-01-01  37123.851562  38629.796875\n"
     ]
    }
   ],
   "source": [
    "# Get the time index for the validation set\n",
    "val_time_index = validate_set.index[SEQUENCE_SIZE:]\n",
    "\n",
    "# Create a DataFrame to display the actual values and predictions\n",
    "val_comparison_df = pd.DataFrame({\n",
    "    'Time': val_time_index,\n",
    "    'Actual': val_actual.flatten(),\n",
    "    'Predicted': val_preds.flatten()\n",
    "})\n",
    "\n",
    "# Print the DataFrame\n",
    "print(val_comparison_df)"
   ]
  },
  {
   "cell_type": "code",
   "execution_count": null,
   "metadata": {
    "id": "S5Qbb705Jjjx"
   },
   "outputs": [],
   "source": [
    "def objective(trial):\n",
    "\n",
    "  input_shape = x_train.shape[1:]\n",
    "\n",
    "  head_size = trial.suggest_int(\"head_size\", 64, 184)\n",
    "  num_heads = trial.suggest_int(\"num_heads\", 2, 8)\n",
    "  ff_dim = trial.suggest_int(\"ff_dim\", 6, 12)\n",
    "  num_transformer_blocks = trial.suggest_int(\"num_transformer_blocks\", 3, 7)\n",
    "  mlp_units = [trial.suggest_int(\"mlp_units\", 32, 96)]\n",
    "  mlp_dropout = trial.suggest_float(\"mlp_dropout\", 0.25, 0.35)\n",
    "  dropout = trial.suggest_float(\"dropout\", 0.25, 0.35)\n",
    "  learning_rate = trial.suggest_float(\"learning_rate\", 1e-5, 1e-2)\n",
    "  n_epochs = trial.suggest_int(\"n_epochs\", 8, 64)\n",
    "  #batch_size = trial.suggest_int(\"batch_size\", 16, 128, step=16)\n",
    "\n",
    "  model = build_model(\n",
    "      input_shape,\n",
    "      head_size=head_size,\n",
    "      num_heads=num_heads,\n",
    "      ff_dim=ff_dim,\n",
    "      num_transformer_blocks=num_transformer_blocks,\n",
    "      mlp_units=mlp_units,\n",
    "      mlp_dropout=mlp_dropout,\n",
    "      dropout=dropout,\n",
    "  )\n",
    "\n",
    "  model.compile(\n",
    "      loss=\"mean_absolute_error\",\n",
    "      optimizer=keras.optimizers.legacy.Adam(learning_rate=learning_rate)\n",
    "  )\n",
    "  model.summary()\n",
    "\n",
    "  callbacks = [keras.callbacks.EarlyStopping(patience=10, restore_best_weights=True)]\n",
    "\n",
    "  model.fit(\n",
    "      x_train,\n",
    "      y_train,\n",
    "      validation_split=0.2,\n",
    "      epochs=n_epochs,\n",
    "      batch_size=64,\n",
    "      callbacks=callbacks,\n",
    "  )\n",
    "\n",
    "  loss = model.evaluate(x_test, y_test, verbose=1)\n",
    "  return loss"
   ]
  },
  {
   "cell_type": "code",
   "execution_count": null,
   "metadata": {
    "colab": {
     "base_uri": "https://localhost:8080/"
    },
    "id": "3ijvwuqO7Lmp",
    "outputId": "ac6ea718-0b1f-45df-e5a1-3c5f154df35b",
    "scrolled": true
   },
   "outputs": [],
   "source": [
    "study = optuna.create_study(direction=\"minimize\")\n",
    "study.optimize(objective, n_trials=50)"
   ]
  },
  {
   "cell_type": "markdown",
   "metadata": {
    "id": "nlePrpfKBgtB"
   },
   "source": [
    "# Viewing our Trials"
   ]
  },
  {
   "cell_type": "code",
   "execution_count": null,
   "metadata": {
    "colab": {
     "base_uri": "https://localhost:8080/"
    },
    "id": "xKYq7TBFBAx4",
    "outputId": "bc40acca-e0e5-4b6a-bb67-48c3b7ca6e0f",
    "scrolled": true
   },
   "outputs": [],
   "source": [
    "all_trials = study.trials\n",
    "\n",
    "trial_results = []\n",
    "\n",
    "for trial in all_trials:\n",
    "    trial_params = trial.params\n",
    "    trial_value = trial.value\n",
    "    trial_result = {**trial_params, \"value\": trial_value}\n",
    "    trial_results.append(trial_result)\n",
    "\n",
    "trial_results_df = pd.DataFrame(trial_results)\n",
    "\n",
    "print(trial_results_df)"
   ]
  },
  {
   "cell_type": "markdown",
   "metadata": {
    "id": "QXpOYvXG8vfm"
   },
   "source": [
    "# Retrieving the best parameters from our search and building our model with these"
   ]
  },
  {
   "cell_type": "code",
   "execution_count": null,
   "metadata": {
    "colab": {
     "base_uri": "https://localhost:8080/"
    },
    "id": "ln9Rq8Fg7Ld2",
    "outputId": "82c37d1d-f303-4dfd-b50a-0c8be2d55f6c"
   },
   "outputs": [],
   "source": [
    "best_params = study.best_params\n",
    "best_loss = study.best_value\n",
    "print(f\"Best parameters: {best_params}\")\n",
    "print(f\"Best loss: {best_loss}\")"
   ]
  },
  {
   "cell_type": "code",
   "execution_count": null,
   "metadata": {
    "id": "c39kP3208-qo"
   },
   "outputs": [],
   "source": [
    "best_model = build_model(\n",
    "    input_shape=x_train.shape[1:],\n",
    "    head_size=best_params[\"head_size\"],\n",
    "    num_heads=best_params[\"num_heads\"],\n",
    "    ff_dim=best_params[\"ff_dim\"],\n",
    "    num_transformer_blocks=best_params[\"num_transformer_blocks\"],\n",
    "    mlp_units=[best_params[\"mlp_units\"]],\n",
    "    mlp_dropout=best_params[\"mlp_dropout\"],\n",
    "    dropout=best_params[\"dropout\"],\n",
    ")"
   ]
  },
  {
   "cell_type": "code",
   "execution_count": null,
   "metadata": {
    "id": "yH2uxzJx8-rx"
   },
   "outputs": [],
   "source": [
    "best_model.compile(\n",
    "    loss=\"mean_absolute_error\",\n",
    "    optimizer=keras.optimizers.legacy.Adam(learning_rate=best_params['learning_rate'])\n",
    ")"
   ]
  },
  {
   "cell_type": "code",
   "execution_count": null,
   "metadata": {
    "colab": {
     "base_uri": "https://localhost:8080/"
    },
    "id": "X6DrQx4x9bl-",
    "outputId": "399fa5c5-8951-4045-8eb4-0f3858f1c305",
    "scrolled": true
   },
   "outputs": [],
   "source": [
    "callbacks = [keras.callbacks.EarlyStopping(patience=10, restore_best_weights=True)]\n",
    "\n",
    "best_model.fit(\n",
    "    x_train,\n",
    "    y_train,\n",
    "    epochs=best_params['n_epochs'],\n",
    "    batch_size=128,\n",
    "    validation_split=0.2,\n",
    "    verbose=1,\n",
    "    callbacks=callbacks\n",
    ")"
   ]
  },
  {
   "cell_type": "markdown",
   "metadata": {},
   "source": [
    "# Saving the model and its weights for future usage "
   ]
  },
  {
   "cell_type": "code",
   "execution_count": null,
   "metadata": {
    "scrolled": true
   },
   "outputs": [],
   "source": [
    "save_weights_at = os.path.join(\n",
    "    'Transformers_Best_Models_and_weights',\n",
    "    f'best_model_weightss_{best_loss:.4f}.hdf5'\n",
    ")\n",
    "\n",
    "best_model.save(save_weights_at)"
   ]
  },
  {
   "cell_type": "markdown",
   "metadata": {},
   "source": [
    "# Accessing the saved model of choice "
   ]
  },
  {
   "cell_type": "code",
   "execution_count": null,
   "metadata": {},
   "outputs": [],
   "source": [
    "\n",
    "saved_model_path = 'Transformers_Best_Models_and_weights/best_model_weights_350_val.hdf5'\n",
    "saved_model = load_model(saved_model_path)"
   ]
  },
  {
   "cell_type": "markdown",
   "metadata": {
    "id": "Jcx99VJ_hF-7"
   },
   "source": [
    "# Forecasting Validation on the test set"
   ]
  },
  {
   "cell_type": "code",
   "execution_count": null,
   "metadata": {
    "colab": {
     "base_uri": "https://localhost:8080/",
     "height": 95
    },
    "id": "ZXHjqYH5Jjl-",
    "outputId": "dffd0a67-0d09-4024-d968-bbec2312d0b5"
   },
   "outputs": [],
   "source": [
    "pred = saved_model.predict(x_test)\n",
    "\n",
    "print_metrics(pred, y_test, 'Transformer_Scores')"
   ]
  },
  {
   "cell_type": "code",
   "execution_count": null,
   "metadata": {
    "colab": {
     "base_uri": "https://localhost:8080/"
    },
    "id": "lC_iLaBJN6eQ",
    "outputId": "6a406bb9-067b-4223-e4d2-2a79e0e20d88"
   },
   "outputs": [],
   "source": [
    "pred_flat = pred.flatten()\n",
    "y_test_flat = y_test.flatten()\n",
    "\n",
    "# Create a DataFrame to compare predictions and actual values\n",
    "result_df = pd.DataFrame({'Prediction': pred_flat, 'Actual': y_test_flat})\n",
    "\n",
    "result_df.index = test_set.index[-6:]\n",
    "\n",
    "print(result_df)"
   ]
  },
  {
   "cell_type": "code",
   "execution_count": null,
   "metadata": {
    "colab": {
     "base_uri": "https://localhost:8080/",
     "height": 514
    },
    "id": "2IK1HkOfGXn7",
    "outputId": "c538fee4-6018-437e-e16c-c6a23f0cb2c7"
   },
   "outputs": [],
   "source": [
    "plt.figure(figsize=(10, 6))\n",
    "plt.plot(result_df.index, result_df['Prediction'], label='Prediction')\n",
    "plt.plot(result_df.index, result_df['Actual'], label='Actual')\n",
    "plt.xlabel('Year')\n",
    "plt.ylabel('Value')\n",
    "plt.title('Predicted vs Actual Values')\n",
    "plt.legend()\n",
    "plt.grid(True)\n",
    "plt.show()"
   ]
  },
  {
   "cell_type": "markdown",
   "metadata": {
    "id": "__bD63WVhODI"
   },
   "source": [
    "# Forecasting Validation on the val set"
   ]
  },
  {
   "cell_type": "code",
   "execution_count": null,
   "metadata": {
    "colab": {
     "base_uri": "https://localhost:8080/",
     "height": 95
    },
    "id": "GDIuZlCVgC_7",
    "outputId": "4a529972-711d-4b66-f308-f5066ef3c7b5"
   },
   "outputs": [],
   "source": [
    "pred_val = saved_model.predict(x_val)\n",
    "\n",
    "print_metrics(pred_val, y_val, 'Transformer_Scores')"
   ]
  },
  {
   "cell_type": "code",
   "execution_count": null,
   "metadata": {
    "colab": {
     "base_uri": "https://localhost:8080/"
    },
    "id": "TuitQMzLhNG9",
    "outputId": "c6cc0eb4-bfad-4fa4-b91b-09f5a83e35d0"
   },
   "outputs": [],
   "source": [
    "pred_val_flat = pred_val.flatten()\n",
    "y_val_flat = y_val.flatten()\n",
    "\n",
    "# Create a DataFrame to compare predictions and actual values\n",
    "result_df_val = pd.DataFrame({'Prediction': pred_val_flat, 'Actual': y_val_flat})\n",
    "\n",
    "result_df_val.index = validate_set.index[-5:]\n",
    "\n",
    "print(result_df_val)"
   ]
  },
  {
   "cell_type": "code",
   "execution_count": null,
   "metadata": {
    "colab": {
     "base_uri": "https://localhost:8080/",
     "height": 514
    },
    "id": "DUmIMhEIhNIT",
    "outputId": "5812e7b7-c0b8-4fce-961b-5da385673f1f"
   },
   "outputs": [],
   "source": [
    "plt.figure(figsize=(10, 6))\n",
    "plt.plot(result_df_val.index, result_df_val['Prediction'], label='Prediction')\n",
    "plt.plot(result_df_val.index, result_df_val['Actual'], label='Actual')\n",
    "plt.xlabel('Year')\n",
    "plt.ylabel('Value')\n",
    "plt.title('Predicted vs Actual Values')\n",
    "plt.legend()\n",
    "plt.grid(True)\n",
    "plt.xticks(rotation=45)\n",
    "plt.show()"
   ]
  },
  {
   "cell_type": "markdown",
   "metadata": {
    "id": "zee9DSG4hNJm"
   },
   "source": [
    "# Ensembling of the 2 Best Models "
   ]
  },
  {
   "cell_type": "code",
   "execution_count": null,
   "metadata": {},
   "outputs": [],
   "source": [
    "model_a = load_model('Transformers_Best_Models_and_weights/best_model_weights_89.2867.hdf5')\n",
    "model_b = load_model('Transformers_Best_Models_and_weights/best_model_weightss_89_R2_0.98.hdf5')"
   ]
  },
  {
   "cell_type": "code",
   "execution_count": null,
   "metadata": {},
   "outputs": [],
   "source": [
    "pred_a = model_a.predict(x_test)\n",
    "pred_b = model_b.predict(x_test)"
   ]
  },
  {
   "cell_type": "code",
   "execution_count": null,
   "metadata": {},
   "outputs": [],
   "source": [
    "val_pred_a = model_a.predict(x_val)\n",
    "val_pred_b = model_b.predict(x_val)"
   ]
  },
  {
   "cell_type": "code",
   "execution_count": null,
   "metadata": {},
   "outputs": [],
   "source": [
    "weight_model_a = 0.6\n",
    "weight_model_b = 0.4"
   ]
  },
  {
   "cell_type": "code",
   "execution_count": null,
   "metadata": {},
   "outputs": [],
   "source": [
    "ensemble_pred = (weight_model_a * pred_a) + (weight_model_b * pred_b)\n",
    "\n",
    "ensemble_pred_val = ((weight_model_a * val_pred_a) + (weight_model_b * val_pred_b))"
   ]
  },
  {
   "cell_type": "markdown",
   "metadata": {
    "jp-MarkdownHeadingCollapsed": true
   },
   "source": [
    "# Forecasting using the Ensembled Models"
   ]
  },
  {
   "cell_type": "code",
   "execution_count": null,
   "metadata": {},
   "outputs": [],
   "source": [
    "print_metrics(ensemble_pred, y_test, 'Transformer_Ensembled_Scores_TEST')"
   ]
  },
  {
   "cell_type": "code",
   "execution_count": null,
   "metadata": {},
   "outputs": [],
   "source": [
    "print_metrics(ensemble_pred_val, y_val, 'Transformer_Ensembled_Scores_val')"
   ]
  },
  {
   "cell_type": "code",
   "execution_count": null,
   "metadata": {},
   "outputs": [],
   "source": [
    "pred_ensembled_flat = ensemble_pred.flatten()\n",
    "y_test_flat = y_test.flatten()\n",
    "\n",
    "# Create a DataFrame to compare predictions and actual values\n",
    "ensembled_result_df = pd.DataFrame({'Prediction': pred_ensembled_flat, 'Actual': y_test_flat})\n",
    "\n",
    "ensembled_result_df.index = test_set.index[-127:]\n",
    "\n",
    "print(\"TEST Set:\")\n",
    "print(\"\\n\")\n",
    "print(ensembled_result_df)\n",
    "\n",
    "pred_ensembled_val_flat = ensemble_pred_val.flatten()\n",
    "y_val_flat = y_val.flatten()\n",
    "\n",
    "# Create a DataFrame to compare predictions and actual values\n",
    "ensembled_result_val_df = pd.DataFrame({'Prediction': pred_ensembled_val_flat, 'Actual': y_val_flat})\n",
    "\n",
    "ensembled_result_val_df.index = validate_set.index[-115:]\n",
    "\n",
    "print(\"\\n\")\n",
    "print(\"VAL Set:\")\n",
    "print(\"\\n\")\n",
    "print(ensembled_result_val_df)"
   ]
  },
  {
   "cell_type": "code",
   "execution_count": null,
   "metadata": {},
   "outputs": [],
   "source": [
    "plt.figure(figsize=(10, 6))\n",
    "plt.plot(result_df.index, ensembled_result_df['Prediction'], label='Prediction')\n",
    "plt.plot(result_df.index, ensembled_result_df['Actual'], label='Actual')\n",
    "plt.xlabel('Year')\n",
    "plt.ylabel('Value')\n",
    "plt.title('Test Set: Predicted vs Actual Values')\n",
    "plt.legend()\n",
    "plt.grid(True)\n",
    "plt.show()\n",
    "\n",
    "plt.figure(figsize=(10, 6))\n",
    "plt.plot(result_df_val.index, ensembled_result_val_df['Prediction'], label='Prediction')\n",
    "plt.plot(result_df_val.index, ensembled_result_val_df['Actual'], label='Actual')\n",
    "plt.xlabel('Year')\n",
    "plt.ylabel('Value')\n",
    "plt.title('Val set: Predicted vs Actual Values')\n",
    "plt.legend()\n",
    "plt.grid(True)\n",
    "plt.show()"
   ]
  },
  {
   "cell_type": "markdown",
   "metadata": {},
   "source": [
    "# Forecasting Future Values 2021-02-01 until 2024-01-01"
   ]
  },
  {
   "cell_type": "markdown",
   "metadata": {},
   "source": [
    "**Creating our dataframe** "
   ]
  },
  {
   "cell_type": "code",
   "execution_count": null,
   "metadata": {},
   "outputs": [],
   "source": [
    "forecast_start_date = pd.Timestamp(\"2021-02-01\")  \n",
    "forecast_end_date = pd.Timestamp(\"2024-01-01\")    \n",
    "forecast_index = pd.date_range(start=forecast_start_date, end=forecast_end_date, freq='MS')\n",
    "\n",
    "\n",
    "forecast_df = pd.DataFrame(index=forecast_index)\n",
    "\n",
    "#print(forecast_df)"
   ]
  },
  {
   "cell_type": "markdown",
   "metadata": {},
   "source": [
    "**Forecasting our Values + gaining insights into the input-output process**"
   ]
  },
  {
   "cell_type": "code",
   "execution_count": null,
   "metadata": {
    "scrolled": true
   },
   "outputs": [],
   "source": [
    "initial_sequence = x_val[-5]\n",
    "forecast_horizon = 36\n",
    "\n",
    "dates = []\n",
    "predicted_values = []\n",
    "\n",
    "for year in range(forecast_horizon):\n",
    "    # Predict the next value using the trained model\n",
    "    predicted_value = saved_model.predict(np.expand_dims(initial_sequence, axis=0))\n",
    "\n",
    "    predicted_values.append(predicted_value)\n",
    "    \n",
    "    print(f\"Year: {year + 1}\")\n",
    "    print(f\"Initial Sequence: {initial_sequence}\")\n",
    "    print(f\"Predicted Value: {predicted_value}\")\n",
    "    \n",
    "    # Updating the initial sequence for the next prediction\n",
    "    initial_sequence = np.concatenate([initial_sequence[1:], predicted_value], axis=0)\n",
    "\n",
    "predicted_values_array = np.array(predicted_values).squeeze()\n",
    "\n",
    "# Add the forecasted values as a new column to the DataFrame\n",
    "forecast_df[\"Forecasted_Value\"] = predicted_values_array\n",
    "\n",
    "print(forecast_df)"
   ]
  },
  {
   "cell_type": "code",
   "execution_count": null,
   "metadata": {},
   "outputs": [],
   "source": [
    "plt.figure(figsize=(10, 6))\n",
    "plt.plot(forecast_df.index, forecast_df[\"Forecasted_Value\"], label=\"Forecasted Values\")\n",
    "plt.xlabel(\"Date\")\n",
    "plt.ylabel(\"Forecasted Value\")\n",
    "plt.title(\"Forecasted Values from 2022 to 2030\")\n",
    "plt.legend()\n",
    "plt.xticks(rotation=45)  # Rotate x-axis labels for better readability\n",
    "plt.tight_layout()\n",
    "plt.show()"
   ]
  },
  {
   "cell_type": "code",
   "execution_count": null,
   "metadata": {},
   "outputs": [],
   "source": []
  }
 ],
 "metadata": {
  "accelerator": "GPU",
  "colab": {
   "collapsed_sections": [
    "_QA2gkAI7yqR",
    "bFmhe3p171U-",
    "0JRtDG_sdx7D",
    "ZRwUSHvpdp0O",
    "Tgq1ukssXFX9",
    "huSns1vJdlkO",
    "nlePrpfKBgtB"
   ],
   "gpuType": "T4",
   "provenance": []
  },
  "kernelspec": {
   "display_name": "Python 3 (ipykernel)",
   "language": "python",
   "name": "python3"
  },
  "language_info": {
   "codemirror_mode": {
    "name": "ipython",
    "version": 3
   },
   "file_extension": ".py",
   "mimetype": "text/x-python",
   "name": "python",
   "nbconvert_exporter": "python",
   "pygments_lexer": "ipython3",
   "version": "3.10.9"
  }
 },
 "nbformat": 4,
 "nbformat_minor": 4
}
